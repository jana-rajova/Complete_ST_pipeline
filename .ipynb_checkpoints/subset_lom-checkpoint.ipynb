{
 "cells": [
  {
   "cell_type": "code",
   "execution_count": 1,
   "id": "378b2386",
   "metadata": {
    "scrolled": true
   },
   "outputs": [],
   "source": [
    "def convert_loom_to_anndata(loom_file, ca_list=[], ra_list=[], ca_index='CellID', ra_index='Accession'):\n",
    "    attr_lists = [ca_list, ra_list]\n",
    "    \n",
    "    # if attr lists are empy, keep original columns/rows\n",
    "    for idx, attr_list in enumerate(attr_lists):\n",
    "        if len(attr_lists[idx]) == 0:\n",
    "            if idx == 0: \n",
    "                attr_lists[idx] = loom_file.ca.keys()\n",
    "            elif idx == 1: \n",
    "                attr_lists[idx] = loom_file.ra.keys()\n",
    "    \n",
    "    # select index columns for the dataframes\n",
    "    attr_indexes = [ca_index, ra_index]\n",
    "    for idx, index in enumerate(attr_indexes):\n",
    "        if type(index) == int:\n",
    "            attr_indexes[idx] = attr_lists[idx][index]\n",
    "        elif type(index) == str:\n",
    "            assert index in attr_lists[idx]\n",
    "    print(f'The indeces for var and obs will be assigned to {attr_indexes[0]} and {attr_indexes[1]}')\n",
    "    \n",
    "    # create var and obs dataframes with defined columns and indexes (indices)\n",
    "    ad_attr = [pd.DataFrame(), pd.DataFrame()]\n",
    "    for idx, attr_list in enumerate(attr_lists):\n",
    "        for attr in attr_list:\n",
    "            if idx == 0: \n",
    "                ad_attr[idx][attr] = loom_file.ca[attr]\n",
    "            elif idx == 1: \n",
    "                ad_attr[idx][attr] = loom_file.ra[attr]\n",
    "        ad_attr[idx].index = ad_attr[idx][attr_indexes[idx]]\n",
    "\n",
    "    adata = ad.AnnData(X = loom_file[:, :].T, var=ad_attr[1], obs=ad_attr[0])\n",
    "        \n",
    "    return adata"
   ]
  },
  {
   "cell_type": "code",
   "execution_count": 2,
   "id": "c81df84d",
   "metadata": {},
   "outputs": [
    {
     "name": "stderr",
     "output_type": "stream",
     "text": [
      "OMP: Info #276: omp_set_nested routine deprecated, please use omp_set_max_active_levels instead.\n"
     ]
    }
   ],
   "source": [
    "import pickle\n",
    "from datetime import date\n",
    "import os\n",
    "import loompy\n",
    "import pandas as pd\n",
    "import scanpy as sc\n",
    "import anndata as ad\n",
    "import numpy as np"
   ]
  },
  {
   "cell_type": "code",
   "execution_count": 3,
   "id": "73436496",
   "metadata": {},
   "outputs": [
    {
     "name": "stdout",
     "output_type": "stream",
     "text": [
      "../../data/stereoscope_reference/single_cell_data/L5_200922/\n"
     ]
    }
   ],
   "source": [
    "today = date.today()\n",
    "\n",
    "input_folder = '../../data/stereoscope_reference/single_cell_data/original/Linnarsson_mouse_brain_all/'\n",
    "\n",
    "output_path = '../../data/stereoscope_reference/single_cell_data/'\n",
    "output_folder = f'{output_path}L5_{today.strftime(\"%d%m%y\")}/'\n",
    "print(output_folder)\n",
    "os.makedirs(output_folder, exist_ok=True)"
   ]
  },
  {
   "cell_type": "code",
   "execution_count": 4,
   "id": "4b22468f",
   "metadata": {},
   "outputs": [
    {
     "name": "stdout",
     "output_type": "stream",
     "text": [
      "loompy                    3.0.7                    pypi_0    pypi\r\n"
     ]
    }
   ],
   "source": [
    "# if you have problems with loading a package, check  if it is installed in the environment\n",
    "!conda list | grep \"loompy\""
   ]
  },
  {
   "cell_type": "code",
   "execution_count": 4,
   "id": "d8d1659a",
   "metadata": {
    "scrolled": true
   },
   "outputs": [
    {
     "data": {
      "text/html": [
       "<p>27998 rows, 160796 columns, 1 layer<br/>(showing up to 10x10)<br/>../../data/stereoscope_reference/single_cell_data/original/Linnarsson_mouse_brain_all/L5_All.loom<br/>name: <em>2018/01/26 22:15:53</em><br/>name: <em>20210925T173424.135322Z</em><br/><table><tr><td>&nbsp;</td><td>&nbsp;</td><td>&nbsp;</td><td>&nbsp;</td><td>&nbsp;</td><td>&nbsp;</td><td>&nbsp;</td><td>&nbsp;</td><td><strong>Age</strong></td><td>p21, p23</td><td>p21, p23</td><td>p21, p23</td><td>p21, p23</td><td>p21, p23</td><td>p21, p23</td><td>p19, p21</td><td>p19, p21</td><td>p21, p23</td><td>p19, p21</td><td>...</td></tr><tr><td>&nbsp;</td><td>&nbsp;</td><td>&nbsp;</td><td>&nbsp;</td><td>&nbsp;</td><td>&nbsp;</td><td>&nbsp;</td><td>&nbsp;</td><td><strong>AnalysisPool</strong></td><td>Enteric</td><td>Enteric</td><td>Enteric</td><td>Enteric</td><td>Enteric</td><td>Enteric</td><td>Enteric</td><td>Enteric</td><td>Enteric</td><td>Enteric</td><td>...</td></tr><tr><td>&nbsp;</td><td>&nbsp;</td><td>&nbsp;</td><td>&nbsp;</td><td>&nbsp;</td><td>&nbsp;</td><td>&nbsp;</td><td>&nbsp;</td><td><strong>AnalysisProject</strong></td><td>Adolescent</td><td>Adolescent</td><td>Adolescent</td><td>Adolescent</td><td>Adolescent</td><td>Adolescent</td><td>Adolescent</td><td>Adolescent</td><td>Adolescent</td><td>Adolescent</td><td>...</td></tr><tr><td>&nbsp;</td><td>&nbsp;</td><td>&nbsp;</td><td>&nbsp;</td><td>&nbsp;</td><td>&nbsp;</td><td>&nbsp;</td><td>&nbsp;</td><td><strong>Bucket</strong></td><td>/Users/sten/build_20171205/L4_Enteric_Neurons.loom</td><td>/Users/sten/build_20171205/L4_Enteric_Neurons.loom</td><td>/Users/sten/build_20171205/L4_Enteric_Neurons.loom</td><td>/Users/sten/build_20171205/L4_Enteric_Neurons.loom</td><td>/Users/sten/build_20171205/L4_Enteric_Neurons.loom</td><td>/Users/sten/build_20171205/L4_Enteric_Neurons.loom</td><td>/Users/sten/build_20171205/L4_Enteric_Neurons.loom</td><td>/Users/sten/build_20171205/L4_Enteric_Neurons.loom</td><td>/Users/sten/build_20171205/L4_Enteric_Neurons.loom</td><td>/Users/sten/build_20171205/L4_Enteric_Neurons.loom</td><td>...</td></tr><tr><td>&nbsp;</td><td>&nbsp;</td><td>&nbsp;</td><td>&nbsp;</td><td>&nbsp;</td><td>&nbsp;</td><td>&nbsp;</td><td>&nbsp;</td><td><strong>CellConc</strong></td><td>1000</td><td>1000</td><td>1000</td><td>1000</td><td>1000</td><td>1000</td><td>1000</td><td>1000</td><td>1000</td><td>1000</td><td>...</td></tr><tr><td>&nbsp;</td><td>&nbsp;</td><td>&nbsp;</td><td>&nbsp;</td><td>&nbsp;</td><td>&nbsp;</td><td>&nbsp;</td><td>&nbsp;</td><td><strong>CellID</strong></td><td>10X82_2_TCTCTCACCAGTTA-</td><td>10X82_2_TATTATCTACCAGA-</td><td>10X82_2_TATCCCAGATGGCA-</td><td>10X82_2_ATTACGTATGAATG-</td><td>10X82_2_ATACGTCAATAAGG-</td><td>10X82_2_TACAGTCTTCGGTC-</td><td>10X81_2_CGTAACATTCGACA-</td><td>10X81_3_TGATGAGATACACA-</td><td>10X82_2_GCCAGGTAGGACAC-</td><td>10X81_2_AGATCAGTCCGTAT-</td><td>...</td></tr><tr><td>&nbsp;</td><td>&nbsp;</td><td>&nbsp;</td><td>&nbsp;</td><td>&nbsp;</td><td>&nbsp;</td><td>&nbsp;</td><td>&nbsp;</td><td><strong>ChipID</strong></td><td>10X82</td><td>10X82</td><td>10X82</td><td>10X82</td><td>10X82</td><td>10X82</td><td>10X81</td><td>10X81</td><td>10X82</td><td>10X81</td><td>...</td></tr><tr><td>&nbsp;</td><td>&nbsp;</td><td>&nbsp;</td><td>&nbsp;</td><td>&nbsp;</td><td>&nbsp;</td><td>&nbsp;</td><td>&nbsp;</td><td><strong>Class</strong></td><td>Neurons</td><td>Neurons</td><td>Neurons</td><td>Neurons</td><td>Neurons</td><td>Neurons</td><td>Neurons</td><td>Neurons</td><td>Neurons</td><td>Neurons</td><td>...</td></tr><tr><td>&nbsp;</td><td>&nbsp;</td><td>&nbsp;</td><td>&nbsp;</td><td>&nbsp;</td><td>&nbsp;</td><td>&nbsp;</td><td>&nbsp;</td><td><strong>ClassProbability_Astrocyte</strong></td><td>0.0019066928357193203</td><td>0.0016280432367160702</td><td>0.001442371119771456</td><td>0.0014588527727608211</td><td>0.0013114769769024266</td><td>0.001401728372893371</td><td>0.0015184785192116678</td><td>0.0016035799690204849</td><td>0.0014427321058514797</td><td>0.0014199397313300632</td><td>...</td></tr><tr><td>&nbsp;</td><td>&nbsp;</td><td>&nbsp;</td><td>&nbsp;</td><td>&nbsp;</td><td>&nbsp;</td><td>&nbsp;</td><td>&nbsp;</td><td><strong>ClassProbability_Astrocyte,Immune</strong></td><td>0.00048062321574226374</td><td>0.0004227793201626071</td><td>0.0003650463779465638</td><td>0.0003772070059891973</td><td>0.0003417394428646381</td><td>0.0003580446839276589</td><td>0.00040760794015975554</td><td>0.00043385576285106896</td><td>0.0003785113441852317</td><td>0.00038650050961498917</td><td>...</td></tr><tr><td>&nbsp;</td><td>&nbsp;</td><td>&nbsp;</td><td>&nbsp;</td><td>&nbsp;</td><td>&nbsp;</td><td>&nbsp;</td><td>&nbsp;</td><td><strong>ClassProbability_Astrocyte,Neurons</strong></td><td>0.0025533596211774617</td><td>0.0023433597390213642</td><td>0.0021114112935140326</td><td>0.0021700394870497754</td><td>0.0020681886584825023</td><td>0.0020929032661028517</td><td>0.002376750903863037</td><td>0.0024868854826892712</td><td>0.0021762483715224044</td><td>0.002345536255842545</td><td>...</td></tr><tr><td>&nbsp;</td><td>&nbsp;</td><td>&nbsp;</td><td>&nbsp;</td><td>&nbsp;</td><td>&nbsp;</td><td>&nbsp;</td><td>&nbsp;</td><td><strong>ClassProbability_Astrocyte,Oligos</strong></td><td>0.0006670936568702583</td><td>0.0005877984495726976</td><td>0.0005211472861012347</td><td>0.0005339644891281178</td><td>0.0004908467278871925</td><td>0.0005062413192018135</td><td>0.0005659122144918332</td><td>0.0005973698254594816</td><td>0.000530535089388164</td><td>0.000538903900860415</td><td>...</td></tr><tr><td>&nbsp;</td><td>&nbsp;</td><td>&nbsp;</td><td>&nbsp;</td><td>&nbsp;</td><td>&nbsp;</td><td>&nbsp;</td><td>&nbsp;</td><td><strong>ClassProbability_Astrocyte,Vascular</strong></td><td>0.00032890901956911695</td><td>0.0002906662972148636</td><td>0.00025268148831791056</td><td>0.0002597507160844444</td><td>0.00023794409272694705</td><td>0.0002486386902480219</td><td>0.0002801259249998828</td><td>0.0002975176483252554</td><td>0.00026153497673650966</td><td>0.0002661326579808874</td><td>...</td></tr><tr><td>&nbsp;</td><td>&nbsp;</td><td>&nbsp;</td><td>&nbsp;</td><td>&nbsp;</td><td>&nbsp;</td><td>&nbsp;</td><td>&nbsp;</td><td><strong>ClassProbability_Bergmann-glia</strong></td><td>0.0006021304061321051</td><td>0.0005278648514793478</td><td>0.0004678213347881837</td><td>0.00047719474519461805</td><td>0.0004406837947840928</td><td>0.00046078317754746266</td><td>0.0005064487585028127</td><td>0.0005368181151650369</td><td>0.00047662006611402113</td><td>0.0004817954779698832</td><td>...</td></tr><tr><td>&nbsp;</td><td>&nbsp;</td><td>&nbsp;</td><td>&nbsp;</td><td>&nbsp;</td><td>&nbsp;</td><td>&nbsp;</td><td>&nbsp;</td><td><strong>ClassProbability_Blood</strong></td><td>0.0028788790687086685</td><td>0.0025276473701734887</td><td>0.00221540763927398</td><td>0.002249612262305765</td><td>0.002011442694227042</td><td>0.0021633251871957205</td><td>0.00237481062651619</td><td>0.0024802405666547794</td><td>0.0022545500552425893</td><td>0.0022348517671300005</td><td>...</td></tr><tr><td>&nbsp;</td><td>&nbsp;</td><td>&nbsp;</td><td>&nbsp;</td><td>&nbsp;</td><td>&nbsp;</td><td>&nbsp;</td><td>&nbsp;</td><td><strong>ClassProbability_Blood,Vascular</strong></td><td>0.0006191506117083463</td><td>0.0005432699373263684</td><td>0.0004715683880311031</td><td>0.0004837026812500848</td><td>0.00044107362712457406</td><td>0.00046171952307332893</td><td>0.0005215727029937826</td><td>0.0005541879512596946</td><td>0.0004870991929730752</td><td>0.0004943284246369773</td><td>...</td></tr><tr><td>&nbsp;</td><td>&nbsp;</td><td>&nbsp;</td><td>&nbsp;</td><td>&nbsp;</td><td>&nbsp;</td><td>&nbsp;</td><td>&nbsp;</td><td><strong>ClassProbability_Enteric-glia</strong></td><td>0.0018833626694920674</td><td>0.001555933690571393</td><td>0.0013386089563396262</td><td>0.0013702341092527693</td><td>0.0012169049925699633</td><td>0.0012943680233867612</td><td>0.0014253060724085265</td><td>0.001529759264519993</td><td>0.0013451520244624285</td><td>0.0013204379302521757</td><td>...</td></tr><tr><td>&nbsp;</td><td>&nbsp;</td><td>&nbsp;</td><td>&nbsp;</td><td>&nbsp;</td><td>&nbsp;</td><td>&nbsp;</td><td>&nbsp;</td><td><strong>ClassProbability_Enteric-glia,Cycling</strong></td><td>0.00047371208486702963</td><td>0.0004116661928577629</td><td>0.0003498495465004705</td><td>0.00036327737285287234</td><td>0.00032524500659529494</td><td>0.000341831387994125</td><td>0.0003970912862876594</td><td>0.000425305378127812</td><td>0.00036481084043019687</td><td>0.0003746522731756592</td><td>...</td></tr><tr><td>&nbsp;</td><td>&nbsp;</td><td>&nbsp;</td><td>&nbsp;</td><td>&nbsp;</td><td>&nbsp;</td><td>&nbsp;</td><td>&nbsp;</td><td><strong>ClassProbability_Ependymal</strong></td><td>0.002207593331001832</td><td>0.0017137425761195512</td><td>0.001448426749887809</td><td>0.001489316002423615</td><td>0.001297622227911684</td><td>0.001410177627135135</td><td>0.0015263668049394822</td><td>0.0016482237845108297</td><td>0.0014415617032493228</td><td>0.0013892018482000903</td><td>...</td></tr><tr><td>&nbsp;</td><td>&nbsp;</td><td>&nbsp;</td><td>&nbsp;</td><td>&nbsp;</td><td>&nbsp;</td><td>&nbsp;</td><td>&nbsp;</td><td><strong>ClassProbability_Ex-Neurons</strong></td><td>0.0010045876405575405</td><td>0.000934480249678178</td><td>0.0008501175711066832</td><td>0.0008660609326529496</td><td>0.0007870884251839895</td><td>0.0008529612141203163</td><td>0.0008961281623621632</td><td>0.0009354131474982341</td><td>0.000858550530183164</td><td>0.0008528275142150483</td><td>...</td></tr><tr><td>&nbsp;</td><td>&nbsp;</td><td>&nbsp;</td><td>&nbsp;</td><td>&nbsp;</td><td>&nbsp;</td><td>&nbsp;</td><td>&nbsp;</td><td><strong>ClassProbability_Ex-Vascular</strong></td><td>0.0001459938990927071</td><td>0.00012996447114368918</td><td>0.0001125315289540204</td><td>0.00011635881251914295</td><td>0.00010698314201590162</td><td>0.00011149998273658719</td><td>0.0001256730913305302</td><td>0.0001336946829648558</td><td>0.00011715623615897768</td><td>0.00011960279079757614</td><td>...</td></tr><tr><td>&nbsp;</td><td>&nbsp;</td><td>&nbsp;</td><td>&nbsp;</td><td>&nbsp;</td><td>&nbsp;</td><td>&nbsp;</td><td>&nbsp;</td><td><strong>ClassProbability_Immune</strong></td><td>0.00350454518599244</td><td>0.0023966934094545376</td><td>0.0018945780964320729</td><td>0.001975812539235326</td><td>0.0016064712709044312</td><td>0.001810457046817763</td><td>0.0020512641976741836</td><td>0.002279009112190006</td><td>0.0018806947914581894</td><td>0.001811732236276707</td><td>...</td></tr><tr><td>&nbsp;</td><td>&nbsp;</td><td>&nbsp;</td><td>&nbsp;</td><td>&nbsp;</td><td>&nbsp;</td><td>&nbsp;</td><td>&nbsp;</td><td><strong>ClassProbability_Immune,Neurons</strong></td><td>0.000662257665583963</td><td>0.0005969179558071455</td><td>0.0005281250377622326</td><td>0.0005417530371840914</td><td>0.0005011195224285445</td><td>0.0005259130316756918</td><td>0.0005736832092977721</td><td>0.0006013171845747656</td><td>0.0005454504666898827</td><td>0.000549063733293101</td><td>...</td></tr><tr><td>&nbsp;</td><td>&nbsp;</td><td>&nbsp;</td><td>&nbsp;</td><td>&nbsp;</td><td>&nbsp;</td><td>&nbsp;</td><td>&nbsp;</td><td><strong>ClassProbability_Immune,Oligos</strong></td><td>0.0005286917231799758</td><td>0.0004692380898272252</td><td>0.00040958797214321884</td><td>0.000421880764328479</td><td>0.0003877967236936938</td><td>0.0004032499492749987</td><td>0.00045158033934496585</td><td>0.0004788000472432216</td><td>0.0004234154917911925</td><td>0.0004297297779643804</td><td>...</td></tr><tr><td>&nbsp;</td><td>&nbsp;</td><td>&nbsp;</td><td>&nbsp;</td><td>&nbsp;</td><td>&nbsp;</td><td>&nbsp;</td><td>&nbsp;</td><td><strong>ClassProbability_Neurons</strong></td><td>0.9608778033827706</td><td>0.9670839756118221</td><td>0.9711858571438227</td><td>0.9704583367058057</td><td>0.9733968765565986</td><td>0.971787620395414</td><td>0.9693982218875178</td><td>0.9675929256897675</td><td>0.9709620487633494</td><td>0.9713714761825613</td><td>...</td></tr><tr><td>&nbsp;</td><td>&nbsp;</td><td>&nbsp;</td><td>&nbsp;</td><td>&nbsp;</td><td>&nbsp;</td><td>&nbsp;</td><td>&nbsp;</td><td><strong>ClassProbability_Neurons,Cycling</strong></td><td>0.0011134257010490987</td><td>0.0009976737748063492</td><td>0.000894143447099845</td><td>0.000909070542749431</td><td>0.000853522766554483</td><td>0.0008616755586599845</td><td>0.0009780047953115165</td><td>0.0010234886495545574</td><td>0.0009149361693981203</td><td>0.0009375396198144895</td><td>...</td></tr><tr><td>&nbsp;</td><td>&nbsp;</td><td>&nbsp;</td><td>&nbsp;</td><td>&nbsp;</td><td>&nbsp;</td><td>&nbsp;</td><td>&nbsp;</td><td><strong>ClassProbability_Neurons,Oligos</strong></td><td>0.004569397477944349</td><td>0.00432233409916403</td><td>0.003966201226114598</td><td>0.0041383771754911714</td><td>0.003954267031061573</td><td>0.0040438057309485015</td><td>0.0041264048499484035</td><td>0.004330825315328404</td><td>0.004071890520905673</td><td>0.0039786237636289705</td><td>...</td></tr><tr><td>&nbsp;</td><td>&nbsp;</td><td>&nbsp;</td><td>&nbsp;</td><td>&nbsp;</td><td>&nbsp;</td><td>&nbsp;</td><td>&nbsp;</td><td><strong>ClassProbability_Neurons,Satellite-glia</strong></td><td>0.00011917354467899535</td><td>0.00010657583976920006</td><td>9.201380323388765e-05</td><td>9.551082255737832e-05</td><td>8.795992650451692e-05</td><td>9.0948283685343e-05</td><td>0.00010422325669351476</td><td>0.00011150437298716692</td><td>9.622525198705592e-05</td><td>9.993050431941479e-05</td><td>...</td></tr><tr><td>&nbsp;</td><td>&nbsp;</td><td>&nbsp;</td><td>&nbsp;</td><td>&nbsp;</td><td>&nbsp;</td><td>&nbsp;</td><td>&nbsp;</td><td><strong>ClassProbability_Neurons,Vascular</strong></td><td>0.00011276573122429777</td><td>0.00010140124966108102</td><td>8.83794498169256e-05</td><td>9.13128084981721e-05</td><td>8.462548574785925e-05</td><td>8.722530143227708e-05</td><td>9.913539984068001e-05</td><td>0.0001056946167785987</td><td>9.220445356816403e-05</td><td>9.517306109228991e-05</td><td>...</td></tr><tr><td>&nbsp;</td><td>&nbsp;</td><td>&nbsp;</td><td>&nbsp;</td><td>&nbsp;</td><td>&nbsp;</td><td>&nbsp;</td><td>&nbsp;</td><td><strong>ClassProbability_OEC</strong></td><td>0.0001273784837035599</td><td>0.00011422944188442962</td><td>9.826260067867309e-05</td><td>0.0001016637030129996</td><td>9.501059598103876e-05</td><td>9.867209143435547e-05</td><td>0.00011143396360607158</td><td>0.00011866028286648155</td><td>0.00010318921970184461</td><td>0.00010663644541525065</td><td>...</td></tr><tr><td>&nbsp;</td><td>&nbsp;</td><td>&nbsp;</td><td>&nbsp;</td><td>&nbsp;</td><td>&nbsp;</td><td>&nbsp;</td><td>&nbsp;</td><td><strong>ClassProbability_Oligos</strong></td><td>0.004646110245557772</td><td>0.004021176792157159</td><td>0.003629215089204772</td><td>0.0036620596076758524</td><td>0.003241417555106437</td><td>0.003510086719711667</td><td>0.003577694603900779</td><td>0.0036590750099886656</td><td>0.0035075735320976202</td><td>0.003262772831235093</td><td>...</td></tr><tr><td>&nbsp;</td><td>&nbsp;</td><td>&nbsp;</td><td>&nbsp;</td><td>&nbsp;</td><td>&nbsp;</td><td>&nbsp;</td><td>&nbsp;</td><td><strong>ClassProbability_Oligos,Cycling</strong></td><td>0.0008492396681580167</td><td>0.0007789840343775811</td><td>0.0006912113968388298</td><td>0.0006999272936358772</td><td>0.0006582995831538452</td><td>0.000692705544945497</td><td>0.0007430570450894784</td><td>0.0007695432925836191</td><td>0.0007093656920054993</td><td>0.0007081109119086842</td><td>...</td></tr><tr><td>&nbsp;</td><td>&nbsp;</td><td>&nbsp;</td><td>&nbsp;</td><td>&nbsp;</td><td>&nbsp;</td><td>&nbsp;</td><td>&nbsp;</td><td><strong>ClassProbability_Oligos,Vascular</strong></td><td>0.00044734236326048694</td><td>0.0003959615154809052</td><td>0.0003458461534185453</td><td>0.00035599865104449767</td><td>0.0003263037684400728</td><td>0.0003396006067486628</td><td>0.00038034640807156774</td><td>0.00040426687366851955</td><td>0.0003565833628555505</td><td>0.0003611263166656032</td><td>...</td></tr><tr><td>&nbsp;</td><td>&nbsp;</td><td>&nbsp;</td><td>&nbsp;</td><td>&nbsp;</td><td>&nbsp;</td><td>&nbsp;</td><td>&nbsp;</td><td><strong>ClassProbability_Satellite-glia</strong></td><td>0.0003198394263748218</td><td>0.0002823588536054894</td><td>0.00026210771663682766</td><td>0.0002656090391901621</td><td>0.0002469711101888922</td><td>0.00025032057292416997</td><td>0.0002786549662178134</td><td>0.00028554749282341997</td><td>0.00026516051976470286</td><td>0.00026108750375122543</td><td>...</td></tr><tr><td>&nbsp;</td><td>&nbsp;</td><td>&nbsp;</td><td>&nbsp;</td><td>&nbsp;</td><td>&nbsp;</td><td>&nbsp;</td><td>&nbsp;</td><td><strong>ClassProbability_Satellite-glia,Cycling</strong></td><td>0.00031143287757219053</td><td>0.0002722614721149537</td><td>0.0002320911708352696</td><td>0.0002409822937349214</td><td>0.00021680934266293675</td><td>0.0002275317176734654</td><td>0.00026284531002142666</td><td>0.00028134880754832563</td><td>0.000242000218188224</td><td>0.0002484659501323428</td><td>...</td></tr><tr><td>&nbsp;</td><td>&nbsp;</td><td>&nbsp;</td><td>&nbsp;</td><td>&nbsp;</td><td>&nbsp;</td><td>&nbsp;</td><td>&nbsp;</td><td><strong>ClassProbability_Satellite-glia,Schwann</strong></td><td>0.000204879407444955</td><td>0.00017951044376732936</td><td>0.0001525469966284366</td><td>0.00015871598464544458</td><td>0.00014323729203419516</td><td>0.00015011282840564333</td><td>0.00017336895824917947</td><td>0.00018589579625749553</td><td>0.0001594853656834523</td><td>0.00016404846237627957</td><td>...</td></tr><tr><td>&nbsp;</td><td>&nbsp;</td><td>&nbsp;</td><td>&nbsp;</td><td>&nbsp;</td><td>&nbsp;</td><td>&nbsp;</td><td>&nbsp;</td><td><strong>ClassProbability_Schwann</strong></td><td>0.0003018007082601168</td><td>0.000263412918037679</td><td>0.00022391286052999182</td><td>0.00023269471204325523</td><td>0.0002090192477423631</td><td>0.00021944489947869672</td><td>0.0002544092131019499</td><td>0.00027263737233490195</td><td>0.00023376437151241832</td><td>0.00024037985916786466</td><td>...</td></tr><tr><td>&nbsp;</td><td>&nbsp;</td><td>&nbsp;</td><td>&nbsp;</td><td>&nbsp;</td><td>&nbsp;</td><td>&nbsp;</td><td>&nbsp;</td><td><strong>ClassProbability_Ttr</strong></td><td>0.002193334639829723</td><td>0.0017568948288843357</td><td>0.0014951906324907269</td><td>0.0015356311462925445</td><td>0.0013264012039518815</td><td>0.0014388724903934204</td><td>0.0015905669238582378</td><td>0.0017104055623614156</td><td>0.001495124947323497</td><td>0.00145068131476841</td><td>...</td></tr><tr><td>&nbsp;</td><td>&nbsp;</td><td>&nbsp;</td><td>&nbsp;</td><td>&nbsp;</td><td>&nbsp;</td><td>&nbsp;</td><td>&nbsp;</td><td><strong>ClassProbability_Vascular</strong></td><td>0.003358493706775345</td><td>0.0022431832873399432</td><td>0.0018637399257799545</td><td>0.001899091783409728</td><td>0.0015866512079684655</td><td>0.0017575347748135983</td><td>0.0019228316641868618</td><td>0.0021262029420957874</td><td>0.0018058243252222716</td><td>0.0016987104436226007</td><td>...</td></tr><tr><td>&nbsp;</td><td>&nbsp;</td><td>&nbsp;</td><td>&nbsp;</td><td>&nbsp;</td><td>&nbsp;</td><td>&nbsp;</td><td>&nbsp;</td><td><strong>ClusterName</strong></td><td>ENT9</td><td>ENT9</td><td>ENT9</td><td>ENT9</td><td>ENT9</td><td>ENT9</td><td>ENT9</td><td>ENT9</td><td>ENT9</td><td>ENT9</td><td>...</td></tr><tr><td>&nbsp;</td><td>&nbsp;</td><td>&nbsp;</td><td>&nbsp;</td><td>&nbsp;</td><td>&nbsp;</td><td>&nbsp;</td><td>&nbsp;</td><td><strong>Clusters</strong></td><td>0</td><td>0</td><td>0</td><td>0</td><td>0</td><td>0</td><td>0</td><td>0</td><td>0</td><td>0</td><td>...</td></tr><tr><td>&nbsp;</td><td>&nbsp;</td><td>&nbsp;</td><td>&nbsp;</td><td>&nbsp;</td><td>&nbsp;</td><td>&nbsp;</td><td>&nbsp;</td><td><strong>Comment</strong></td><td>Marklund cluster #1</td><td>Marklund cluster #1</td><td>Marklund cluster #1</td><td>Marklund cluster #1</td><td>Marklund cluster #1</td><td>Marklund cluster #1</td><td>Marklund cluster #1</td><td>Marklund cluster #1</td><td>Marklund cluster #1</td><td>Marklund cluster #1</td><td>...</td></tr><tr><td>&nbsp;</td><td>&nbsp;</td><td>&nbsp;</td><td>&nbsp;</td><td>&nbsp;</td><td>&nbsp;</td><td>&nbsp;</td><td>&nbsp;</td><td><strong>Comments</strong></td><td>Wnt1 FACS (CMB), quite healthy suspension. Emulsion fine.</td><td>Wnt1 FACS (CMB), quite healthy suspension. Emulsion fine.</td><td>Wnt1 FACS (CMB), quite healthy suspension. Emulsion fine.</td><td>Wnt1 FACS (CMB), quite healthy suspension. Emulsion fine.</td><td>Wnt1 FACS (CMB), quite healthy suspension. Emulsion fine.</td><td>Wnt1 FACS (CMB), quite healthy suspension. Emulsion fine.</td><td>Wnt1 FACS (CMB), strong fluorescence and quite healthy suspension. Emulsions fine.</td><td>Wnt1 FACS (CMB), strong fluorescence and quite healthy suspension. Emulsions fine.</td><td>Wnt1 FACS (CMB), quite healthy suspension. Emulsion fine.</td><td>Wnt1 FACS (CMB), strong fluorescence and quite healthy suspension. Emulsions fine.</td><td>...</td></tr><tr><td>&nbsp;</td><td>&nbsp;</td><td>&nbsp;</td><td>&nbsp;</td><td>&nbsp;</td><td>&nbsp;</td><td>&nbsp;</td><td>&nbsp;</td><td><strong>DateCaptured</strong></td><td>2017-04-06</td><td>2017-04-06</td><td>2017-04-06</td><td>2017-04-06</td><td>2017-04-06</td><td>2017-04-06</td><td>2017-04-04</td><td>2017-04-04</td><td>2017-04-06</td><td>2017-04-04</td><td>...</td></tr><tr><td>&nbsp;</td><td>&nbsp;</td><td>&nbsp;</td><td>&nbsp;</td><td>&nbsp;</td><td>&nbsp;</td><td>&nbsp;</td><td>&nbsp;</td><td><strong>Description</strong></td><td>Cholinergic enteric neurons</td><td>Cholinergic enteric neurons</td><td>Cholinergic enteric neurons</td><td>Cholinergic enteric neurons</td><td>Cholinergic enteric neurons</td><td>Cholinergic enteric neurons</td><td>Cholinergic enteric neurons</td><td>Cholinergic enteric neurons</td><td>Cholinergic enteric neurons</td><td>Cholinergic enteric neurons</td><td>...</td></tr><tr><td>&nbsp;</td><td>&nbsp;</td><td>&nbsp;</td><td>&nbsp;</td><td>&nbsp;</td><td>&nbsp;</td><td>&nbsp;</td><td>&nbsp;</td><td><strong>Developmental_compartment</strong></td><td>Neural crest</td><td>Neural crest</td><td>Neural crest</td><td>Neural crest</td><td>Neural crest</td><td>Neural crest</td><td>Neural crest</td><td>Neural crest</td><td>Neural crest</td><td>Neural crest</td><td>...</td></tr><tr><td>&nbsp;</td><td>&nbsp;</td><td>&nbsp;</td><td>&nbsp;</td><td>&nbsp;</td><td>&nbsp;</td><td>&nbsp;</td><td>&nbsp;</td><td><strong>DonorID</strong></td><td></td><td></td><td></td><td></td><td></td><td></td><td></td><td></td><td></td><td></td><td>...</td></tr><tr><td>&nbsp;</td><td>&nbsp;</td><td>&nbsp;</td><td>&nbsp;</td><td>&nbsp;</td><td>&nbsp;</td><td>&nbsp;</td><td>&nbsp;</td><td><strong>Estimated Number of Cells</strong></td><td>4,374</td><td>4,374</td><td>4,374</td><td>4,374</td><td>4,374</td><td>4,374</td><td>4,237</td><td>4,508</td><td>4,374</td><td>4,237</td><td>...</td></tr><tr><td>&nbsp;</td><td>&nbsp;</td><td>&nbsp;</td><td>&nbsp;</td><td>&nbsp;</td><td>&nbsp;</td><td>&nbsp;</td><td>&nbsp;</td><td><strong>Flowcell</strong></td><td>HJJTVBBXX</td><td>HJJTVBBXX</td><td>HJJTVBBXX</td><td>HJJTVBBXX</td><td>HJJTVBBXX</td><td>HJJTVBBXX</td><td>HJJTVBBXX</td><td>HJJTVBBXX</td><td>HJJTVBBXX</td><td>HJJTVBBXX</td><td>...</td></tr><tr><td>&nbsp;</td><td>&nbsp;</td><td>&nbsp;</td><td>&nbsp;</td><td>&nbsp;</td><td>&nbsp;</td><td>&nbsp;</td><td>&nbsp;</td><td><strong>Fraction Reads in Cells</strong></td><td>67.9%</td><td>67.9%</td><td>67.9%</td><td>67.9%</td><td>67.9%</td><td>67.9%</td><td>86.4%</td><td>86.3%</td><td>67.9%</td><td>86.4%</td><td>...</td></tr><tr><td>&nbsp;</td><td>&nbsp;</td><td>&nbsp;</td><td>&nbsp;</td><td>&nbsp;</td><td>&nbsp;</td><td>&nbsp;</td><td>&nbsp;</td><td><strong>Label</strong></td><td></td><td></td><td></td><td></td><td></td><td></td><td></td><td></td><td></td><td></td><td>...</td></tr><tr><td>&nbsp;</td><td>&nbsp;</td><td>&nbsp;</td><td>&nbsp;</td><td>&nbsp;</td><td>&nbsp;</td><td>&nbsp;</td><td>&nbsp;</td><td><strong>LeafOrder</strong></td><td>190</td><td>190</td><td>190</td><td>190</td><td>190</td><td>190</td><td>190</td><td>190</td><td>190</td><td>190</td><td>...</td></tr><tr><td>&nbsp;</td><td>&nbsp;</td><td>&nbsp;</td><td>&nbsp;</td><td>&nbsp;</td><td>&nbsp;</td><td>&nbsp;</td><td>&nbsp;</td><td><strong>Location_based_on</strong></td><td>Vip,Cck</td><td>Vip,Cck</td><td>Vip,Cck</td><td>Vip,Cck</td><td>Vip,Cck</td><td>Vip,Cck</td><td>Vip,Cck</td><td>Vip,Cck</td><td>Vip,Cck</td><td>Vip,Cck</td><td>...</td></tr><tr><td>&nbsp;</td><td>&nbsp;</td><td>&nbsp;</td><td>&nbsp;</td><td>&nbsp;</td><td>&nbsp;</td><td>&nbsp;</td><td>&nbsp;</td><td><strong>Mean Reads per Cell</strong></td><td>42,629</td><td>42,629</td><td>42,629</td><td>42,629</td><td>42,629</td><td>42,629</td><td>38,601</td><td>52,152</td><td>42,629</td><td>38,601</td><td>...</td></tr><tr><td>&nbsp;</td><td>&nbsp;</td><td>&nbsp;</td><td>&nbsp;</td><td>&nbsp;</td><td>&nbsp;</td><td>&nbsp;</td><td>&nbsp;</td><td><strong>Median Genes per Cell</strong></td><td>1,474</td><td>1,474</td><td>1,474</td><td>1,474</td><td>1,474</td><td>1,474</td><td>1,464</td><td>1,441</td><td>1,474</td><td>1,464</td><td>...</td></tr><tr><td>&nbsp;</td><td>&nbsp;</td><td>&nbsp;</td><td>&nbsp;</td><td>&nbsp;</td><td>&nbsp;</td><td>&nbsp;</td><td>&nbsp;</td><td><strong>Median UMI Counts per Cell</strong></td><td>2,967</td><td>2,967</td><td>2,967</td><td>2,967</td><td>2,967</td><td>2,967</td><td>2,943</td><td>2,850</td><td>2,967</td><td>2,943</td><td>...</td></tr><tr><td>&nbsp;</td><td>&nbsp;</td><td>&nbsp;</td><td>&nbsp;</td><td>&nbsp;</td><td>&nbsp;</td><td>&nbsp;</td><td>&nbsp;</td><td><strong>MitoRiboRatio</strong></td><td>0.7716325</td><td>0.57526696</td><td>0.4877193</td><td>0.53085184</td><td>0.69559526</td><td>0.71948695</td><td>0.82857144</td><td>5.344262</td><td>0.5333985</td><td>0.4720859</td><td>...</td></tr><tr><td>&nbsp;</td><td>&nbsp;</td><td>&nbsp;</td><td>&nbsp;</td><td>&nbsp;</td><td>&nbsp;</td><td>&nbsp;</td><td>&nbsp;</td><td><strong>NGI_PlateWell</strong></td><td></td><td></td><td></td><td></td><td></td><td></td><td></td><td></td><td></td><td></td><td>...</td></tr><tr><td>&nbsp;</td><td>&nbsp;</td><td>&nbsp;</td><td>&nbsp;</td><td>&nbsp;</td><td>&nbsp;</td><td>&nbsp;</td><td>&nbsp;</td><td><strong>Neurotransmitter</strong></td><td>Acetylcholine</td><td>Acetylcholine</td><td>Acetylcholine</td><td>Acetylcholine</td><td>Acetylcholine</td><td>Acetylcholine</td><td>Acetylcholine</td><td>Acetylcholine</td><td>Acetylcholine</td><td>Acetylcholine</td><td>...</td></tr><tr><td>&nbsp;</td><td>&nbsp;</td><td>&nbsp;</td><td>&nbsp;</td><td>&nbsp;</td><td>&nbsp;</td><td>&nbsp;</td><td>&nbsp;</td><td><strong>NumPooledAnimals</strong></td><td>2</td><td>2</td><td>2</td><td>2</td><td>2</td><td>2</td><td>2</td><td>2</td><td>2</td><td>2</td><td>...</td></tr><tr><td>&nbsp;</td><td>&nbsp;</td><td>&nbsp;</td><td>&nbsp;</td><td>&nbsp;</td><td>&nbsp;</td><td>&nbsp;</td><td>&nbsp;</td><td><strong>Number of Reads</strong></td><td>186,462,928</td><td>186,462,928</td><td>186,462,928</td><td>186,462,928</td><td>186,462,928</td><td>186,462,928</td><td>163,555,774</td><td>235,102,264</td><td>186,462,928</td><td>163,555,774</td><td>...</td></tr><tr><td>&nbsp;</td><td>&nbsp;</td><td>&nbsp;</td><td>&nbsp;</td><td>&nbsp;</td><td>&nbsp;</td><td>&nbsp;</td><td>&nbsp;</td><td><strong>OriginalClusters</strong></td><td>8</td><td>8</td><td>8</td><td>8</td><td>8</td><td>8</td><td>8</td><td>8</td><td>8</td><td>8</td><td>...</td></tr><tr><td>&nbsp;</td><td>&nbsp;</td><td>&nbsp;</td><td>&nbsp;</td><td>&nbsp;</td><td>&nbsp;</td><td>&nbsp;</td><td>&nbsp;</td><td><strong>Outliers</strong></td><td>0</td><td>0</td><td>0</td><td>0</td><td>0</td><td>0</td><td>0</td><td>0</td><td>0</td><td>0</td><td>...</td></tr><tr><td>&nbsp;</td><td>&nbsp;</td><td>&nbsp;</td><td>&nbsp;</td><td>&nbsp;</td><td>&nbsp;</td><td>&nbsp;</td><td>&nbsp;</td><td><strong>PCRCycles</strong></td><td>13</td><td>13</td><td>13</td><td>13</td><td>13</td><td>13</td><td>13</td><td>13</td><td>13</td><td>13</td><td>...</td></tr><tr><td>&nbsp;</td><td>&nbsp;</td><td>&nbsp;</td><td>&nbsp;</td><td>&nbsp;</td><td>&nbsp;</td><td>&nbsp;</td><td>&nbsp;</td><td><strong>PassedQC</strong></td><td>OK</td><td>OK</td><td>OK</td><td>OK</td><td>OK</td><td>OK</td><td>OK</td><td>OK</td><td>OK</td><td>OK</td><td>...</td></tr><tr><td>&nbsp;</td><td>&nbsp;</td><td>&nbsp;</td><td>&nbsp;</td><td>&nbsp;</td><td>&nbsp;</td><td>&nbsp;</td><td>&nbsp;</td><td><strong>Probable_location</strong></td><td>Myenteric plexus of small intestine</td><td>Myenteric plexus of small intestine</td><td>Myenteric plexus of small intestine</td><td>Myenteric plexus of small intestine</td><td>Myenteric plexus of small intestine</td><td>Myenteric plexus of small intestine</td><td>Myenteric plexus of small intestine</td><td>Myenteric plexus of small intestine</td><td>Myenteric plexus of small intestine</td><td>Myenteric plexus of small intestine</td><td>...</td></tr><tr><td>&nbsp;</td><td>&nbsp;</td><td>&nbsp;</td><td>&nbsp;</td><td>&nbsp;</td><td>&nbsp;</td><td>&nbsp;</td><td>&nbsp;</td><td><strong>Project</strong></td><td>Adol</td><td>Adol</td><td>Adol</td><td>Adol</td><td>Adol</td><td>Adol</td><td>Adol</td><td>Adol</td><td>Adol</td><td>Adol</td><td>...</td></tr><tr><td>&nbsp;</td><td>&nbsp;</td><td>&nbsp;</td><td>&nbsp;</td><td>&nbsp;</td><td>&nbsp;</td><td>&nbsp;</td><td>&nbsp;</td><td><strong>Q30 Bases in Barcode</strong></td><td>98.5%</td><td>98.5%</td><td>98.5%</td><td>98.5%</td><td>98.5%</td><td>98.5%</td><td>98.5%</td><td>98.5%</td><td>98.5%</td><td>98.5%</td><td>...</td></tr><tr><td>&nbsp;</td><td>&nbsp;</td><td>&nbsp;</td><td>&nbsp;</td><td>&nbsp;</td><td>&nbsp;</td><td>&nbsp;</td><td>&nbsp;</td><td><strong>Q30 Bases in RNA Read</strong></td><td>86.6%</td><td>86.6%</td><td>86.6%</td><td>86.6%</td><td>86.6%</td><td>86.6%</td><td>86.3%</td><td>86.1%</td><td>86.6%</td><td>86.3%</td><td>...</td></tr><tr><td>&nbsp;</td><td>&nbsp;</td><td>&nbsp;</td><td>&nbsp;</td><td>&nbsp;</td><td>&nbsp;</td><td>&nbsp;</td><td>&nbsp;</td><td><strong>Q30 Bases in Sample Index</strong></td><td>97.1%</td><td>97.1%</td><td>97.1%</td><td>97.1%</td><td>97.1%</td><td>97.1%</td><td>96.9%</td><td>96.4%</td><td>97.1%</td><td>96.9%</td><td>...</td></tr><tr><td>&nbsp;</td><td>&nbsp;</td><td>&nbsp;</td><td>&nbsp;</td><td>&nbsp;</td><td>&nbsp;</td><td>&nbsp;</td><td>&nbsp;</td><td><strong>Q30 Bases in UMI</strong></td><td>98.5%</td><td>98.5%</td><td>98.5%</td><td>98.5%</td><td>98.5%</td><td>98.5%</td><td>98.5%</td><td>98.5%</td><td>98.5%</td><td>98.5%</td><td>...</td></tr><tr><td>&nbsp;</td><td>&nbsp;</td><td>&nbsp;</td><td>&nbsp;</td><td>&nbsp;</td><td>&nbsp;</td><td>&nbsp;</td><td>&nbsp;</td><td><strong>Reads Mapped Confidently to Exonic Regions</strong></td><td>60.1%</td><td>60.1%</td><td>60.1%</td><td>60.1%</td><td>60.1%</td><td>60.1%</td><td>56.2%</td><td>56.2%</td><td>60.1%</td><td>56.2%</td><td>...</td></tr><tr><td>&nbsp;</td><td>&nbsp;</td><td>&nbsp;</td><td>&nbsp;</td><td>&nbsp;</td><td>&nbsp;</td><td>&nbsp;</td><td>&nbsp;</td><td><strong>Reads Mapped Confidently to Intergenic Regions</strong></td><td>9.3%</td><td>9.3%</td><td>9.3%</td><td>9.3%</td><td>9.3%</td><td>9.3%</td><td>9.4%</td><td>9.4%</td><td>9.3%</td><td>9.4%</td><td>...</td></tr><tr><td>&nbsp;</td><td>&nbsp;</td><td>&nbsp;</td><td>&nbsp;</td><td>&nbsp;</td><td>&nbsp;</td><td>&nbsp;</td><td>&nbsp;</td><td><strong>Reads Mapped Confidently to Intronic Regions</strong></td><td>22.9%</td><td>22.9%</td><td>22.9%</td><td>22.9%</td><td>22.9%</td><td>22.9%</td><td>26.1%</td><td>26.5%</td><td>22.9%</td><td>26.1%</td><td>...</td></tr><tr><td>&nbsp;</td><td>&nbsp;</td><td>&nbsp;</td><td>&nbsp;</td><td>&nbsp;</td><td>&nbsp;</td><td>&nbsp;</td><td>&nbsp;</td><td><strong>Reads Mapped Confidently to Transcriptome</strong></td><td>56.5%</td><td>56.5%</td><td>56.5%</td><td>56.5%</td><td>56.5%</td><td>56.5%</td><td>52.5%</td><td>52.6%</td><td>56.5%</td><td>52.5%</td><td>...</td></tr><tr><td>&nbsp;</td><td>&nbsp;</td><td>&nbsp;</td><td>&nbsp;</td><td>&nbsp;</td><td>&nbsp;</td><td>&nbsp;</td><td>&nbsp;</td><td><strong>Region</strong></td><td>Enteric nervous system</td><td>Enteric nervous system</td><td>Enteric nervous system</td><td>Enteric nervous system</td><td>Enteric nervous system</td><td>Enteric nervous system</td><td>Enteric nervous system</td><td>Enteric nervous system</td><td>Enteric nervous system</td><td>Enteric nervous system</td><td>...</td></tr><tr><td>&nbsp;</td><td>&nbsp;</td><td>&nbsp;</td><td>&nbsp;</td><td>&nbsp;</td><td>&nbsp;</td><td>&nbsp;</td><td>&nbsp;</td><td><strong>SampleID</strong></td><td>10X82_2</td><td>10X82_2</td><td>10X82_2</td><td>10X82_2</td><td>10X82_2</td><td>10X82_2</td><td>10X81_2</td><td>10X81_3</td><td>10X82_2</td><td>10X81_2</td><td>...</td></tr><tr><td>&nbsp;</td><td>&nbsp;</td><td>&nbsp;</td><td>&nbsp;</td><td>&nbsp;</td><td>&nbsp;</td><td>&nbsp;</td><td>&nbsp;</td><td><strong>SampleIndex</strong></td><td>SI-GA-G5</td><td>SI-GA-G5</td><td>SI-GA-G5</td><td>SI-GA-G5</td><td>SI-GA-G5</td><td>SI-GA-G5</td><td>SI-GA-D5</td><td>SI-GA-E5</td><td>SI-GA-G5</td><td>SI-GA-D5</td><td>...</td></tr><tr><td>&nbsp;</td><td>&nbsp;</td><td>&nbsp;</td><td>&nbsp;</td><td>&nbsp;</td><td>&nbsp;</td><td>&nbsp;</td><td>&nbsp;</td><td><strong>SeqComment</strong></td><td>nan</td><td>nan</td><td>nan</td><td>nan</td><td>nan</td><td>nan</td><td>nan</td><td>nan</td><td>nan</td><td>nan</td><td>...</td></tr><tr><td>&nbsp;</td><td>&nbsp;</td><td>&nbsp;</td><td>&nbsp;</td><td>&nbsp;</td><td>&nbsp;</td><td>&nbsp;</td><td>&nbsp;</td><td><strong>SeqLibDate</strong></td><td></td><td></td><td></td><td></td><td></td><td></td><td></td><td></td><td></td><td></td><td>...</td></tr><tr><td>&nbsp;</td><td>&nbsp;</td><td>&nbsp;</td><td>&nbsp;</td><td>&nbsp;</td><td>&nbsp;</td><td>&nbsp;</td><td>&nbsp;</td><td><strong>SeqLibOk</strong></td><td>N/A</td><td>N/A</td><td>N/A</td><td>N/A</td><td>N/A</td><td>N/A</td><td>N/A</td><td>N/A</td><td>N/A</td><td>N/A</td><td>...</td></tr><tr><td>&nbsp;</td><td>&nbsp;</td><td>&nbsp;</td><td>&nbsp;</td><td>&nbsp;</td><td>&nbsp;</td><td>&nbsp;</td><td>&nbsp;</td><td><strong>Seq_Comment</strong></td><td></td><td></td><td></td><td></td><td></td><td></td><td></td><td></td><td></td><td></td><td>...</td></tr><tr><td>&nbsp;</td><td>&nbsp;</td><td>&nbsp;</td><td>&nbsp;</td><td>&nbsp;</td><td>&nbsp;</td><td>&nbsp;</td><td>&nbsp;</td><td><strong>Sequencing Saturation</strong></td><td>74.7%</td><td>74.7%</td><td>74.7%</td><td>74.7%</td><td>74.7%</td><td>74.7%</td><td>77.8%</td><td>83.5%</td><td>74.7%</td><td>77.8%</td><td>...</td></tr><tr><td>&nbsp;</td><td>&nbsp;</td><td>&nbsp;</td><td>&nbsp;</td><td>&nbsp;</td><td>&nbsp;</td><td>&nbsp;</td><td>&nbsp;</td><td><strong>Serial_Number</strong></td><td>321</td><td>321</td><td>321</td><td>321</td><td>321</td><td>321</td><td>318</td><td>319</td><td>321</td><td>318</td><td>...</td></tr><tr><td>&nbsp;</td><td>&nbsp;</td><td>&nbsp;</td><td>&nbsp;</td><td>&nbsp;</td><td>&nbsp;</td><td>&nbsp;</td><td>&nbsp;</td><td><strong>Sex</strong></td><td>1M 1F</td><td>1M 1F</td><td>1M 1F</td><td>1M 1F</td><td>1M 1F</td><td>1M 1F</td><td>1M 1F</td><td>1M 1F</td><td>1M 1F</td><td>1M 1F</td><td>...</td></tr><tr><td>&nbsp;</td><td>&nbsp;</td><td>&nbsp;</td><td>&nbsp;</td><td>&nbsp;</td><td>&nbsp;</td><td>&nbsp;</td><td>&nbsp;</td><td><strong>Species</strong></td><td>Mm</td><td>Mm</td><td>Mm</td><td>Mm</td><td>Mm</td><td>Mm</td><td>Mm</td><td>Mm</td><td>Mm</td><td>Mm</td><td>...</td></tr><tr><td>&nbsp;</td><td>&nbsp;</td><td>&nbsp;</td><td>&nbsp;</td><td>&nbsp;</td><td>&nbsp;</td><td>&nbsp;</td><td>&nbsp;</td><td><strong>Strain</strong></td><td>Wnt1Cre-R26Rtomato-C57BL/6J</td><td>Wnt1Cre-R26Rtomato-C57BL/6J</td><td>Wnt1Cre-R26Rtomato-C57BL/6J</td><td>Wnt1Cre-R26Rtomato-C57BL/6J</td><td>Wnt1Cre-R26Rtomato-C57BL/6J</td><td>Wnt1Cre-R26Rtomato-C57BL/6J</td><td>Wnt1Cre-R26Rtomato-C57BL/6J</td><td>Wnt1Cre-R26Rtomato-C57BL/6J</td><td>Wnt1Cre-R26Rtomato-C57BL/6J</td><td>Wnt1Cre-R26Rtomato-C57BL/6J</td><td>...</td></tr><tr><td>&nbsp;</td><td>&nbsp;</td><td>&nbsp;</td><td>&nbsp;</td><td>&nbsp;</td><td>&nbsp;</td><td>&nbsp;</td><td>&nbsp;</td><td><strong>Subclass</strong></td><td>Neurons</td><td>Neurons</td><td>Neurons</td><td>Neurons</td><td>Neurons</td><td>Neurons</td><td>Neurons</td><td>Neurons</td><td>Neurons</td><td>Neurons</td><td>...</td></tr><tr><td>&nbsp;</td><td>&nbsp;</td><td>&nbsp;</td><td>&nbsp;</td><td>&nbsp;</td><td>&nbsp;</td><td>&nbsp;</td><td>&nbsp;</td><td><strong>TargetNumCells</strong></td><td>5000</td><td>5000</td><td>5000</td><td>5000</td><td>5000</td><td>5000</td><td>5000</td><td>5000</td><td>5000</td><td>5000</td><td>...</td></tr><tr><td>&nbsp;</td><td>&nbsp;</td><td>&nbsp;</td><td>&nbsp;</td><td>&nbsp;</td><td>&nbsp;</td><td>&nbsp;</td><td>&nbsp;</td><td><strong>TaxonomyRank1</strong></td><td>Neurons</td><td>Neurons</td><td>Neurons</td><td>Neurons</td><td>Neurons</td><td>Neurons</td><td>Neurons</td><td>Neurons</td><td>Neurons</td><td>Neurons</td><td>...</td></tr><tr><td>&nbsp;</td><td>&nbsp;</td><td>&nbsp;</td><td>&nbsp;</td><td>&nbsp;</td><td>&nbsp;</td><td>&nbsp;</td><td>&nbsp;</td><td><strong>TaxonomyRank2</strong></td><td>PNS neurons</td><td>PNS neurons</td><td>PNS neurons</td><td>PNS neurons</td><td>PNS neurons</td><td>PNS neurons</td><td>PNS neurons</td><td>PNS neurons</td><td>PNS neurons</td><td>PNS neurons</td><td>...</td></tr><tr><td>&nbsp;</td><td>&nbsp;</td><td>&nbsp;</td><td>&nbsp;</td><td>&nbsp;</td><td>&nbsp;</td><td>&nbsp;</td><td>&nbsp;</td><td><strong>TaxonomyRank3</strong></td><td>Enteric neurons</td><td>Enteric neurons</td><td>Enteric neurons</td><td>Enteric neurons</td><td>Enteric neurons</td><td>Enteric neurons</td><td>Enteric neurons</td><td>Enteric neurons</td><td>Enteric neurons</td><td>Enteric neurons</td><td>...</td></tr><tr><td>&nbsp;</td><td>&nbsp;</td><td>&nbsp;</td><td>&nbsp;</td><td>&nbsp;</td><td>&nbsp;</td><td>&nbsp;</td><td>&nbsp;</td><td><strong>TaxonomyRank4</strong></td><td>Enteric neurons</td><td>Enteric neurons</td><td>Enteric neurons</td><td>Enteric neurons</td><td>Enteric neurons</td><td>Enteric neurons</td><td>Enteric neurons</td><td>Enteric neurons</td><td>Enteric neurons</td><td>Enteric neurons</td><td>...</td></tr><tr><td>&nbsp;</td><td>&nbsp;</td><td>&nbsp;</td><td>&nbsp;</td><td>&nbsp;</td><td>&nbsp;</td><td>&nbsp;</td><td>&nbsp;</td><td><strong>TaxonomySymbol</strong></td><td>Enne</td><td>Enne</td><td>Enne</td><td>Enne</td><td>Enne</td><td>Enne</td><td>Enne</td><td>Enne</td><td>Enne</td><td>Enne</td><td>...</td></tr><tr><td>&nbsp;</td><td>&nbsp;</td><td>&nbsp;</td><td>&nbsp;</td><td>&nbsp;</td><td>&nbsp;</td><td>&nbsp;</td><td>&nbsp;</td><td><strong>Taxonomy_group</strong></td><td>Enteric neurons</td><td>Enteric neurons</td><td>Enteric neurons</td><td>Enteric neurons</td><td>Enteric neurons</td><td>Enteric neurons</td><td>Enteric neurons</td><td>Enteric neurons</td><td>Enteric neurons</td><td>Enteric neurons</td><td>...</td></tr><tr><td>&nbsp;</td><td>&nbsp;</td><td>&nbsp;</td><td>&nbsp;</td><td>&nbsp;</td><td>&nbsp;</td><td>&nbsp;</td><td>&nbsp;</td><td><strong>TimepointPool</strong></td><td>nan</td><td>nan</td><td>nan</td><td>nan</td><td>nan</td><td>nan</td><td>nan</td><td>nan</td><td>nan</td><td>nan</td><td>...</td></tr><tr><td>&nbsp;</td><td>&nbsp;</td><td>&nbsp;</td><td>&nbsp;</td><td>&nbsp;</td><td>&nbsp;</td><td>&nbsp;</td><td>&nbsp;</td><td><strong>Tissue</strong></td><td>ENS</td><td>ENS</td><td>ENS</td><td>ENS</td><td>ENS</td><td>ENS</td><td>ENS</td><td>ENS</td><td>ENS</td><td>ENS</td><td>...</td></tr><tr><td>&nbsp;</td><td>&nbsp;</td><td>&nbsp;</td><td>&nbsp;</td><td>&nbsp;</td><td>&nbsp;</td><td>&nbsp;</td><td>&nbsp;</td><td><strong>Total Genes Detected</strong></td><td>18,120</td><td>18,120</td><td>18,120</td><td>18,120</td><td>18,120</td><td>18,120</td><td>18,168</td><td>18,252</td><td>18,120</td><td>18,168</td><td>...</td></tr><tr><td>&nbsp;</td><td>&nbsp;</td><td>&nbsp;</td><td>&nbsp;</td><td>&nbsp;</td><td>&nbsp;</td><td>&nbsp;</td><td>&nbsp;</td><td><strong>Transcriptome</strong></td><td>mm10</td><td>mm10</td><td>mm10</td><td>mm10</td><td>mm10</td><td>mm10</td><td>mm10</td><td>mm10</td><td>mm10</td><td>mm10</td><td>...</td></tr><tr><td>&nbsp;</td><td>&nbsp;</td><td>&nbsp;</td><td>&nbsp;</td><td>&nbsp;</td><td>&nbsp;</td><td>&nbsp;</td><td>&nbsp;</td><td><strong>Valid Barcodes</strong></td><td>98.3%</td><td>98.3%</td><td>98.3%</td><td>98.3%</td><td>98.3%</td><td>98.3%</td><td>98.1%</td><td>98.2%</td><td>98.3%</td><td>98.1%</td><td>...</td></tr><tr><td>&nbsp;</td><td>&nbsp;</td><td>&nbsp;</td><td>&nbsp;</td><td>&nbsp;</td><td>&nbsp;</td><td>&nbsp;</td><td>&nbsp;</td><td><strong>_KMeans_10</strong></td><td>6.0</td><td>6.0</td><td>6.0</td><td>6.0</td><td>6.0</td><td>6.0</td><td>4.0</td><td>5.0</td><td>6.0</td><td>4.0</td><td>...</td></tr><tr><td>&nbsp;</td><td>&nbsp;</td><td>&nbsp;</td><td>&nbsp;</td><td>&nbsp;</td><td>&nbsp;</td><td>&nbsp;</td><td>&nbsp;</td><td><strong>_LogCV</strong></td><td>3.1908913783603063</td><td>3.167351500625122</td><td>2.9904214870833776</td><td>2.822815534443724</td><td>3.1277965891473065</td><td>3.3192176319142175</td><td>3.1989066144208227</td><td>3.948901530102022</td><td>2.987633061728192</td><td>2.7924016918290224</td><td>...</td></tr><tr><td>&nbsp;</td><td>&nbsp;</td><td>&nbsp;</td><td>&nbsp;</td><td>&nbsp;</td><td>&nbsp;</td><td>&nbsp;</td><td>&nbsp;</td><td><strong>_LogMean</strong></td><td>-0.5543971870580796</td><td>-0.37315747486311507</td><td>-0.5170486762369298</td><td>0.13549715551603134</td><td>-0.7693425700796889</td><td>-0.8472036311342495</td><td>0.09491819394568078</td><td>-1.839529951096004</td><td>-0.3916284152311094</td><td>-0.07818856623038073</td><td>...</td></tr><tr><td>&nbsp;</td><td>&nbsp;</td><td>&nbsp;</td><td>&nbsp;</td><td>&nbsp;</td><td>&nbsp;</td><td>&nbsp;</td><td>&nbsp;</td><td><strong>_NGenes</strong></td><td>4966.0</td><td>5170.0</td><td>4901.0</td><td>6163.0</td><td>4441.0</td><td>4177.0</td><td>6291.0</td><td>3194.0</td><td>5096.0</td><td>6286.0</td><td>...</td></tr><tr><td>&nbsp;</td><td>&nbsp;</td><td>&nbsp;</td><td>&nbsp;</td><td>&nbsp;</td><td>&nbsp;</td><td>&nbsp;</td><td>&nbsp;</td><td><strong>_PC1</strong></td><td>-65.27535421448539</td><td>-68.95510759143025</td><td>-65.23438872542643</td><td>-71.94204482687141</td><td>-61.80121557714286</td><td>-60.24304904777661</td><td>95.32222226357811</td><td>85.61136680508369</td><td>-66.45551994815037</td><td>84.01459919133823</td><td>...</td></tr><tr><td>&nbsp;</td><td>&nbsp;</td><td>&nbsp;</td><td>&nbsp;</td><td>&nbsp;</td><td>&nbsp;</td><td>&nbsp;</td><td>&nbsp;</td><td><strong>_PC2</strong></td><td>-6.920831125319342</td><td>-6.064292802219843</td><td>-7.719227989659785</td><td>-9.778616706469663</td><td>-5.362512208402256</td><td>-4.087377717670975</td><td>-1.1779252488682292</td><td>0.3861744167498913</td><td>-7.2672667231519945</td><td>-1.4644867037545195</td><td>...</td></tr><tr><td>&nbsp;</td><td>&nbsp;</td><td>&nbsp;</td><td>&nbsp;</td><td>&nbsp;</td><td>&nbsp;</td><td>&nbsp;</td><td>&nbsp;</td><td><strong>_Total</strong></td><td>19065.0</td><td>21617.0</td><td>19565.0</td><td>30755.0</td><td>16426.0</td><td>15563.0</td><td>29902.0</td><td>7823.0</td><td>21342.0</td><td>26521.0</td><td>...</td></tr><tr><td>&nbsp;</td><td>&nbsp;</td><td>&nbsp;</td><td>&nbsp;</td><td>&nbsp;</td><td>&nbsp;</td><td>&nbsp;</td><td>&nbsp;</td><td><strong>_Valid</strong></td><td>1</td><td>1</td><td>1</td><td>1</td><td>1</td><td>1</td><td>1</td><td>1</td><td>1</td><td>1</td><td>...</td></tr><tr><td>&nbsp;</td><td>&nbsp;</td><td>&nbsp;</td><td>&nbsp;</td><td>&nbsp;</td><td>&nbsp;</td><td>&nbsp;</td><td>&nbsp;</td><td><strong>_X</strong></td><td>32.19324891399081</td><td>32.22355098229663</td><td>32.218911527247535</td><td>32.18716616749913</td><td>32.25464658453466</td><td>32.19684108148269</td><td>32.22388887448665</td><td>32.941288813217824</td><td>32.245982009961985</td><td>32.151367314515</td><td>...</td></tr><tr><td>&nbsp;</td><td>&nbsp;</td><td>&nbsp;</td><td>&nbsp;</td><td>&nbsp;</td><td>&nbsp;</td><td>&nbsp;</td><td>&nbsp;</td><td><strong>_Y</strong></td><td>57.79691077977488</td><td>57.314148909688996</td><td>57.5484721634755</td><td>57.61263111519109</td><td>57.59189746580034</td><td>57.72763921265182</td><td>57.40857378711385</td><td>56.932511762955315</td><td>57.52203608521606</td><td>57.01308084558094</td><td>...</td></tr><tr><td>&nbsp;</td><td>&nbsp;</td><td>&nbsp;</td><td>&nbsp;</td><td>&nbsp;</td><td>&nbsp;</td><td>&nbsp;</td><td>&nbsp;</td><td><strong>_tSNE1</strong></td><td>-25.77719735472452</td><td>-25.667509448348913</td><td>-26.298034758632546</td><td>-26.154148674564897</td><td>-25.976201930893737</td><td>-25.950600353468474</td><td>10.833668805797094</td><td>46.387855269473945</td><td>-25.85796531989773</td><td>10.658282771575102</td><td>...</td></tr><tr><td>&nbsp;</td><td>&nbsp;</td><td>&nbsp;</td><td>&nbsp;</td><td>&nbsp;</td><td>&nbsp;</td><td>&nbsp;</td><td>&nbsp;</td><td><strong>_tSNE2</strong></td><td>33.125469751214034</td><td>33.253273215484846</td><td>33.27313959698363</td><td>33.878698140493384</td><td>32.505965033332124</td><td>32.12761769264904</td><td>41.688696651843884</td><td>-8.68927484206353</td><td>32.869454997701304</td><td>41.45535872326401</td><td>...</td></tr><tr><td>&nbsp;</td><td>&nbsp;</td><td>&nbsp;</td><td>&nbsp;</td><td>&nbsp;</td><td>&nbsp;</td><td>&nbsp;</td><td>&nbsp;</td><td><strong>bio_celltype</strong></td><td>Neurons</td><td>Neurons</td><td>Neurons</td><td>Neurons</td><td>Neurons</td><td>Neurons</td><td>Neurons</td><td>Neurons</td><td>Neurons</td><td>Neurons</td><td>...</td></tr><tr><td>&nbsp;</td><td>&nbsp;</td><td>&nbsp;</td><td>&nbsp;</td><td>&nbsp;</td><td>&nbsp;</td><td>&nbsp;</td><td>&nbsp;</td><td><strong>cDNAConcNanogramPerMicroliter</strong></td><td>7.4</td><td>7.4</td><td>7.4</td><td>7.4</td><td>7.4</td><td>7.4</td><td>4.2</td><td>4.5</td><td>7.4</td><td>4.2</td><td>...</td></tr><tr><td>&nbsp;</td><td>&nbsp;</td><td>&nbsp;</td><td>&nbsp;</td><td>&nbsp;</td><td>&nbsp;</td><td>&nbsp;</td><td>&nbsp;</td><td><strong>cDNALibOk</strong></td><td>Y</td><td>Y</td><td>Y</td><td>Y</td><td>Y</td><td>Y</td><td>Y</td><td>Y</td><td>Y</td><td>Y</td><td>...</td></tr><tr><td>&nbsp;</td><td>&nbsp;</td><td>&nbsp;</td><td>&nbsp;</td><td>&nbsp;</td><td>&nbsp;</td><td>&nbsp;</td><td>&nbsp;</td><td><strong>ngperulcDNA</strong></td><td>7.4</td><td>7.4</td><td>7.4</td><td>7.4</td><td>7.4</td><td>7.4</td><td>4.2</td><td>4.5</td><td>7.4</td><td>4.2</td><td>...</td></tr><tr><td><strong>Accession</strong></td><td><strong>Gene</strong></td><td><strong>Gene_no_alt</strong></td><td><strong>_LogCV</strong></td><td><strong>_LogMean</strong></td><td><strong>_Selected</strong></td><td><strong>_Total</strong></td><td><strong>_Valid</strong></td><td>&nbsp;</td><td>&nbsp;</td><td>&nbsp;</td><td>&nbsp;</td><td>&nbsp;</td><td>&nbsp;</td><td>&nbsp;</td><td>&nbsp;</td><td>&nbsp;</td><td>&nbsp;</td><td>&nbsp;</td><td>...</td></tr><tr><td>ENSMUSG00000024647</td><td>Cbln2</td><td>CBLN2</td><td>2.7558882942204663</td><td>-2.8864988135661296</td><td>0</td><td>190.0</td><td>1</td><td>&nbsp;</td><td>21.0</td><td>28.0</td><td>28.0</td><td>48.0</td><td>31.0</td><td>29.0</td><td>66.0</td><td>13.0</td><td>22.0</td><td>45.0</td><td>...</td></tr><tr><td>ENSMUSG00000041544</td><td>Ptchd2</td><td>PTCHD2</td><td>2.970605232151276</td><td>-5.549463799793425</td><td>0</td><td>30.0</td><td>1</td><td>&nbsp;</td><td>1.0</td><td>1.0</td><td>0.0</td><td>0.0</td><td>0.0</td><td>0.0</td><td>1.0</td><td>2.0</td><td>0.0</td><td>0.0</td><td>...</td></tr><tr><td>ENSMUSG00000029503</td><td>P2rx2</td><td>P2RX2</td><td>2.355448230718427</td><td>-3.161733688193744</td><td>1</td><td>157.0</td><td>1</td><td>&nbsp;</td><td>14.0</td><td>11.0</td><td>7.0</td><td>13.0</td><td>11.0</td><td>7.0</td><td>16.0</td><td>7.0</td><td>14.0</td><td>9.0</td><td>...</td></tr><tr><td>ENSMUSG00000039942</td><td>Ptger4</td><td>PTGER4</td><td>2.14331116452879</td><td>-4.030089634846269</td><td>0</td><td>86.0</td><td>1</td><td>&nbsp;</td><td>2.0</td><td>1.0</td><td>2.0</td><td>2.0</td><td>2.0</td><td>1.0</td><td>0.0</td><td>0.0</td><td>1.0</td><td>1.0</td><td>...</td></tr><tr><td>ENSMUSG00000059187</td><td>Fam19a1</td><td>FAM19A1</td><td>2.4735615552289905</td><td>-3.561536678627471</td><td>0</td><td>119.0</td><td>1</td><td>&nbsp;</td><td>8.0</td><td>7.0</td><td>9.0</td><td>20.0</td><td>4.0</td><td>11.0</td><td>20.0</td><td>4.0</td><td>16.0</td><td>18.0</td><td>...</td></tr><tr><td>ENSMUSG00000017756</td><td>Slc12a7</td><td>SLC12A7</td><td>1.8020226105785193</td><td>-3.0900322269204503</td><td>0</td><td>165.0</td><td>1</td><td>&nbsp;</td><td>0.0</td><td>3.0</td><td>1.0</td><td>7.0</td><td>2.0</td><td>1.0</td><td>4.0</td><td>1.0</td><td>1.0</td><td>2.0</td><td>...</td></tr><tr><td>ENSMUSG00000068327</td><td>Tlx2</td><td>TLX2</td><td>0.6651576988132731</td><td>1.820351653100106</td><td>0</td><td>4962.0</td><td>1</td><td>&nbsp;</td><td>14.0</td><td>16.0</td><td>32.0</td><td>40.0</td><td>29.0</td><td>14.0</td><td>42.0</td><td>9.0</td><td>30.0</td><td>39.0</td><td>...</td></tr><tr><td>ENSMUSG00000079560</td><td>Hoxa3</td><td>HOXA3</td><td>2.9497811872870185</td><td>-5.812498255967974</td><td>0</td><td>25.0</td><td>1</td><td>&nbsp;</td><td>1.0</td><td>2.0</td><td>2.0</td><td>1.0</td><td>1.0</td><td>2.0</td><td>2.0</td><td>2.0</td><td>3.0</td><td>2.0</td><td>...</td></tr><tr><td>ENSMUSG00000039116</td><td>Adgrg6</td><td>ADGRG6</td><td>1.2609992224499391</td><td>-2.321928073389531</td><td>0</td><td>281.0</td><td>1</td><td>&nbsp;</td><td>20.0</td><td>72.0</td><td>32.0</td><td>53.0</td><td>23.0</td><td>17.0</td><td>102.0</td><td>27.0</td><td>44.0</td><td>78.0</td><td>...</td></tr><tr><td>ENSMUSG00000022861</td><td>Dgkg</td><td>DGKG</td><td>1.6668044826099966</td><td>-2.6234644077323357</td><td>0</td><td>228.0</td><td>1</td><td>&nbsp;</td><td>18.0</td><td>9.0</td><td>9.0</td><td>15.0</td><td>6.0</td><td>13.0</td><td>16.0</td><td>3.0</td><td>13.0</td><td>17.0</td><td>...</td></tr><tr><td>...</td><td>...</td><td>...</td><td>...</td><td>...</td><td>...</td><td>...</td><td>...</td><td>...</td><td>...</td><td>...</td><td>...</td><td>...</td><td>...</td><td>...</td><td>...</td><td>...</td><td>...</td><td>...</td><td>...</td></tr></table>"
      ],
      "text/plain": [
       "<loompy.loompy.LoomConnection at 0x7f59f4475cd0>"
      ]
     },
     "execution_count": 4,
     "metadata": {},
     "output_type": "execute_result"
    }
   ],
   "source": [
    "L5_all = loompy.connect(f'{input_folder}L5_All.loom')\n",
    "L5_all"
   ]
  },
  {
   "cell_type": "code",
   "execution_count": 27,
   "id": "8efba9ec",
   "metadata": {
    "scrolled": true
   },
   "outputs": [],
   "source": [
    "ca_selection = ['Age', 'AnalysisPool', 'CellID', 'Class', 'ClusterName', 'Description', 'Location_based_on',                         'Mean Reads per Cell', 'Median UMI Counts per Cell', 'Neurotransmitter', 'Region',\n",
    "                         'TaxonomyRank1', 'TaxonomyRank2', 'TaxonomyRank3', 'TaxonomyRank4', 'bio_celltype']\n",
    "ra_selection = ['Accession', 'Gene', 'Gene_no_alt']"
   ]
  },
  {
   "cell_type": "markdown",
   "id": "d0773d52",
   "metadata": {},
   "source": [
    "### Included in reference dataset\n",
    "\n",
    "For the observation, I keep:\n",
    "* Accession\n",
    "* Gene\n",
    "* Gene_no_alt\n",
    "\n",
    "For variables, I keep:\n",
    "* Age\n",
    "* AnalysisPool\n",
    "* CellID\n",
    "* Class\n",
    "* ClusterName\n",
    "* Description\n",
    "* Location_based_on\n",
    "* Mean Reads per Cell\n",
    "* Median UMI Counts per Cell\n",
    "* Neurotransmitter\n",
    "* Region\n",
    "* TaxonomyRank1\n",
    "* TaxonomyRank2\n",
    "* TaxonomyRank3\n",
    "* TaxonomyRank4\n",
    "* bio_celltype"
   ]
  },
  {
   "cell_type": "code",
   "execution_count": 6,
   "id": "1e2c83d6",
   "metadata": {
    "scrolled": false
   },
   "outputs": [
    {
     "name": "stdout",
     "output_type": "stream",
     "text": [
      "The indeces for var and obs will be assigned to CellID and Accession\n"
     ]
    },
    {
     "name": "stderr",
     "output_type": "stream",
     "text": [
      "/home/lcadmin/miniconda3/envs/ST_pipeline/lib/python3.9/site-packages/anndata/_core/anndata.py:1828: UserWarning: Observation names are not unique. To make them unique, call `.obs_names_make_unique`.\n",
      "  utils.warn_names_duplicates(\"obs\")\n"
     ]
    },
    {
     "data": {
      "text/plain": [
       "AnnData object with n_obs × n_vars = 160796 × 27998\n",
       "    obs: 'Age', 'AnalysisPool', 'CellID', 'Class', 'ClusterName', 'Description', 'Location_based_on', 'Mean Reads per Cell', 'Median UMI Counts per Cell', 'Neurotransmitter', 'Region', 'TaxonomyRank1', 'TaxonomyRank2', 'TaxonomyRank3', 'TaxonomyRank4', 'bio_celltype'\n",
       "    var: 'Accession', 'Gene', 'Gene_no_alt'"
      ]
     },
     "execution_count": 6,
     "metadata": {},
     "output_type": "execute_result"
    }
   ],
   "source": [
    "adata_all = convert_loom_to_anndata(L5_all, ca_list=ca_selection, ra_list=ra_selection)\n",
    "adata_all"
   ]
  },
  {
   "cell_type": "code",
   "execution_count": 10,
   "id": "eeea1f49",
   "metadata": {},
   "outputs": [],
   "source": [
    "L5_all.close()"
   ]
  },
  {
   "cell_type": "code",
   "execution_count": 7,
   "id": "51830b02",
   "metadata": {},
   "outputs": [],
   "source": [
    "pickle_loc = '../../data/stereoscope_reference/single_cell_data/original/Linnarsson_mouse_brain_all/L5_all_subset_notation.pkl'"
   ]
  },
  {
   "cell_type": "code",
   "execution_count": 8,
   "id": "85cc6d9d",
   "metadata": {},
   "outputs": [],
   "source": [
    "# save pickle if you want\n",
    "with open(pickle_loc, 'wb') as pickle_file:\n",
    "    pickle.dump(adata_all, pickle_file)"
   ]
  },
  {
   "cell_type": "code",
   "execution_count": 28,
   "id": "5d69887e",
   "metadata": {},
   "outputs": [
    {
     "data": {
      "text/plain": [
       "AnnData object with n_obs × n_vars = 160796 × 27998\n",
       "    obs: 'Age', 'AnalysisPool', 'CellID', 'Class', 'ClusterName', 'Description', 'Location_based_on', 'Mean Reads per Cell', 'Median UMI Counts per Cell', 'Neurotransmitter', 'Region', 'TaxonomyRank1', 'TaxonomyRank2', 'TaxonomyRank3', 'TaxonomyRank4', 'bio_celltype'\n",
       "    var: 'Accession', 'Gene', 'Gene_no_alt'"
      ]
     },
     "execution_count": 28,
     "metadata": {},
     "output_type": "execute_result"
    }
   ],
   "source": [
    "with open(pickle_loc, 'rb') as pickle_file:\n",
    "    adata_all = pickle.load(pickle_file)\n",
    "adata_all"
   ]
  },
  {
   "cell_type": "code",
   "execution_count": 29,
   "id": "842287a4",
   "metadata": {
    "scrolled": true
   },
   "outputs": [
    {
     "data": {
      "text/plain": [
       "Oligodendrocytes                               30253\n",
       "Astrocytes                                     19377\n",
       "Telencephalon projecting excitatory neurons    18799\n",
       "Enteric glia                                   10535\n",
       "Telencephalon inhibitory interneurons           8637\n",
       "Di- and mesencephalon excitatory neurons        6455\n",
       "Telencephalon projecting inhibitory neurons     5691\n",
       "Microglia                                       5425\n",
       "Cerebellum neurons                              5292\n",
       "Pericytes                                       5213\n",
       "Olfactory inhibitory neurons                    5191\n",
       "Non-glutamatergic neuroblasts                   4822\n",
       "Dentate gyrus granule neurons                   4368\n",
       "Di- and mesencephalon inhibitory neurons        4026\n",
       "Vascular endothelial cells                      3805\n",
       "Peptidergic neurons                             2906\n",
       "Olfactory ensheathing cells                     2031\n",
       "Perivascular macrophages                        2029\n",
       "Vascular smooth muscle cells                    1628\n",
       "Vascular and leptomeningeal cells               1501\n",
       "Ependymal cells                                 1257\n",
       "Spinal cord excitatory neurons                  1166\n",
       "Hindbrain neurons                               1144\n",
       "Enteric neurons                                 1105\n",
       "Cholinergic and monoaminergic neurons           1071\n",
       "Peripheral sensory non-peptidergic neurons       889\n",
       "Oligodendrocyte precursor cells                  820\n",
       "Sympathetic noradrenergic neurons                796\n",
       "Spinal cord inhibitory neurons                   756\n",
       "Subventricular zone radial glia-like cells       756\n",
       "Satellite glia                                   684\n",
       "Glutamatergic neuroblasts                        644\n",
       "Peripheral sensory peptidergic neurons           565\n",
       "Choroid epithelial cells                         458\n",
       "Dentate gyrus radial glia-like cells             327\n",
       "Peripheral sensory neurofilament neurons         126\n",
       "Subcommissural organ hypendymal cells            111\n",
       "Sympathetic cholinergic neurons                   90\n",
       "Schwann cells                                     47\n",
       "Name: TaxonomyRank4, dtype: int64"
      ]
     },
     "execution_count": 29,
     "metadata": {},
     "output_type": "execute_result"
    }
   ],
   "source": [
    "# These are all the availabel cell annotations from TaxonomyRank4 (a sweetspot in between too much and too little description...)\n",
    "adata_all.obs['TaxonomyRank4'].value_counts()"
   ]
  },
  {
   "cell_type": "code",
   "execution_count": 49,
   "id": "101a84ef",
   "metadata": {
    "scrolled": true
   },
   "outputs": [],
   "source": [
    "# clusters that we want to focus on\n",
    "celltypes_to_keep_dict  = {\n",
    "    'MBDOP2': 'Dopaminergic neurons; mouse' , \n",
    "    'MBDOP1': 'Dopaminergic neurons; mouse' , \n",
    "    'MOL1': 'Oligodendrocytes',\n",
    "    'COP1': 'Oligodendrocytes',\n",
    "    'MFOL1': 'Oligodendrocytes',\n",
    "    'MFOL2': 'Oligodendrocytes',\n",
    "    'MSN1': 'D1 Medium Spiny Neurons; mouse',\n",
    "    'MSN2': 'D2 Medium Spiny Neurons; mouse',\n",
    "    'MSN3': 'D2 Medium Spiny Neurons; mouse',\n",
    "    'MSN4': 'D1 Medium Spiny Neurons; mouse',\n",
    "    'MSN5': 'D1/D2 Medium Spiny Neurons, striatum',\n",
    "    'MSN6': 'D1 Medium Spiny Neurons; mouse',\n",
    "    'TEGLU1': 'Cortical projection neurons; mouse',\n",
    "    'TEGLU2': 'Cortical projection neurons; mouse',\n",
    "    'TEGLU3': 'Cortical projection neurons; mouse',\n",
    "    'TEGLU4': 'Cortical projection neurons; mouse',\n",
    "    'TEGLU5': 'Cortical projection neurons; mouse',\n",
    "    'TEGLU6': 'Cortical projection neurons; mouse',\n",
    "    'TEGLU7': 'Cortical projection neurons; mouse',\n",
    "    'TEGLU8': 'Cortical projection neurons; mouse',\n",
    "    'TEGLU9': 'Cortical projection neurons; mouse',\n",
    "    'TEGLU10': 'Cortical projection neurons; mouse',\n",
    "    'TEGLU11': 'Cortical projection neurons; mouse',\n",
    "    'TEGLU12': 'Cortical projection neurons; mouse',\n",
    "    'TEGLU13': 'Cortical projection neurons; mouse',\n",
    "    'TEGLU14': 'Cortical projection neurons; mouse',\n",
    "    'TEGLU15': 'Cortical projection neurons; mouse',\n",
    "    'TEGLU16': 'Cortical projection neurons; mouse',\n",
    "    'TEGLU17': 'Cortical projection neurons; mouse',\n",
    "    'TEGLU18': 'Cortical projection neurons; mouse',\n",
    "    'TEGLU19': 'Cortical projection neurons; mouse',\n",
    "    'TEGLU20': 'Cortical projection neurons; mouse',\n",
    "    'TECHO': 'Cholinergic interneurons; mouse',\n",
    "    'DECHO1': 'Cholinergic interneurons; mouse',\n",
    "    'VLMC1': 'Vascular leptomeningeal cells; mouse',\n",
    "    'VLMC2': 'Vascular leptomeningeal cells; mouse',\n",
    "    'ABC': 'Vascular leptomeningeal cells; mouse',\n",
    "    'ACTE1': 'Telencephalon astrocytes, fibrous; mouse',\n",
    "    'ACTE2': 'Telencephalon astrocytes, protoplasmic; mouse',\n",
    "    'ACMB': 'Dorsal midbrain Myoc-expressing astrocyte-like; mouse',\n",
    "    'ACNT1': 'Non-telencephalon astrocytes, protoplasmic; mouse',\n",
    "    'ACNT2': 'Non-telencephalon astrocytes, fibrous; mouse',\n",
    "    'VECA' : 'Vascular; mouse',\n",
    "    'VSMCA' : 'Vascular; mouse',\n",
    "    'PER1' : 'Vascular; mouse',\n",
    "    'PER2' : 'Vascular; mouse',\n",
    "    'PER3' : 'Vascular; mouse',\n",
    "    'VECC' : 'Vascular; mouse',\n",
    "    'VECV' : 'Vascular; mouse',\n",
    "    'PVM1' : 'Immune cells; mouse',\n",
    "    'PVM2' : 'Immune cells; mouse',\n",
    "    'MGL3' : 'Immune cells; mouse',\n",
    "    'MGL2' : 'Immune cells; mouse',\n",
    "    'MGL1' : 'Immune cells; mouse',\n",
    "    'RGDG' : 'Dentate gyrus radial glia-like cells',\n",
    "    'RGSZ' : 'Subventricular zone radial glia-like cells'\n",
    "\n",
    "}\n",
    "\n",
    "# supplemented by Taxonomy Rank 4 (or any other column) anotation\n",
    "annotated_column, annotation_column = 'ClusterName', 'TaxonomyRank4'\n",
    "annot_cluster = adata_all.obs[[annotated_column, annotation_column]]\n",
    "annot_dict = annot_cluster.groupby(annotated_column).first().to_dict()[annotation_column]"
   ]
  },
  {
   "cell_type": "code",
   "execution_count": 36,
   "id": "f3924083",
   "metadata": {
    "scrolled": false
   },
   "outputs": [
    {
     "data": {
      "text/plain": [
       "Oligodendrocytes                                         30253\n",
       "Cortical projection neurons; mouse                       15216\n",
       "Vascular; mouse                                          10646\n",
       "Enteric glia                                             10535\n",
       "Telencephalon inhibitory interneurons                     8637\n",
       "Immune cells; mouse                                       7454\n",
       "Non-telencephalon astrocytes, protoplasmic; mouse         6642\n",
       "Di- and mesencephalon excitatory neurons                  6455\n",
       "Cerebellum neurons                                        5292\n",
       "Olfactory inhibitory neurons                              5191\n",
       "Non-glutamatergic neuroblasts                             4822\n",
       "Dentate gyrus granule neurons                             4368\n",
       "Di- and mesencephalon inhibitory neurons                  4026\n",
       "Telencephalon astrocytes, protoplasmic; mouse             3973\n",
       "Telencephalon projecting excitatory neurons               3583\n",
       "D1 Medium Spiny Neurons; mouse                            2978\n",
       "Telencephalon astrocytes, fibrous; mouse                  2974\n",
       "Peptidergic neurons                                       2906\n",
       "Non-telencephalon astrocytes, fibrous; mouse              2568\n",
       "Astrocytes                                                2359\n",
       "D2 Medium Spiny Neurons; mouse                            2341\n",
       "Olfactory ensheathing cells                               2031\n",
       "Vascular leptomeningeal cells; mouse                      1501\n",
       "Ependymal cells                                           1257\n",
       "Spinal cord excitatory neurons                            1166\n",
       "Hindbrain neurons                                         1144\n",
       "Enteric neurons                                           1105\n",
       "Peripheral sensory non-peptidergic neurons                 889\n",
       "Dorsal midbrain Myoc-expressing astrocyte-like; mouse      861\n",
       "Oligodendrocyte precursor cells                            820\n",
       "Sympathetic noradrenergic neurons                          796\n",
       "Spinal cord inhibitory neurons                             756\n",
       "Subventricular zone radial glia-like cells                 756\n",
       "Cholinergic and monoaminergic neurons                      716\n",
       "Satellite glia                                             684\n",
       "Glutamatergic neuroblasts                                  644\n",
       "Peripheral sensory peptidergic neurons                     565\n",
       "Choroid epithelial cells                                   458\n",
       "D1/D2 Medium Spiny Neurons, striatum                       372\n",
       "Dentate gyrus radial glia-like cells                       327\n",
       "Cholinergic interneurons; mouse                            235\n",
       "Peripheral sensory neurofilament neurons                   126\n",
       "Dopaminergic neurons; mouse                                120\n",
       "Subcommissural organ hypendymal cells                      111\n",
       "Sympathetic cholinergic neurons                             90\n",
       "Schwann cells                                               47\n",
       "Name: Celltype_assigned, dtype: int64"
      ]
     },
     "execution_count": 36,
     "metadata": {},
     "output_type": "execute_result"
    }
   ],
   "source": [
    "adata_all.obs['Celltype_assigned'] = adata_all.obs['ClusterName'].replace(celltypes_to_keep_dict).replace(annot_dict)\n",
    "adata_all.obs['Celltype_assigned'].value_counts(sort=True)"
   ]
  },
  {
   "cell_type": "code",
   "execution_count": 37,
   "id": "bc3481b5",
   "metadata": {
    "scrolled": false
   },
   "outputs": [
    {
     "data": {
      "text/html": [
       "<div>\n",
       "<style scoped>\n",
       "    .dataframe tbody tr th:only-of-type {\n",
       "        vertical-align: middle;\n",
       "    }\n",
       "\n",
       "    .dataframe tbody tr th {\n",
       "        vertical-align: top;\n",
       "    }\n",
       "\n",
       "    .dataframe thead th {\n",
       "        text-align: right;\n",
       "    }\n",
       "</style>\n",
       "<table border=\"1\" class=\"dataframe\">\n",
       "  <thead>\n",
       "    <tr style=\"text-align: right;\">\n",
       "      <th></th>\n",
       "      <th>Accession</th>\n",
       "      <th>Gene</th>\n",
       "      <th>Gene_no_alt</th>\n",
       "    </tr>\n",
       "    <tr>\n",
       "      <th>symbol</th>\n",
       "      <th></th>\n",
       "      <th></th>\n",
       "      <th></th>\n",
       "    </tr>\n",
       "  </thead>\n",
       "  <tbody>\n",
       "    <tr>\n",
       "      <th>CBLN2</th>\n",
       "      <td>ENSMUSG00000024647</td>\n",
       "      <td>Cbln2</td>\n",
       "      <td>CBLN2</td>\n",
       "    </tr>\n",
       "    <tr>\n",
       "      <th>PTCHD2</th>\n",
       "      <td>ENSMUSG00000041544</td>\n",
       "      <td>Ptchd2</td>\n",
       "      <td>PTCHD2</td>\n",
       "    </tr>\n",
       "    <tr>\n",
       "      <th>P2RX2</th>\n",
       "      <td>ENSMUSG00000029503</td>\n",
       "      <td>P2rx2</td>\n",
       "      <td>P2RX2</td>\n",
       "    </tr>\n",
       "    <tr>\n",
       "      <th>PTGER4</th>\n",
       "      <td>ENSMUSG00000039942</td>\n",
       "      <td>Ptger4</td>\n",
       "      <td>PTGER4</td>\n",
       "    </tr>\n",
       "    <tr>\n",
       "      <th>FAM19A1</th>\n",
       "      <td>ENSMUSG00000059187</td>\n",
       "      <td>Fam19a1</td>\n",
       "      <td>FAM19A1</td>\n",
       "    </tr>\n",
       "    <tr>\n",
       "      <th>...</th>\n",
       "      <td>...</td>\n",
       "      <td>...</td>\n",
       "      <td>...</td>\n",
       "    </tr>\n",
       "    <tr>\n",
       "      <th>BC051537</th>\n",
       "      <td>ENSMUSG00000098197</td>\n",
       "      <td>BC051537</td>\n",
       "      <td>BC051537</td>\n",
       "    </tr>\n",
       "    <tr>\n",
       "      <th>GM15518</th>\n",
       "      <td>ENSMUSG00000087066</td>\n",
       "      <td>Gm15518</td>\n",
       "      <td>GM15518</td>\n",
       "    </tr>\n",
       "    <tr>\n",
       "      <th>MMADHC</th>\n",
       "      <td>ENSMUSG00000026766</td>\n",
       "      <td>Mmadhc</td>\n",
       "      <td>MMADHC</td>\n",
       "    </tr>\n",
       "    <tr>\n",
       "      <th>MED27</th>\n",
       "      <td>ENSMUSG00000026799</td>\n",
       "      <td>Med27</td>\n",
       "      <td>MED27</td>\n",
       "    </tr>\n",
       "    <tr>\n",
       "      <th>PSMC6</th>\n",
       "      <td>ENSMUSG00000021832</td>\n",
       "      <td>Psmc6</td>\n",
       "      <td>PSMC6</td>\n",
       "    </tr>\n",
       "  </tbody>\n",
       "</table>\n",
       "<p>27998 rows × 3 columns</p>\n",
       "</div>"
      ],
      "text/plain": [
       "                   Accession      Gene Gene_no_alt\n",
       "symbol                                            \n",
       "CBLN2     ENSMUSG00000024647     Cbln2       CBLN2\n",
       "PTCHD2    ENSMUSG00000041544    Ptchd2      PTCHD2\n",
       "P2RX2     ENSMUSG00000029503     P2rx2       P2RX2\n",
       "PTGER4    ENSMUSG00000039942    Ptger4      PTGER4\n",
       "FAM19A1   ENSMUSG00000059187   Fam19a1     FAM19A1\n",
       "...                      ...       ...         ...\n",
       "BC051537  ENSMUSG00000098197  BC051537    BC051537\n",
       "GM15518   ENSMUSG00000087066   Gm15518     GM15518\n",
       "MMADHC    ENSMUSG00000026766    Mmadhc      MMADHC\n",
       "MED27     ENSMUSG00000026799     Med27       MED27\n",
       "PSMC6     ENSMUSG00000021832     Psmc6       PSMC6\n",
       "\n",
       "[27998 rows x 3 columns]"
      ]
     },
     "execution_count": 37,
     "metadata": {},
     "output_type": "execute_result"
    }
   ],
   "source": [
    "adata_all.var.index = adata_all.var['Gene_no_alt']\n",
    "adata_all.var.index.name = 'symbol'\n",
    "adata_all.var"
   ]
  },
  {
   "cell_type": "code",
   "execution_count": 38,
   "id": "d199d533",
   "metadata": {},
   "outputs": [
    {
     "data": {
      "text/plain": [
       "CNS                                                                                50674\n",
       "Cortex                                                                             15216\n",
       "Enteric nervous system                                                             11640\n",
       "Olfactory bulb                                                                     11264\n",
       "Hypothalamus,Thalamus,Midbrain dorsal,Midbrain ventral,Pons,Medulla,Spinal cord     9210\n",
       "Hippocampus,Cortex                                                                  7542\n",
       "Telencephalon                                                                       6947\n",
       "Dentate gyrus                                                                       6521\n",
       "Cerebellum                                                                          6170\n",
       "Midbrain dorsal                                                                     6156\n",
       "Striatum ventral                                                                    3728\n",
       "Hippocampus                                                                         3214\n",
       "Thalamus                                                                            3049\n",
       "Spinal cord                                                                         2226\n",
       "Hypothalamus                                                                        2033\n",
       "Striatum dorsal                                                                     1963\n",
       "Dorsal root ganglion                                                                1657\n",
       "Medulla                                                                             1573\n",
       "Striatum dorsal, Striatum ventral                                                   1339\n",
       "Pons                                                                                1207\n",
       "Striatum dorsal, Striatum ventral, Dentate gyrus                                     971\n",
       "Amygdala                                                                             958\n",
       "Sympathetic ganglion                                                                 886\n",
       "Pallidum                                                                             838\n",
       "Brain                                                                                774\n",
       "Striatum dorsal,Striatum ventral                                                     756\n",
       "Dorsal root ganglion,Sympathetic ganglion                                            654\n",
       "Midbrain dorsal,Midbrain ventral                                                     461\n",
       "Medulla,Thalamus                                                                     458\n",
       "Midbrain ventral                                                                     316\n",
       "Pons,Medullae,Cerebellum                                                             163\n",
       "Striatum dorsal, Striatum ventral,Amygdala                                           121\n",
       "Subcommissural organ                                                                 111\n",
       "Name: Region, dtype: int64"
      ]
     },
     "execution_count": 38,
     "metadata": {},
     "output_type": "execute_result"
    }
   ],
   "source": [
    "adata_all.obs['Region'].value_counts()"
   ]
  },
  {
   "cell_type": "code",
   "execution_count": 47,
   "id": "f379895e",
   "metadata": {},
   "outputs": [
    {
     "data": {
      "text/plain": [
       "Oligodendrocytes                        30253\n",
       "Vascular; mouse                         10646\n",
       "Immune cells; mouse                      7454\n",
       "Vascular leptomeningeal cells; mouse     1501\n",
       "Oligodendrocyte precursor cells           820\n",
       "Name: Celltype_assigned, dtype: int64"
      ]
     },
     "execution_count": 47,
     "metadata": {},
     "output_type": "execute_result"
    }
   ],
   "source": [
    "CNS_explor = adata_all.obs[adata_all.obs['Region'] == 'CNS']\n",
    "CNS_explor['Celltype_assigned'].value_counts()"
   ]
  },
  {
   "cell_type": "markdown",
   "id": "d0c77e09",
   "metadata": {},
   "source": [
    "### Regions included in the dataset\n",
    "\n",
    "Here we select, which regions do we want to have included in the dataset.\n",
    "In my case, I chose all regions with striatum, cortex, midbrain, 'CNS' and Pallidum"
   ]
  },
  {
   "cell_type": "code",
   "execution_count": 52,
   "id": "da0281d0",
   "metadata": {},
   "outputs": [
    {
     "data": {
      "text/plain": [
       "View of AnnData object with n_obs × n_vars = 94697 × 27998\n",
       "    obs: 'Age', 'AnalysisPool', 'CellID', 'Class', 'ClusterName', 'Description', 'Location_based_on', 'Mean Reads per Cell', 'Median UMI Counts per Cell', 'Neurotransmitter', 'Region', 'TaxonomyRank1', 'TaxonomyRank2', 'TaxonomyRank3', 'TaxonomyRank4', 'bio_celltype', 'Celltype_assigned'\n",
       "    var: 'Accession', 'Gene', 'Gene_no_alt'"
      ]
     },
     "execution_count": 52,
     "metadata": {},
     "output_type": "execute_result"
    }
   ],
   "source": [
    "selected_regions = ['Striatum', 'Midbrain', 'Cortex']\n",
    "adata_selected = adata_all[adata_all.obs['Region'].str.contains('|'.join(selected_regions)) | \n",
    "                           adata_all.obs['ClusterName'].str.contains('|'.join(celltypes_to_keep_dict.keys())) , :]\n",
    "# adata_selected = adata_selected[adata_selected.obs['Region'] != 'Hypothalamus,Thalamus,Midbrain dorsal,Midbrain ventral,Pons,Medulla,Spinal cord', :]\n",
    "adata_selected"
   ]
  },
  {
   "cell_type": "code",
   "execution_count": 21,
   "id": "92eece10",
   "metadata": {},
   "outputs": [
    {
     "data": {
      "text/plain": [
       "Non-telencephalon astrocytes, protoplasmic; mouse    6642\n",
       "Non-telencephalon astrocytes, fibrous; mouse         2568\n",
       "Name: Celltype_assigned, dtype: int64"
      ]
     },
     "execution_count": 21,
     "metadata": {},
     "output_type": "execute_result"
    }
   ],
   "source": [
    "adata_all[adata_all.obs['Region'] == 'Hypothalamus,Thalamus,Midbrain dorsal,Midbrain ventral,Pons,Medulla,Spinal cord', :].obs['Celltype_assigned'].value_counts()"
   ]
  },
  {
   "cell_type": "code",
   "execution_count": 51,
   "id": "8561c115",
   "metadata": {
    "scrolled": false
   },
   "outputs": [
    {
     "name": "stdout",
     "output_type": "stream",
     "text": [
      "CNS                                                                                35947\n",
      "Cortex                                                                             15216\n",
      "Hypothalamus,Thalamus,Midbrain dorsal,Midbrain ventral,Pons,Medulla,Spinal cord     9210\n",
      "Hippocampus,Cortex                                                                  7542\n",
      "Telencephalon                                                                       6947\n",
      "Midbrain dorsal                                                                     6156\n",
      "Striatum ventral                                                                    3728\n",
      "Hippocampus                                                                         2625\n",
      "Striatum dorsal                                                                     1963\n",
      "Striatum dorsal, Striatum ventral                                                   1339\n",
      "Striatum dorsal, Striatum ventral, Dentate gyrus                                     971\n",
      "Amygdala                                                                             958\n",
      "Striatum dorsal,Striatum ventral                                                     756\n",
      "Midbrain dorsal,Midbrain ventral                                                     461\n",
      "Dentate gyrus                                                                        327\n",
      "Midbrain ventral                                                                     316\n",
      "Striatum dorsal, Striatum ventral,Amygdala                                           121\n",
      "Hypothalamus                                                                         114\n",
      "Name: Region, dtype: int64\n"
     ]
    },
    {
     "data": {
      "text/plain": [
       "Oligodendrocytes                                         16346\n",
       "Cortical projection neurons; mouse                       15216\n",
       "Vascular; mouse                                          10646\n",
       "Telencephalon inhibitory interneurons                     7542\n",
       "Immune cells; mouse                                       7454\n",
       "Non-telencephalon astrocytes, protoplasmic; mouse         6642\n",
       "Telencephalon astrocytes, protoplasmic; mouse             3973\n",
       "Telencephalon projecting excitatory neurons               3583\n",
       "Di- and mesencephalon excitatory neurons                  3138\n",
       "D1 Medium Spiny Neurons; mouse                            2978\n",
       "Telencephalon astrocytes, fibrous; mouse                  2974\n",
       "Di- and mesencephalon inhibitory neurons                  2634\n",
       "Non-telencephalon astrocytes, fibrous; mouse              2568\n",
       "D2 Medium Spiny Neurons; mouse                            2341\n",
       "Vascular leptomeningeal cells; mouse                      1501\n",
       "Peptidergic neurons                                       1360\n",
       "Non-glutamatergic neuroblasts                              971\n",
       "Dorsal midbrain Myoc-expressing astrocyte-like; mouse      861\n",
       "Subventricular zone radial glia-like cells                 756\n",
       "D1/D2 Medium Spiny Neurons, striatum                       372\n",
       "Dentate gyrus radial glia-like cells                       327\n",
       "Cholinergic interneurons; mouse                            235\n",
       "Dopaminergic neurons; mouse                                120\n",
       "Ependymal cells                                             69\n",
       "Cholinergic and monoaminergic neurons                       47\n",
       "Cerebellum neurons                                          43\n",
       "Name: Celltype_assigned, dtype: int64"
      ]
     },
     "execution_count": 51,
     "metadata": {},
     "output_type": "execute_result"
    }
   ],
   "source": [
    "# Number of cells coming from regions\n",
    "print(adata_selected.obs['Region'].value_counts())\n",
    "\n",
    "# Number of different cell types in these regions\n",
    "adata_selected.obs['Celltype_assigned'].value_counts()"
   ]
  },
  {
   "cell_type": "code",
   "execution_count": 53,
   "id": "5bbf35d7",
   "metadata": {},
   "outputs": [],
   "source": [
    "export_name = f'{output_folder}L5_STR_M_CTX_selection.pkl'\n",
    "with open(export_name, 'wb') as export:\n",
    "    pickle.dump(adata_selected, export)"
   ]
  },
  {
   "cell_type": "code",
   "execution_count": 121,
   "id": "a7063bef",
   "metadata": {},
   "outputs": [
    {
     "data": {
      "text/plain": [
       "View of AnnData object with n_obs × n_vars = 99291 × 27998\n",
       "    obs: 'Age', 'AnalysisPool', 'CellID', 'Class', 'ClusterName', 'Description', 'Location_based_on', 'Mean Reads per Cell', 'Median UMI Counts per Cell', 'Neurotransmitter', 'Region', 'TaxonomyRank1', 'TaxonomyRank2', 'TaxonomyRank3', 'TaxonomyRank4', 'bio_celltype', 'Celltype_assigned'\n",
       "    var: 'Accession', 'Gene', 'Gene_no_alt'"
      ]
     },
     "execution_count": 121,
     "metadata": {},
     "output_type": "execute_result"
    }
   ],
   "source": [
    "with open(export_name, 'rb') as imported:\n",
    "    adata_imported = pickle.load(imported)\n",
    "adata_imported"
   ]
  }
 ],
 "metadata": {
  "kernelspec": {
   "display_name": "Python 3 (ipykernel)",
   "language": "python",
   "name": "python3"
  },
  "language_info": {
   "codemirror_mode": {
    "name": "ipython",
    "version": 3
   },
   "file_extension": ".py",
   "mimetype": "text/x-python",
   "name": "python",
   "nbconvert_exporter": "python",
   "pygments_lexer": "ipython3",
   "version": "3.8.10"
  }
 },
 "nbformat": 4,
 "nbformat_minor": 5
}
