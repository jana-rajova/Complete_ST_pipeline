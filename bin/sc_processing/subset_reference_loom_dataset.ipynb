{
 "cells": [
  {
   "cell_type": "code",
   "execution_count": 30,
   "id": "378b2386",
   "metadata": {
    "scrolled": true
   },
   "outputs": [],
   "source": [
    "def convert_loom_to_anndata(loom_file, ca_list=[], ra_list=[], ca_index='CellID', ra_index='Accession'):\n",
    "    attr_lists = [ca_list, ra_list]\n",
    "    \n",
    "    # if attr lists are empy, keep original columns/rows\n",
    "    for idx, attr_list in enumerate(attr_lists):\n",
    "        if len(attr_lists[idx]) == 0:\n",
    "            if idx == 0: \n",
    "                attr_lists[idx] = loom_file.ca.keys()\n",
    "            elif idx == 1: \n",
    "                attr_lists[idx] = loom_file.ra.keys()\n",
    "    \n",
    "    # select index columns for the dataframes\n",
    "    attr_indexes = [ca_index, ra_index]\n",
    "    for idx, index in enumerate(attr_indexes):\n",
    "        if type(index) == int:\n",
    "            attr_indexes[idx] = attr_lists[idx][index]\n",
    "        elif type(index) == str:\n",
    "            assert index in attr_lists[idx]\n",
    "    print(f'The indeces for var and obs will be assigned to {attr_indexes[0]} and {attr_indexes[1]}')\n",
    "    \n",
    "    # create var and obs dataframes with defined columns and indexes (indices)\n",
    "    ad_attr = [pd.DataFrame(), pd.DataFrame()]\n",
    "    for idx, attr_list in enumerate(attr_lists):\n",
    "        for attr in attr_list:\n",
    "            if idx == 0: \n",
    "                ad_attr[idx][attr] = loom_file.ca[attr]\n",
    "            elif idx == 1: \n",
    "                ad_attr[idx][attr] = loom_file.ra[attr]\n",
    "        ad_attr[idx].index = ad_attr[idx][attr_indexes[idx]]\n",
    "\n",
    "    adata = ad.AnnData(X = loom_file[:, :].T, var=ad_attr[1], obs=ad_attr[0])\n",
    "        \n",
    "    return adata"
   ]
  },
  {
   "cell_type": "code",
   "execution_count": 36,
   "id": "c81df84d",
   "metadata": {},
   "outputs": [],
   "source": [
    "import pickle\n",
    "from datetime import date\n",
    "import os\n",
    "import loompy\n",
    "import pandas as pd\n",
    "import scanpy as sc\n",
    "import anndata as ad\n",
    "import numpy as np\n",
    "from src.classes import *"
   ]
  },
  {
   "cell_type": "code",
   "execution_count": 32,
   "id": "73436496",
   "metadata": {},
   "outputs": [
    {
     "name": "stdout",
     "output_type": "stream",
     "text": [
      "2022-12-01\n",
      "../../data/sc_data/mouse_sc/L5_011222/\n"
     ]
    }
   ],
   "source": [
    "today = date.today()\n",
    "print(today)\n",
    "\n",
    "input_folder = '../../data/sc_data/mouse_sc/original/Linnarsson_mouse_brain_all/'\n",
    "\n",
    "output_path = '../../data/sc_data/mouse_sc/'\n",
    "output_folder = f'{output_path}L5_{today.strftime(\"%d%m%y\")}/'\n",
    "print(output_folder)\n",
    "os.makedirs(output_folder, exist_ok=True)"
   ]
  },
  {
   "cell_type": "code",
   "execution_count": 33,
   "id": "4b22468f",
   "metadata": {},
   "outputs": [
    {
     "name": "stdout",
     "output_type": "stream",
     "text": [
      "loompy                    3.0.7                    pypi_0    pypi\r\n"
     ]
    }
   ],
   "source": [
    "# if you have problems with loading a package, check  if it is installed in the environment\n",
    "!conda list | grep \"loompy\""
   ]
  },
  {
   "cell_type": "code",
   "execution_count": null,
   "id": "7f553797",
   "metadata": {},
   "outputs": [],
   "source": [
    "pickle_loc = '/media/Dropbox/MNM projects/Spatial transcriptomics project/Data analysis/Complete_ST_pipeline/data/sc_data/mouse_sc/original/Linnarsson_mouse_brain_all/L5_all_subset_notation.pkl'"
   ]
  },
  {
   "cell_type": "code",
   "execution_count": 40,
   "id": "d8d1659a",
   "metadata": {
    "scrolled": true
   },
   "outputs": [
    {
     "data": {
      "text/plain": [
       "AnnData object with n_obs × n_vars = 160796 × 27998\n",
       "    obs: 'Age', 'AnalysisPool', 'CellID', 'Class', 'ClusterName', 'Description', 'Location_based_on', 'Mean Reads per Cell', 'Median UMI Counts per Cell', 'Neurotransmitter', 'Region', 'TaxonomyRank1', 'TaxonomyRank2', 'TaxonomyRank3', 'TaxonomyRank4', 'bio_celltype', 'ChipID', 'SampleID', 'SampleIndex', 'PCRCycles', 'Strain'\n",
       "    var: 'Accession', 'Gene', 'Gene_no_alt'"
      ]
     },
     "execution_count": 40,
     "metadata": {},
     "output_type": "execute_result"
    }
   ],
   "source": [
    "if not os.path.isfile(pickle_loc):\n",
    "    print('Creating Anndata from the original loom file')\n",
    "    L5_all = loompy.connect(f'{input_folder}L5_All.loom')\n",
    "    ca_selection = ['Age', 'AnalysisPool', 'CellID', 'Class', 'ClusterName', 'Description', 'Location_based_on',                         'Mean Reads per Cell', 'Median UMI Counts per Cell', 'Neurotransmitter', 'Region',\n",
    "                             'TaxonomyRank1', 'TaxonomyRank2', 'TaxonomyRank3', 'TaxonomyRank4', 'bio_celltype', 'ChipID',\n",
    "                    'SampleID', 'SampleIndex', 'PCRCycles', 'Strain']\n",
    "    ra_selection = ['Accession', 'Gene', 'Gene_no_alt']\n",
    "    adata_all = convert_loom_to_anndata(L5_all, ca_list=ca_selection, ra_list=ra_selection)\n",
    "    L5_all.close()\n",
    "    # save pickle if you want\n",
    "    with open(pickle_loc, 'wb') as pickle_file:\n",
    "        pickle.dump(adata_all, pickle_file)\n",
    "else:\n",
    "    print('loading saved pickle')\n",
    "    with open(pickle_loc, 'rb') as pickle_file:\n",
    "        adata_all = pickle.load(pickle_file)\n",
    "    \n",
    "adata_all"
   ]
  },
  {
   "cell_type": "code",
   "execution_count": 6,
   "id": "842287a4",
   "metadata": {
    "scrolled": false
   },
   "outputs": [
    {
     "data": {
      "text/plain": [
       "Oligodendrocytes                               30253\n",
       "Astrocytes                                     19377\n",
       "Telencephalon projecting excitatory neurons    18799\n",
       "Enteric glia                                   10535\n",
       "Telencephalon inhibitory interneurons           8637\n",
       "Di- and mesencephalon excitatory neurons        6455\n",
       "Telencephalon projecting inhibitory neurons     5691\n",
       "Microglia                                       5425\n",
       "Cerebellum neurons                              5292\n",
       "Pericytes                                       5213\n",
       "Olfactory inhibitory neurons                    5191\n",
       "Non-glutamatergic neuroblasts                   4822\n",
       "Dentate gyrus granule neurons                   4368\n",
       "Di- and mesencephalon inhibitory neurons        4026\n",
       "Vascular endothelial cells                      3805\n",
       "Peptidergic neurons                             2906\n",
       "Olfactory ensheathing cells                     2031\n",
       "Perivascular macrophages                        2029\n",
       "Vascular smooth muscle cells                    1628\n",
       "Vascular and leptomeningeal cells               1501\n",
       "Ependymal cells                                 1257\n",
       "Spinal cord excitatory neurons                  1166\n",
       "Hindbrain neurons                               1144\n",
       "Enteric neurons                                 1105\n",
       "Cholinergic and monoaminergic neurons           1071\n",
       "Peripheral sensory non-peptidergic neurons       889\n",
       "Oligodendrocyte precursor cells                  820\n",
       "Sympathetic noradrenergic neurons                796\n",
       "Spinal cord inhibitory neurons                   756\n",
       "Subventricular zone radial glia-like cells       756\n",
       "Satellite glia                                   684\n",
       "Glutamatergic neuroblasts                        644\n",
       "Peripheral sensory peptidergic neurons           565\n",
       "Choroid epithelial cells                         458\n",
       "Dentate gyrus radial glia-like cells             327\n",
       "Peripheral sensory neurofilament neurons         126\n",
       "Subcommissural organ hypendymal cells            111\n",
       "Sympathetic cholinergic neurons                   90\n",
       "Schwann cells                                     47\n",
       "Name: TaxonomyRank4, dtype: int64"
      ]
     },
     "execution_count": 6,
     "metadata": {},
     "output_type": "execute_result"
    }
   ],
   "source": [
    "# These are all the availabel cell annotations from TaxonomyRank4 (a sweetspot in between too much and too little description...)\n",
    "adata_all.obs['TaxonomyRank4'].value_counts()"
   ]
  },
  {
   "cell_type": "code",
   "execution_count": 41,
   "id": "0ef09102",
   "metadata": {},
   "outputs": [],
   "source": [
    "# merge astrocytes and separate dopaminergic clusters\n",
    "# clusters that we want to focus on\n",
    "celltypes_to_keep_dict  = {\n",
    "    'MBDOP2': 'Dopaminergic neurons, SN, VTA; mouse' , \n",
    "    'MBDOP1': 'Dopaminergic neurons, periaqueductal grey; mouse' , \n",
    "    'MOL1': 'Oligodendrocytes',\n",
    "    'COP1': 'Oligodendrocytes',\n",
    "    'MFOL1': 'Oligodendrocytes',\n",
    "    'MFOL2': 'Oligodendrocytes',\n",
    "    'MSN1': 'D1 Medium Spiny Neurons; mouse',\n",
    "    'MSN2': 'D2 Medium Spiny Neurons; mouse',\n",
    "    'MSN3': 'D2 Medium Spiny Neurons; mouse',\n",
    "    'MSN4': 'D1 Medium Spiny Neurons; mouse',\n",
    "    'MSN5': 'D1/D2 Medium Spiny Neurons, striatum',\n",
    "    'MSN6': 'D1 Medium Spiny Neurons; mouse',\n",
    "    'TEGLU1': 'Cortical projection neurons; mouse',\n",
    "    'TEGLU2': 'Cortical projection neurons; mouse',\n",
    "    'TEGLU3': 'Cortical projection neurons; mouse',\n",
    "    'TEGLU4': 'Cortical projection neurons; mouse',\n",
    "    'TEGLU5': 'Cortical projection neurons; mouse',\n",
    "    'TEGLU6': 'Cortical projection neurons; mouse',\n",
    "    'TEGLU7': 'Cortical projection neurons; mouse',\n",
    "    'TEGLU8': 'Cortical projection neurons; mouse',\n",
    "    'TEGLU9': 'Cortical projection neurons; mouse',\n",
    "    'TEGLU10': 'Cortical projection neurons; mouse',\n",
    "    'TEGLU11': 'Cortical projection neurons; mouse',\n",
    "    'TEGLU12': 'Cortical projection neurons; mouse',\n",
    "    'TEGLU13': 'Cortical projection neurons; mouse',\n",
    "    'TEGLU14': 'Cortical projection neurons; mouse',\n",
    "    'TEGLU15': 'Cortical projection neurons; mouse',\n",
    "    'TEGLU16': 'Cortical projection neurons; mouse',\n",
    "    'TEGLU17': 'Cortical projection neurons; mouse',\n",
    "    'TEGLU18': 'Cortical projection neurons; mouse',\n",
    "    'TEGLU19': 'Cortical projection neurons; mouse',\n",
    "    'TEGLU20': 'Cortical projection neurons; mouse',\n",
    "    'TECHO': 'Cholinergic interneurons; mouse',\n",
    "    'DECHO1': 'Cholinergic interneurons; mouse',\n",
    "    'VLMC1': 'Vascular leptomeningeal cells; mouse',\n",
    "    'VLMC2': 'Vascular leptomeningeal cells; mouse',\n",
    "    'ABC': 'Vascular leptomeningeal cells; mouse',\n",
    "    'ACTE1': 'Astrocytes; mouse',\n",
    "    'ACTE2': 'Astrocytes; mouse',\n",
    "    'ACMB': 'Astrocytes; mouse',\n",
    "    'ACNT1': 'Astrocytes; mouse',\n",
    "    'ACNT2': 'Astrocytes; mouse',\n",
    "    'VECA' : 'Vascular; mouse',\n",
    "    'VSMCA' : 'Vascular; mouse',\n",
    "    'PER1' : 'Vascular; mouse',\n",
    "    'PER2' : 'Vascular; mouse',\n",
    "    'PER3' : 'Vascular; mouse',\n",
    "    'VECC' : 'Vascular; mouse',\n",
    "    'VECV' : 'Vascular; mouse',\n",
    "    'PVM1' : 'Immune cells; mouse',\n",
    "    'PVM2' : 'Immune cells; mouse',\n",
    "    'MGL3' : 'Immune cells; mouse',\n",
    "    'MGL2' : 'Immune cells; mouse',\n",
    "    'MGL1' : 'Immune cells; mouse',\n",
    "    'RGDG' : 'Dentate gyrus radial glia-like cells',\n",
    "    'RGSZ' : 'Subventricular zone radial glia-like cells',\n",
    "    'SEPNBL' : 'Glutamatergic neuroblasts, pallidum; mouse'\n",
    "}\n",
    "\n",
    "celltypes_to_discard = ['Ependymal cells']\n",
    "# supplemented by Taxonomy Rank 4 (or any other column) anotation\n",
    "annotated_column, annotation_column = 'ClusterName', 'TaxonomyRank4'\n",
    "annot_cluster = adata_all.obs[[annotated_column, annotation_column]]\n",
    "annot_dict = annot_cluster.groupby(annotated_column).first().to_dict()[annotation_column]   "
   ]
  },
  {
   "cell_type": "code",
   "execution_count": 42,
   "id": "00c26e1a",
   "metadata": {},
   "outputs": [],
   "source": [
    "# merge astrocytes\n",
    "# clusters that we want to focus on\n",
    "celltypes_to_keep_dict  = {\n",
    "    'MBDOP2': 'Dopaminergic neurons; mouse' , \n",
    "    'MBDOP1': 'Dopaminergic neurons; mouse' , \n",
    "    'MOL1': 'Oligodendrocytes',\n",
    "    'COP1': 'Oligodendrocytes',\n",
    "    'MFOL1': 'Oligodendrocytes',\n",
    "    'MFOL2': 'Oligodendrocytes',\n",
    "    'MSN1': 'D1 Medium Spiny Neurons; mouse',\n",
    "    'MSN2': 'D2 Medium Spiny Neurons; mouse',\n",
    "    'MSN3': 'D2 Medium Spiny Neurons; mouse',\n",
    "    'MSN4': 'D1 Medium Spiny Neurons; mouse',\n",
    "    'MSN5': 'D1/D2 Medium Spiny Neurons, striatum',\n",
    "    'MSN6': 'D1 Medium Spiny Neurons; mouse',\n",
    "    'TEGLU1': 'Cortical projection neurons; mouse',\n",
    "    'TEGLU2': 'Cortical projection neurons; mouse',\n",
    "    'TEGLU3': 'Cortical projection neurons; mouse',\n",
    "    'TEGLU4': 'Cortical projection neurons; mouse',\n",
    "    'TEGLU5': 'Cortical projection neurons; mouse',\n",
    "    'TEGLU6': 'Cortical projection neurons; mouse',\n",
    "    'TEGLU7': 'Cortical projection neurons; mouse',\n",
    "    'TEGLU8': 'Cortical projection neurons; mouse',\n",
    "    'TEGLU9': 'Cortical projection neurons; mouse',\n",
    "    'TEGLU10': 'Cortical projection neurons; mouse',\n",
    "    'TEGLU11': 'Cortical projection neurons; mouse',\n",
    "    'TEGLU12': 'Cortical projection neurons; mouse',\n",
    "    'TEGLU13': 'Cortical projection neurons; mouse',\n",
    "    'TEGLU14': 'Cortical projection neurons; mouse',\n",
    "    'TEGLU15': 'Cortical projection neurons; mouse',\n",
    "    'TEGLU16': 'Cortical projection neurons; mouse',\n",
    "    'TEGLU17': 'Cortical projection neurons; mouse',\n",
    "    'TEGLU18': 'Cortical projection neurons; mouse',\n",
    "    'TEGLU19': 'Cortical projection neurons; mouse',\n",
    "    'TEGLU20': 'Cortical projection neurons; mouse',\n",
    "    'TECHO': 'Cholinergic interneurons; mouse',\n",
    "    'DECHO1': 'Cholinergic interneurons; mouse',\n",
    "    'VLMC1': 'Vascular leptomeningeal cells; mouse',\n",
    "    'VLMC2': 'Vascular leptomeningeal cells; mouse',\n",
    "    'ABC': 'Vascular leptomeningeal cells; mouse',\n",
    "    'ACTE1': 'Astrocytes; mouse',\n",
    "    'ACTE2': 'Astrocytes; mouse',\n",
    "    'ACMB': 'Astrocytes; mouse',\n",
    "    'ACNT1': 'Astrocytes; mouse',\n",
    "    'ACNT2': 'Astrocytes; mouse',\n",
    "    'VECA' : 'Vascular; mouse',\n",
    "    'VSMCA' : 'Vascular; mouse',\n",
    "    'PER1' : 'Vascular; mouse',\n",
    "    'PER2' : 'Vascular; mouse',\n",
    "    'PER3' : 'Vascular; mouse',\n",
    "    'VECC' : 'Vascular; mouse',\n",
    "    'VECV' : 'Vascular; mouse',\n",
    "    'PVM1' : 'Immune cells; mouse',\n",
    "    'PVM2' : 'Immune cells; mouse',\n",
    "    'MGL3' : 'Immune cells; mouse',\n",
    "    'MGL2' : 'Immune cells; mouse',\n",
    "    'MGL1' : 'Immune cells; mouse',\n",
    "    'RGDG' : 'Dentate gyrus radial glia-like cells',\n",
    "    'RGSZ' : 'Subventricular zone radial glia-like cells',\n",
    "    'SEPNBL' : 'Glutamatergic neuroblasts, pallidum; mouse'\n",
    "#     ,\n",
    "#     'TEINH2': 'Inhibitory neurons, septal nucleus',\n",
    "#     'MEINH1': 'Inhibitory neurons, midbrain',\n",
    "#     'MEINH14': 'Inhibitory neurons, midbrain'\n",
    "}\n",
    "\n",
    "celltypes_to_discard = ['Ependymal cells']\n",
    "# supplemented by Taxonomy Rank 4 (or any other column) anotation\n",
    "annotated_column, annotation_column = 'ClusterName', 'TaxonomyRank4'\n",
    "annot_cluster = adata_all.obs[[annotated_column, annotation_column]]\n",
    "annot_dict = annot_cluster.groupby(annotated_column).first().to_dict()[annotation_column]"
   ]
  },
  {
   "cell_type": "code",
   "execution_count": 43,
   "id": "f3924083",
   "metadata": {
    "scrolled": false
   },
   "outputs": [
    {
     "data": {
      "text/plain": [
       "Oligodendrocytes                               30253\n",
       "Astrocytes; mouse                              17018\n",
       "Cortical projection neurons; mouse             15216\n",
       "Vascular; mouse                                10646\n",
       "Enteric glia                                   10535\n",
       "Telencephalon inhibitory interneurons           8637\n",
       "Immune cells; mouse                             7454\n",
       "Di- and mesencephalon excitatory neurons        6455\n",
       "Cerebellum neurons                              5292\n",
       "Olfactory inhibitory neurons                    5191\n",
       "Non-glutamatergic neuroblasts                   4822\n",
       "Dentate gyrus granule neurons                   4368\n",
       "Di- and mesencephalon inhibitory neurons        4026\n",
       "Telencephalon projecting excitatory neurons     3583\n",
       "D1 Medium Spiny Neurons; mouse                  2978\n",
       "Peptidergic neurons                             2906\n",
       "Astrocytes                                      2359\n",
       "D2 Medium Spiny Neurons; mouse                  2341\n",
       "Olfactory ensheathing cells                     2031\n",
       "Vascular leptomeningeal cells; mouse            1501\n",
       "Ependymal cells                                 1257\n",
       "Spinal cord excitatory neurons                  1166\n",
       "Hindbrain neurons                               1144\n",
       "Enteric neurons                                 1105\n",
       "Peripheral sensory non-peptidergic neurons       889\n",
       "Oligodendrocyte precursor cells                  820\n",
       "Sympathetic noradrenergic neurons                796\n",
       "Subventricular zone radial glia-like cells       756\n",
       "Spinal cord inhibitory neurons                   756\n",
       "Cholinergic and monoaminergic neurons            716\n",
       "Satellite glia                                   684\n",
       "Peripheral sensory peptidergic neurons           565\n",
       "Glutamatergic neuroblasts                        527\n",
       "Choroid epithelial cells                         458\n",
       "D1/D2 Medium Spiny Neurons, striatum             372\n",
       "Dentate gyrus radial glia-like cells             327\n",
       "Cholinergic interneurons; mouse                  235\n",
       "Peripheral sensory neurofilament neurons         126\n",
       "Dopaminergic neurons; mouse                      120\n",
       "Glutamatergic neuroblasts, pallidum; mouse       117\n",
       "Subcommissural organ hypendymal cells            111\n",
       "Sympathetic cholinergic neurons                   90\n",
       "Schwann cells                                     47\n",
       "Name: Celltype_assigned, dtype: int64"
      ]
     },
     "execution_count": 43,
     "metadata": {},
     "output_type": "execute_result"
    }
   ],
   "source": [
    "adata_all.obs['Celltype_assigned'] = adata_all.obs['ClusterName'].replace(celltypes_to_keep_dict).replace(annot_dict)\n",
    "adata_all.obs['Celltype_assigned'].value_counts(sort=True)"
   ]
  },
  {
   "cell_type": "markdown",
   "id": "7ed23d56",
   "metadata": {
    "scrolled": false
   },
   "source": [
    "adata_all = merge_gene_symbol_duplicates(adata_all, symbol_column='Gene_no_alt')\n",
    "adata_all.var.index = adata_all.var['Gene_no_alt']\n",
    "adata_all.var.index.name = 'symbol'\n",
    "adata_all.var"
   ]
  },
  {
   "cell_type": "markdown",
   "id": "d0c77e09",
   "metadata": {},
   "source": [
    "### Regions included in the dataset\n",
    "\n",
    "Here we select, which regions do we want to have included in the dataset.\n",
    "In my case, I chose all regions with striatum, cortex, midbrain, 'CNS' and Pallidum"
   ]
  },
  {
   "cell_type": "code",
   "execution_count": 44,
   "id": "da0281d0",
   "metadata": {
    "scrolled": true
   },
   "outputs": [
    {
     "data": {
      "text/plain": [
       "View of AnnData object with n_obs × n_vars = 104246 × 27998\n",
       "    obs: 'Age', 'AnalysisPool', 'CellID', 'Class', 'ClusterName', 'Description', 'Location_based_on', 'Mean Reads per Cell', 'Median UMI Counts per Cell', 'Neurotransmitter', 'Region', 'TaxonomyRank1', 'TaxonomyRank2', 'TaxonomyRank3', 'TaxonomyRank4', 'bio_celltype', 'ChipID', 'SampleID', 'SampleIndex', 'PCRCycles', 'Strain', 'Celltype_assigned'\n",
       "    var: 'Accession', 'Gene', 'Gene_no_alt'"
      ]
     },
     "execution_count": 44,
     "metadata": {},
     "output_type": "execute_result"
    }
   ],
   "source": [
    "selected_regions = ['Striatum', 'Midbrain ventral', 'Cortex', 'CNS']\n",
    "adata_selected = adata_all[adata_all.obs['Region'].str.contains('|'.join(selected_regions)) | \n",
    "                           adata_all.obs['ClusterName'].str.contains('|'.join(celltypes_to_keep_dict.keys())) , :]\n",
    "# adata_selected = adata_selected[adata_selected.obs['Celltype_assigned'] != 'Ependymal cells', :]\n",
    "adata_selected"
   ]
  },
  {
   "cell_type": "code",
   "execution_count": 45,
   "id": "27a34973",
   "metadata": {},
   "outputs": [],
   "source": [
    "del adata_all"
   ]
  },
  {
   "cell_type": "code",
   "execution_count": 46,
   "id": "fb98313b",
   "metadata": {},
   "outputs": [
    {
     "data": {
      "text/plain": [
       "Oligodendrocytes                               30253\n",
       "Astrocytes; mouse                              17018\n",
       "Cortical projection neurons; mouse             15216\n",
       "Vascular; mouse                                10646\n",
       "Telencephalon inhibitory interneurons           7542\n",
       "Immune cells; mouse                             7454\n",
       "Telencephalon projecting excitatory neurons     3583\n",
       "D1 Medium Spiny Neurons; mouse                  2978\n",
       "D2 Medium Spiny Neurons; mouse                  2341\n",
       "Vascular leptomeningeal cells; mouse            1501\n",
       "Peptidergic neurons                             1360\n",
       "Non-glutamatergic neuroblasts                    971\n",
       "Oligodendrocyte precursor cells                  820\n",
       "Subventricular zone radial glia-like cells       756\n",
       "Di- and mesencephalon inhibitory neurons         531\n",
       "D1/D2 Medium Spiny Neurons, striatum             372\n",
       "Dentate gyrus radial glia-like cells             327\n",
       "Cholinergic interneurons; mouse                  235\n",
       "Dopaminergic neurons; mouse                      120\n",
       "Glutamatergic neuroblasts, pallidum; mouse       117\n",
       "Di- and mesencephalon excitatory neurons          62\n",
       "Cerebellum neurons                                43\n",
       "Name: Celltype_assigned, dtype: int64"
      ]
     },
     "execution_count": 46,
     "metadata": {},
     "output_type": "execute_result"
    }
   ],
   "source": [
    "adata_selected.obs['Celltype_assigned'].value_counts(sort=True)"
   ]
  },
  {
   "cell_type": "code",
   "execution_count": 47,
   "id": "57d749f5",
   "metadata": {
    "scrolled": false
   },
   "outputs": [
    {
     "name": "stderr",
     "output_type": "stream",
     "text": [
      "/tmp/ipykernel_121665/4040885219.py:2: ImplicitModificationWarning: Trying to modify attribute `.obs` of view, initializing view as actual.\n",
      "  adata_selected.obs[\"value\"] = 0\n",
      "/home/lcadmin/miniconda3/envs/ST_pipeline/lib/python3.9/site-packages/anndata/_core/anndata.py:1828: UserWarning: Observation names are not unique. To make them unique, call `.obs_names_make_unique`.\n",
      "  utils.warn_names_duplicates(\"obs\")\n",
      "/home/lcadmin/miniconda3/envs/ST_pipeline/lib/python3.9/site-packages/anndata/_core/anndata.py:1828: UserWarning: Observation names are not unique. To make them unique, call `.obs_names_make_unique`.\n",
      "  utils.warn_names_duplicates(\"obs\")\n"
     ]
    }
   ],
   "source": [
    "# This makes it a “real” AnnData object\n",
    "adata_selected.obs[\"value\"] = 0 "
   ]
  },
  {
   "cell_type": "code",
   "execution_count": 48,
   "id": "24127c36",
   "metadata": {},
   "outputs": [
    {
     "name": "stdout",
     "output_type": "stream",
     "text": [
      "Scaled from 27998 genes incl. alternative splicing to 27794 genes without alternative splicing variants\n"
     ]
    },
    {
     "name": "stderr",
     "output_type": "stream",
     "text": [
      "/home/lcadmin/miniconda3/envs/ST_pipeline/lib/python3.9/site-packages/anndata/_core/anndata.py:1828: UserWarning: Observation names are not unique. To make them unique, call `.obs_names_make_unique`.\n",
      "  utils.warn_names_duplicates(\"obs\")\n"
     ]
    },
    {
     "data": {
      "text/html": [
       "<div>\n",
       "<style scoped>\n",
       "    .dataframe tbody tr th:only-of-type {\n",
       "        vertical-align: middle;\n",
       "    }\n",
       "\n",
       "    .dataframe tbody tr th {\n",
       "        vertical-align: top;\n",
       "    }\n",
       "\n",
       "    .dataframe thead th {\n",
       "        text-align: right;\n",
       "    }\n",
       "</style>\n",
       "<table border=\"1\" class=\"dataframe\">\n",
       "  <thead>\n",
       "    <tr style=\"text-align: right;\">\n",
       "      <th></th>\n",
       "      <th>Accession</th>\n",
       "      <th>Gene</th>\n",
       "      <th>Gene_no_alt</th>\n",
       "      <th>value</th>\n",
       "    </tr>\n",
       "    <tr>\n",
       "      <th>symbol</th>\n",
       "      <th></th>\n",
       "      <th></th>\n",
       "      <th></th>\n",
       "      <th></th>\n",
       "    </tr>\n",
       "  </thead>\n",
       "  <tbody>\n",
       "    <tr>\n",
       "      <th>0610007P14RIK</th>\n",
       "      <td>ENSMUSG00000021252</td>\n",
       "      <td>0610007P14Rik</td>\n",
       "      <td>0610007P14RIK</td>\n",
       "      <td>0</td>\n",
       "    </tr>\n",
       "    <tr>\n",
       "      <th>0610009B22RIK</th>\n",
       "      <td>ENSMUSG00000007777</td>\n",
       "      <td>0610009B22Rik</td>\n",
       "      <td>0610009B22RIK</td>\n",
       "      <td>0</td>\n",
       "    </tr>\n",
       "    <tr>\n",
       "      <th>0610009L18RIK</th>\n",
       "      <td>ENSMUSG00000043644</td>\n",
       "      <td>0610009L18Rik</td>\n",
       "      <td>0610009L18RIK</td>\n",
       "      <td>0</td>\n",
       "    </tr>\n",
       "    <tr>\n",
       "      <th>0610009O20RIK</th>\n",
       "      <td>ENSMUSG00000024442</td>\n",
       "      <td>0610009O20Rik</td>\n",
       "      <td>0610009O20RIK</td>\n",
       "      <td>0</td>\n",
       "    </tr>\n",
       "    <tr>\n",
       "      <th>0610010F05RIK</th>\n",
       "      <td>ENSMUSG00000042208</td>\n",
       "      <td>0610010F05Rik</td>\n",
       "      <td>0610010F05RIK</td>\n",
       "      <td>0</td>\n",
       "    </tr>\n",
       "    <tr>\n",
       "      <th>...</th>\n",
       "      <td>...</td>\n",
       "      <td>...</td>\n",
       "      <td>...</td>\n",
       "      <td>...</td>\n",
       "    </tr>\n",
       "    <tr>\n",
       "      <th>ZYG11A</th>\n",
       "      <td>ENSMUSG00000034645</td>\n",
       "      <td>Zyg11a</td>\n",
       "      <td>ZYG11A</td>\n",
       "      <td>0</td>\n",
       "    </tr>\n",
       "    <tr>\n",
       "      <th>ZYG11B</th>\n",
       "      <td>ENSMUSG00000034636</td>\n",
       "      <td>Zyg11b</td>\n",
       "      <td>ZYG11B</td>\n",
       "      <td>0</td>\n",
       "    </tr>\n",
       "    <tr>\n",
       "      <th>ZYX</th>\n",
       "      <td>ENSMUSG00000029860</td>\n",
       "      <td>Zyx</td>\n",
       "      <td>ZYX</td>\n",
       "      <td>0</td>\n",
       "    </tr>\n",
       "    <tr>\n",
       "      <th>ZZEF1</th>\n",
       "      <td>ENSMUSG00000055670</td>\n",
       "      <td>Zzef1</td>\n",
       "      <td>ZZEF1</td>\n",
       "      <td>0</td>\n",
       "    </tr>\n",
       "    <tr>\n",
       "      <th>ZZZ3</th>\n",
       "      <td>ENSMUSG00000039068</td>\n",
       "      <td>Zzz3</td>\n",
       "      <td>ZZZ3</td>\n",
       "      <td>0</td>\n",
       "    </tr>\n",
       "  </tbody>\n",
       "</table>\n",
       "<p>27794 rows × 4 columns</p>\n",
       "</div>"
      ],
      "text/plain": [
       "                        Accession           Gene    Gene_no_alt  value\n",
       "symbol                                                                \n",
       "0610007P14RIK  ENSMUSG00000021252  0610007P14Rik  0610007P14RIK      0\n",
       "0610009B22RIK  ENSMUSG00000007777  0610009B22Rik  0610009B22RIK      0\n",
       "0610009L18RIK  ENSMUSG00000043644  0610009L18Rik  0610009L18RIK      0\n",
       "0610009O20RIK  ENSMUSG00000024442  0610009O20Rik  0610009O20RIK      0\n",
       "0610010F05RIK  ENSMUSG00000042208  0610010F05Rik  0610010F05RIK      0\n",
       "...                           ...            ...            ...    ...\n",
       "ZYG11A         ENSMUSG00000034645         Zyg11a         ZYG11A      0\n",
       "ZYG11B         ENSMUSG00000034636         Zyg11b         ZYG11B      0\n",
       "ZYX            ENSMUSG00000029860            Zyx            ZYX      0\n",
       "ZZEF1          ENSMUSG00000055670          Zzef1          ZZEF1      0\n",
       "ZZZ3           ENSMUSG00000039068           Zzz3           ZZZ3      0\n",
       "\n",
       "[27794 rows x 4 columns]"
      ]
     },
     "execution_count": 48,
     "metadata": {},
     "output_type": "execute_result"
    }
   ],
   "source": [
    "adata_selected = merge_gene_symbol_duplicates(adata_selected, symbol_column='Gene_no_alt')\n",
    "adata_selected.var.index = adata_selected.var['Gene_no_alt']\n",
    "adata_selected.var.index.name = 'symbol'\n",
    "adata_selected.var"
   ]
  },
  {
   "cell_type": "code",
   "execution_count": 49,
   "id": "63037f20",
   "metadata": {},
   "outputs": [
    {
     "data": {
      "image/png": "[encoded data removed]",
      "text/plain": [
       "<Figure size 432x288 with 1 Axes>"
      ]
     },
     "metadata": {
      "needs_background": "light"
     },
     "output_type": "display_data"
    },
    {
     "name": "stdout",
     "output_type": "stream",
     "text": [
      "Oligodendrocytes                               30253\n",
      "Astrocytes; mouse                              17018\n",
      "Cortical projection neurons; mouse             15216\n",
      "Vascular; mouse                                10646\n",
      "Telencephalon inhibitory interneurons           7542\n",
      "Immune cells; mouse                             7454\n",
      "Telencephalon projecting excitatory neurons     3583\n",
      "D1 Medium Spiny Neurons; mouse                  2978\n",
      "D2 Medium Spiny Neurons; mouse                  2341\n",
      "Vascular leptomeningeal cells; mouse            1501\n",
      "Peptidergic neurons                             1360\n",
      "Non-glutamatergic neuroblasts                    971\n",
      "Oligodendrocyte precursor cells                  820\n",
      "Subventricular zone radial glia-like cells       756\n",
      "Di- and mesencephalon inhibitory neurons         531\n",
      "D1/D2 Medium Spiny Neurons, striatum             372\n",
      "Dentate gyrus radial glia-like cells             327\n",
      "Cholinergic interneurons; mouse                  235\n",
      "Dopaminergic neurons; mouse                      120\n",
      "Glutamatergic neuroblasts, pallidum; mouse       117\n",
      "Di- and mesencephalon excitatory neurons          62\n",
      "Cerebellum neurons                                43\n",
      "Name: Celltype_assigned, dtype: int64\n"
     ]
    },
    {
     "data": {
      "image/png": "[encoded data removed]",
      "text/plain": [
       "<Figure size 432x288 with 1 Axes>"
      ]
     },
     "metadata": {
      "needs_background": "light"
     },
     "output_type": "display_data"
    },
    {
     "data": {
      "text/plain": [
       "Oligodendrocytes                               30253\n",
       "Cortical projection neurons; mouse             15123\n",
       "Astrocytes; mouse                              12977\n",
       "Vascular; mouse                                 9880\n",
       "Telencephalon inhibitory interneurons           7415\n",
       "Immune cells; mouse                             6472\n",
       "Telencephalon projecting excitatory neurons     3533\n",
       "D1 Medium Spiny Neurons; mouse                  2827\n",
       "D2 Medium Spiny Neurons; mouse                  2321\n",
       "Peptidergic neurons                             1311\n",
       "Vascular leptomeningeal cells; mouse            1231\n",
       "Non-glutamatergic neuroblasts                    864\n",
       "Oligodendrocyte precursor cells                  820\n",
       "Subventricular zone radial glia-like cells       564\n",
       "Di- and mesencephalon inhibitory neurons         524\n",
       "D1/D2 Medium Spiny Neurons, striatum             365\n",
       "Dentate gyrus radial glia-like cells             276\n",
       "Cholinergic interneurons; mouse                  235\n",
       "Glutamatergic neuroblasts, pallidum; mouse       113\n",
       "Dopaminergic neurons; mouse                      108\n",
       "Di- and mesencephalon excitatory neurons          62\n",
       "Cerebellum neurons                                28\n",
       "Name: Celltype_assigned, dtype: int64"
      ]
     },
     "execution_count": 49,
     "metadata": {},
     "output_type": "execute_result"
    }
   ],
   "source": [
    "# filter cells by transcript numbers\n",
    "min_transcripts = 1000\n",
    "\n",
    "adata_selected.obs['n_transcripts'] = np.sum(adata_selected.X, axis=1)\n",
    "\n",
    "plt.hist(adata_selected.obs['n_transcripts'].to_numpy(), bins=100, color='blue', range=(0,5000))\n",
    "plt.axvline(min_transcripts, color='red')\n",
    "plt.show()\n",
    "\n",
    "print(adata_selected.obs['Celltype_assigned'].value_counts())\n",
    "\n",
    "adata_selected_filt = adata_selected[adata_selected.obs['n_transcripts'] >= min_transcripts, :]\n",
    "\n",
    "plt.hist(adata_selected_filt.obs['n_transcripts'].to_numpy(), bins=100, color='blue', range=(0,5000))\n",
    "plt.axvline(min_transcripts, color='red')\n",
    "plt.show()\n",
    "\n",
    "adata_selected_filt.obs['Celltype_assigned'].value_counts()"
   ]
  },
  {
   "cell_type": "code",
   "execution_count": 50,
   "id": "2a2d2dd6",
   "metadata": {},
   "outputs": [
    {
     "name": "stderr",
     "output_type": "stream",
     "text": [
      "/home/lcadmin/miniconda3/envs/ST_pipeline/lib/python3.9/site-packages/anndata/_core/anndata.py:1828: UserWarning: Observation names are not unique. To make them unique, call `.obs_names_make_unique`.\n",
      "  utils.warn_names_duplicates(\"obs\")\n"
     ]
    }
   ],
   "source": [
    "adata_selected_filt.obs_names_make_unique()"
   ]
  },
  {
   "cell_type": "code",
   "execution_count": 51,
   "id": "8561c115",
   "metadata": {
    "scrolled": false
   },
   "outputs": [
    {
     "name": "stdout",
     "output_type": "stream",
     "text": [
      "CNS                                                                                48656\n",
      "Cortex                                                                             15123\n",
      "Hippocampus,Cortex                                                                  7415\n",
      "Telencephalon                                                                       6172\n",
      "Hypothalamus,Thalamus,Midbrain dorsal,Midbrain ventral,Pons,Medulla,Spinal cord     5994\n",
      "Striatum ventral                                                                    3576\n",
      "Hippocampus                                                                         2597\n",
      "Striatum dorsal                                                                     1937\n",
      "Striatum dorsal, Striatum ventral                                                   1293\n",
      "Amygdala                                                                             936\n",
      "Striatum dorsal, Striatum ventral, Dentate gyrus                                     864\n",
      "Midbrain dorsal                                                                      811\n",
      "Striatum dorsal,Striatum ventral                                                     564\n",
      "Midbrain dorsal,Midbrain ventral                                                     454\n",
      "Midbrain ventral                                                                     286\n",
      "Dentate gyrus                                                                        276\n",
      "Striatum dorsal, Striatum ventral,Amygdala                                           121\n",
      "Hypothalamus                                                                         114\n",
      "Pallidum                                                                             113\n",
      "Name: Region, dtype: int64\n"
     ]
    },
    {
     "data": {
      "text/plain": [
       "Oligodendrocytes                               30253\n",
       "Cortical projection neurons; mouse             15123\n",
       "Astrocytes; mouse                              12977\n",
       "Vascular; mouse                                 9880\n",
       "Telencephalon inhibitory interneurons           7415\n",
       "Immune cells; mouse                             6472\n",
       "Telencephalon projecting excitatory neurons     3533\n",
       "D1 Medium Spiny Neurons; mouse                  2827\n",
       "D2 Medium Spiny Neurons; mouse                  2321\n",
       "Peptidergic neurons                             1311\n",
       "Vascular leptomeningeal cells; mouse            1231\n",
       "Non-glutamatergic neuroblasts                    864\n",
       "Oligodendrocyte precursor cells                  820\n",
       "Subventricular zone radial glia-like cells       564\n",
       "Di- and mesencephalon inhibitory neurons         524\n",
       "D1/D2 Medium Spiny Neurons, striatum             365\n",
       "Dentate gyrus radial glia-like cells             276\n",
       "Cholinergic interneurons; mouse                  235\n",
       "Glutamatergic neuroblasts, pallidum; mouse       113\n",
       "Dopaminergic neurons; mouse                      108\n",
       "Di- and mesencephalon excitatory neurons          62\n",
       "Cerebellum neurons                                28\n",
       "Name: Celltype_assigned, dtype: int64"
      ]
     },
     "execution_count": 51,
     "metadata": {},
     "output_type": "execute_result"
    }
   ],
   "source": [
    "# Number of cells coming from regions\n",
    "print(adata_selected_filt.obs['Region'].value_counts())\n",
    "\n",
    "# Number of different cell types in these regions\n",
    "adata_selected_filt.obs['Celltype_assigned'].value_counts()"
   ]
  },
  {
   "cell_type": "code",
   "execution_count": 52,
   "id": "924c9e05",
   "metadata": {},
   "outputs": [],
   "source": [
    "export_name = f'{output_folder}L5_CTX_M_STR_CNS_description_selection_1000_astmerged_Tax4'"
   ]
  },
  {
   "cell_type": "code",
   "execution_count": 53,
   "id": "af43d894",
   "metadata": {},
   "outputs": [
    {
     "data": {
      "text/html": [
       "<div>\n",
       "<style scoped>\n",
       "    .dataframe tbody tr th:only-of-type {\n",
       "        vertical-align: middle;\n",
       "    }\n",
       "\n",
       "    .dataframe tbody tr th {\n",
       "        vertical-align: top;\n",
       "    }\n",
       "\n",
       "    .dataframe thead th {\n",
       "        text-align: right;\n",
       "    }\n",
       "</style>\n",
       "<table border=\"1\" class=\"dataframe\">\n",
       "  <thead>\n",
       "    <tr style=\"text-align: right;\">\n",
       "      <th></th>\n",
       "      <th>Age</th>\n",
       "      <th>AnalysisPool</th>\n",
       "      <th>CellID</th>\n",
       "      <th>Class</th>\n",
       "      <th>ClusterName</th>\n",
       "      <th>Description</th>\n",
       "      <th>Location_based_on</th>\n",
       "      <th>Mean Reads per Cell</th>\n",
       "      <th>Median UMI Counts per Cell</th>\n",
       "      <th>Neurotransmitter</th>\n",
       "      <th>...</th>\n",
       "      <th>bio_celltype</th>\n",
       "      <th>ChipID</th>\n",
       "      <th>SampleID</th>\n",
       "      <th>SampleIndex</th>\n",
       "      <th>PCRCycles</th>\n",
       "      <th>Strain</th>\n",
       "      <th>Celltype_assigned</th>\n",
       "      <th>value</th>\n",
       "      <th>n_transcripts</th>\n",
       "      <th>Sample</th>\n",
       "    </tr>\n",
       "    <tr>\n",
       "      <th>CellID</th>\n",
       "      <th></th>\n",
       "      <th></th>\n",
       "      <th></th>\n",
       "      <th></th>\n",
       "      <th></th>\n",
       "      <th></th>\n",
       "      <th></th>\n",
       "      <th></th>\n",
       "      <th></th>\n",
       "      <th></th>\n",
       "      <th></th>\n",
       "      <th></th>\n",
       "      <th></th>\n",
       "      <th></th>\n",
       "      <th></th>\n",
       "      <th></th>\n",
       "      <th></th>\n",
       "      <th></th>\n",
       "      <th></th>\n",
       "      <th></th>\n",
       "      <th></th>\n",
       "    </tr>\n",
       "  </thead>\n",
       "  <tbody>\n",
       "    <tr>\n",
       "      <th>10X53_4_GCAAACGGGATG-</th>\n",
       "      <td>p21-23</td>\n",
       "      <td></td>\n",
       "      <td>10X53_4_GCAAACGGGATG-</td>\n",
       "      <td>Oligos</td>\n",
       "      <td>MOL3</td>\n",
       "      <td>Mature oligodendrocytes, spinal cord enriched ...</td>\n",
       "      <td>Apold1,Cyp1b1</td>\n",
       "      <td></td>\n",
       "      <td></td>\n",
       "      <td></td>\n",
       "      <td>...</td>\n",
       "      <td>Oligos</td>\n",
       "      <td>10X53</td>\n",
       "      <td>10X53_4</td>\n",
       "      <td>SI-3A-D11</td>\n",
       "      <td>13</td>\n",
       "      <td>Swiss</td>\n",
       "      <td>Oligodendrocytes</td>\n",
       "      <td>0</td>\n",
       "      <td>6135.0</td>\n",
       "      <td>Linnarsson</td>\n",
       "    </tr>\n",
       "    <tr>\n",
       "      <th>10X53_4_TTAACTCTTCTA-</th>\n",
       "      <td>p21-23</td>\n",
       "      <td></td>\n",
       "      <td>10X53_4_TTAACTCTTCTA-</td>\n",
       "      <td>Oligos</td>\n",
       "      <td>MOL3</td>\n",
       "      <td>Mature oligodendrocytes, spinal cord enriched ...</td>\n",
       "      <td>Apold1,Cyp1b1</td>\n",
       "      <td></td>\n",
       "      <td></td>\n",
       "      <td></td>\n",
       "      <td>...</td>\n",
       "      <td>Oligos</td>\n",
       "      <td>10X53</td>\n",
       "      <td>10X53_4</td>\n",
       "      <td>SI-3A-D11</td>\n",
       "      <td>13</td>\n",
       "      <td>Swiss</td>\n",
       "      <td>Oligodendrocytes</td>\n",
       "      <td>0</td>\n",
       "      <td>5506.0</td>\n",
       "      <td>Linnarsson</td>\n",
       "    </tr>\n",
       "    <tr>\n",
       "      <th>10X53_4_ATGTTGCCAAGT-</th>\n",
       "      <td>p21-23</td>\n",
       "      <td></td>\n",
       "      <td>10X53_4_ATGTTGCCAAGT-</td>\n",
       "      <td>Oligos</td>\n",
       "      <td>MOL3</td>\n",
       "      <td>Mature oligodendrocytes, spinal cord enriched ...</td>\n",
       "      <td>Apold1,Cyp1b1</td>\n",
       "      <td></td>\n",
       "      <td></td>\n",
       "      <td></td>\n",
       "      <td>...</td>\n",
       "      <td>Oligos</td>\n",
       "      <td>10X53</td>\n",
       "      <td>10X53_4</td>\n",
       "      <td>SI-3A-D11</td>\n",
       "      <td>13</td>\n",
       "      <td>Swiss</td>\n",
       "      <td>Oligodendrocytes</td>\n",
       "      <td>0</td>\n",
       "      <td>6966.0</td>\n",
       "      <td>Linnarsson</td>\n",
       "    </tr>\n",
       "    <tr>\n",
       "      <th>10X53_6_ATGCACTTCATC-</th>\n",
       "      <td>p21-23</td>\n",
       "      <td></td>\n",
       "      <td>10X53_6_ATGCACTTCATC-</td>\n",
       "      <td>Oligos</td>\n",
       "      <td>MOL3</td>\n",
       "      <td>Mature oligodendrocytes, spinal cord enriched ...</td>\n",
       "      <td>Apold1,Cyp1b1</td>\n",
       "      <td></td>\n",
       "      <td></td>\n",
       "      <td></td>\n",
       "      <td>...</td>\n",
       "      <td>Oligos</td>\n",
       "      <td>10X53</td>\n",
       "      <td>10X53_6</td>\n",
       "      <td>SI-3A-F11</td>\n",
       "      <td>13</td>\n",
       "      <td>Swiss</td>\n",
       "      <td>Oligodendrocytes</td>\n",
       "      <td>0</td>\n",
       "      <td>14138.0</td>\n",
       "      <td>Linnarsson</td>\n",
       "    </tr>\n",
       "    <tr>\n",
       "      <th>10X52_7_CTAATGAGGGTG-</th>\n",
       "      <td>p20</td>\n",
       "      <td></td>\n",
       "      <td>10X52_7_CTAATGAGGGTG-</td>\n",
       "      <td>Oligos</td>\n",
       "      <td>MOL3</td>\n",
       "      <td>Mature oligodendrocytes, spinal cord enriched ...</td>\n",
       "      <td>Apold1,Cyp1b1</td>\n",
       "      <td></td>\n",
       "      <td></td>\n",
       "      <td></td>\n",
       "      <td>...</td>\n",
       "      <td>Oligos</td>\n",
       "      <td>10X52</td>\n",
       "      <td>10X52_7</td>\n",
       "      <td>SI-3A-G10</td>\n",
       "      <td>13</td>\n",
       "      <td>CD-1</td>\n",
       "      <td>Oligodendrocytes</td>\n",
       "      <td>0</td>\n",
       "      <td>8491.0</td>\n",
       "      <td>Linnarsson</td>\n",
       "    </tr>\n",
       "    <tr>\n",
       "      <th>...</th>\n",
       "      <td>...</td>\n",
       "      <td>...</td>\n",
       "      <td>...</td>\n",
       "      <td>...</td>\n",
       "      <td>...</td>\n",
       "      <td>...</td>\n",
       "      <td>...</td>\n",
       "      <td>...</td>\n",
       "      <td>...</td>\n",
       "      <td>...</td>\n",
       "      <td>...</td>\n",
       "      <td>...</td>\n",
       "      <td>...</td>\n",
       "      <td>...</td>\n",
       "      <td>...</td>\n",
       "      <td>...</td>\n",
       "      <td>...</td>\n",
       "      <td>...</td>\n",
       "      <td>...</td>\n",
       "      <td>...</td>\n",
       "      <td>...</td>\n",
       "    </tr>\n",
       "    <tr>\n",
       "      <th>10X20_4_CGCTAAGACGAATC-1</th>\n",
       "      <td>p22</td>\n",
       "      <td></td>\n",
       "      <td>10X20_4_CGCTAAGACGAATC-1</td>\n",
       "      <td>Astrocytes</td>\n",
       "      <td>ACMB</td>\n",
       "      <td>Dorsal midbrain Myoc-expressing astrocyte-like</td>\n",
       "      <td>Drd1,Tac1 and dissection region</td>\n",
       "      <td></td>\n",
       "      <td></td>\n",
       "      <td></td>\n",
       "      <td>...</td>\n",
       "      <td>Astrocytes</td>\n",
       "      <td>10X20</td>\n",
       "      <td>10X20_4</td>\n",
       "      <td>SI-3A-D5</td>\n",
       "      <td>13</td>\n",
       "      <td>CD-1</td>\n",
       "      <td>Astrocytes; mouse</td>\n",
       "      <td>0</td>\n",
       "      <td>1019.0</td>\n",
       "      <td>Linnarsson</td>\n",
       "    </tr>\n",
       "    <tr>\n",
       "      <th>10X52_4_CATAGAGTCGTA-</th>\n",
       "      <td>p20</td>\n",
       "      <td></td>\n",
       "      <td>10X52_4_CATAGAGTCGTA-</td>\n",
       "      <td>Astrocytes</td>\n",
       "      <td>ACMB</td>\n",
       "      <td>Dorsal midbrain Myoc-expressing astrocyte-like</td>\n",
       "      <td>Drd1,Tac1 and dissection region</td>\n",
       "      <td></td>\n",
       "      <td></td>\n",
       "      <td></td>\n",
       "      <td>...</td>\n",
       "      <td>Astrocytes</td>\n",
       "      <td>10X52</td>\n",
       "      <td>10X52_4</td>\n",
       "      <td>SI-3A-D10</td>\n",
       "      <td>13</td>\n",
       "      <td>CD-1</td>\n",
       "      <td>Astrocytes; mouse</td>\n",
       "      <td>0</td>\n",
       "      <td>2431.0</td>\n",
       "      <td>Linnarsson</td>\n",
       "    </tr>\n",
       "    <tr>\n",
       "      <th>10X57_3_TTGAACTAGACC-</th>\n",
       "      <td>p25-27</td>\n",
       "      <td></td>\n",
       "      <td>10X57_3_TTGAACTAGACC-</td>\n",
       "      <td>Astrocytes</td>\n",
       "      <td>ACMB</td>\n",
       "      <td>Dorsal midbrain Myoc-expressing astrocyte-like</td>\n",
       "      <td>Drd1,Tac1 and dissection region</td>\n",
       "      <td></td>\n",
       "      <td></td>\n",
       "      <td></td>\n",
       "      <td>...</td>\n",
       "      <td>Astrocytes</td>\n",
       "      <td>10X57</td>\n",
       "      <td>10X57_3</td>\n",
       "      <td>SI-3A-H1</td>\n",
       "      <td>13</td>\n",
       "      <td>Swiss</td>\n",
       "      <td>Astrocytes; mouse</td>\n",
       "      <td>0</td>\n",
       "      <td>1635.0</td>\n",
       "      <td>Linnarsson</td>\n",
       "    </tr>\n",
       "    <tr>\n",
       "      <th>10X57_3_TATGACTAAGGA-</th>\n",
       "      <td>p25-27</td>\n",
       "      <td></td>\n",
       "      <td>10X57_3_TATGACTAAGGA-</td>\n",
       "      <td>Astrocytes</td>\n",
       "      <td>ACMB</td>\n",
       "      <td>Dorsal midbrain Myoc-expressing astrocyte-like</td>\n",
       "      <td>Drd1,Tac1 and dissection region</td>\n",
       "      <td></td>\n",
       "      <td></td>\n",
       "      <td></td>\n",
       "      <td>...</td>\n",
       "      <td>Astrocytes</td>\n",
       "      <td>10X57</td>\n",
       "      <td>10X57_3</td>\n",
       "      <td>SI-3A-H1</td>\n",
       "      <td>13</td>\n",
       "      <td>Swiss</td>\n",
       "      <td>Astrocytes; mouse</td>\n",
       "      <td>0</td>\n",
       "      <td>3780.0</td>\n",
       "      <td>Linnarsson</td>\n",
       "    </tr>\n",
       "    <tr>\n",
       "      <th>10X57_3_CCGATGCGACTA-</th>\n",
       "      <td>p25-27</td>\n",
       "      <td></td>\n",
       "      <td>10X57_3_CCGATGCGACTA-</td>\n",
       "      <td>Astrocytes</td>\n",
       "      <td>ACMB</td>\n",
       "      <td>Dorsal midbrain Myoc-expressing astrocyte-like</td>\n",
       "      <td>Drd1,Tac1 and dissection region</td>\n",
       "      <td></td>\n",
       "      <td></td>\n",
       "      <td></td>\n",
       "      <td>...</td>\n",
       "      <td>Astrocytes</td>\n",
       "      <td>10X57</td>\n",
       "      <td>10X57_3</td>\n",
       "      <td>SI-3A-H1</td>\n",
       "      <td>13</td>\n",
       "      <td>Swiss</td>\n",
       "      <td>Astrocytes; mouse</td>\n",
       "      <td>0</td>\n",
       "      <td>1228.0</td>\n",
       "      <td>Linnarsson</td>\n",
       "    </tr>\n",
       "  </tbody>\n",
       "</table>\n",
       "<p>97302 rows × 25 columns</p>\n",
       "</div>"
      ],
      "text/plain": [
       "                             Age AnalysisPool                    CellID  \\\n",
       "CellID                                                                    \n",
       "10X53_4_GCAAACGGGATG-     p21-23                  10X53_4_GCAAACGGGATG-   \n",
       "10X53_4_TTAACTCTTCTA-     p21-23                  10X53_4_TTAACTCTTCTA-   \n",
       "10X53_4_ATGTTGCCAAGT-     p21-23                  10X53_4_ATGTTGCCAAGT-   \n",
       "10X53_6_ATGCACTTCATC-     p21-23                  10X53_6_ATGCACTTCATC-   \n",
       "10X52_7_CTAATGAGGGTG-        p20                  10X52_7_CTAATGAGGGTG-   \n",
       "...                          ...          ...                       ...   \n",
       "10X20_4_CGCTAAGACGAATC-1     p22               10X20_4_CGCTAAGACGAATC-1   \n",
       "10X52_4_CATAGAGTCGTA-        p20                  10X52_4_CATAGAGTCGTA-   \n",
       "10X57_3_TTGAACTAGACC-     p25-27                  10X57_3_TTGAACTAGACC-   \n",
       "10X57_3_TATGACTAAGGA-     p25-27                  10X57_3_TATGACTAAGGA-   \n",
       "10X57_3_CCGATGCGACTA-     p25-27                  10X57_3_CCGATGCGACTA-   \n",
       "\n",
       "                               Class ClusterName  \\\n",
       "CellID                                             \n",
       "10X53_4_GCAAACGGGATG-         Oligos        MOL3   \n",
       "10X53_4_TTAACTCTTCTA-         Oligos        MOL3   \n",
       "10X53_4_ATGTTGCCAAGT-         Oligos        MOL3   \n",
       "10X53_6_ATGCACTTCATC-         Oligos        MOL3   \n",
       "10X52_7_CTAATGAGGGTG-         Oligos        MOL3   \n",
       "...                              ...         ...   \n",
       "10X20_4_CGCTAAGACGAATC-1  Astrocytes        ACMB   \n",
       "10X52_4_CATAGAGTCGTA-     Astrocytes        ACMB   \n",
       "10X57_3_TTGAACTAGACC-     Astrocytes        ACMB   \n",
       "10X57_3_TATGACTAAGGA-     Astrocytes        ACMB   \n",
       "10X57_3_CCGATGCGACTA-     Astrocytes        ACMB   \n",
       "\n",
       "                                                                Description  \\\n",
       "CellID                                                                        \n",
       "10X53_4_GCAAACGGGATG-     Mature oligodendrocytes, spinal cord enriched ...   \n",
       "10X53_4_TTAACTCTTCTA-     Mature oligodendrocytes, spinal cord enriched ...   \n",
       "10X53_4_ATGTTGCCAAGT-     Mature oligodendrocytes, spinal cord enriched ...   \n",
       "10X53_6_ATGCACTTCATC-     Mature oligodendrocytes, spinal cord enriched ...   \n",
       "10X52_7_CTAATGAGGGTG-     Mature oligodendrocytes, spinal cord enriched ...   \n",
       "...                                                                     ...   \n",
       "10X20_4_CGCTAAGACGAATC-1     Dorsal midbrain Myoc-expressing astrocyte-like   \n",
       "10X52_4_CATAGAGTCGTA-        Dorsal midbrain Myoc-expressing astrocyte-like   \n",
       "10X57_3_TTGAACTAGACC-        Dorsal midbrain Myoc-expressing astrocyte-like   \n",
       "10X57_3_TATGACTAAGGA-        Dorsal midbrain Myoc-expressing astrocyte-like   \n",
       "10X57_3_CCGATGCGACTA-        Dorsal midbrain Myoc-expressing astrocyte-like   \n",
       "\n",
       "                                        Location_based_on Mean Reads per Cell  \\\n",
       "CellID                                                                          \n",
       "10X53_4_GCAAACGGGATG-                       Apold1,Cyp1b1                       \n",
       "10X53_4_TTAACTCTTCTA-                       Apold1,Cyp1b1                       \n",
       "10X53_4_ATGTTGCCAAGT-                       Apold1,Cyp1b1                       \n",
       "10X53_6_ATGCACTTCATC-                       Apold1,Cyp1b1                       \n",
       "10X52_7_CTAATGAGGGTG-                       Apold1,Cyp1b1                       \n",
       "...                                                   ...                 ...   \n",
       "10X20_4_CGCTAAGACGAATC-1  Drd1,Tac1 and dissection region                       \n",
       "10X52_4_CATAGAGTCGTA-     Drd1,Tac1 and dissection region                       \n",
       "10X57_3_TTGAACTAGACC-     Drd1,Tac1 and dissection region                       \n",
       "10X57_3_TATGACTAAGGA-     Drd1,Tac1 and dissection region                       \n",
       "10X57_3_CCGATGCGACTA-     Drd1,Tac1 and dissection region                       \n",
       "\n",
       "                         Median UMI Counts per Cell Neurotransmitter  ...  \\\n",
       "CellID                                                                ...   \n",
       "10X53_4_GCAAACGGGATG-                                                 ...   \n",
       "10X53_4_TTAACTCTTCTA-                                                 ...   \n",
       "10X53_4_ATGTTGCCAAGT-                                                 ...   \n",
       "10X53_6_ATGCACTTCATC-                                                 ...   \n",
       "10X52_7_CTAATGAGGGTG-                                                 ...   \n",
       "...                                             ...              ...  ...   \n",
       "10X20_4_CGCTAAGACGAATC-1                                              ...   \n",
       "10X52_4_CATAGAGTCGTA-                                                 ...   \n",
       "10X57_3_TTGAACTAGACC-                                                 ...   \n",
       "10X57_3_TATGACTAAGGA-                                                 ...   \n",
       "10X57_3_CCGATGCGACTA-                                                 ...   \n",
       "\n",
       "                         bio_celltype ChipID SampleID SampleIndex PCRCycles  \\\n",
       "CellID                                                                        \n",
       "10X53_4_GCAAACGGGATG-          Oligos  10X53  10X53_4   SI-3A-D11        13   \n",
       "10X53_4_TTAACTCTTCTA-          Oligos  10X53  10X53_4   SI-3A-D11        13   \n",
       "10X53_4_ATGTTGCCAAGT-          Oligos  10X53  10X53_4   SI-3A-D11        13   \n",
       "10X53_6_ATGCACTTCATC-          Oligos  10X53  10X53_6   SI-3A-F11        13   \n",
       "10X52_7_CTAATGAGGGTG-          Oligos  10X52  10X52_7   SI-3A-G10        13   \n",
       "...                               ...    ...      ...         ...       ...   \n",
       "10X20_4_CGCTAAGACGAATC-1   Astrocytes  10X20  10X20_4    SI-3A-D5        13   \n",
       "10X52_4_CATAGAGTCGTA-      Astrocytes  10X52  10X52_4   SI-3A-D10        13   \n",
       "10X57_3_TTGAACTAGACC-      Astrocytes  10X57  10X57_3    SI-3A-H1        13   \n",
       "10X57_3_TATGACTAAGGA-      Astrocytes  10X57  10X57_3    SI-3A-H1        13   \n",
       "10X57_3_CCGATGCGACTA-      Astrocytes  10X57  10X57_3    SI-3A-H1        13   \n",
       "\n",
       "                         Strain  Celltype_assigned value n_transcripts  \\\n",
       "CellID                                                                   \n",
       "10X53_4_GCAAACGGGATG-     Swiss   Oligodendrocytes     0        6135.0   \n",
       "10X53_4_TTAACTCTTCTA-     Swiss   Oligodendrocytes     0        5506.0   \n",
       "10X53_4_ATGTTGCCAAGT-     Swiss   Oligodendrocytes     0        6966.0   \n",
       "10X53_6_ATGCACTTCATC-     Swiss   Oligodendrocytes     0       14138.0   \n",
       "10X52_7_CTAATGAGGGTG-      CD-1   Oligodendrocytes     0        8491.0   \n",
       "...                         ...                ...   ...           ...   \n",
       "10X20_4_CGCTAAGACGAATC-1   CD-1  Astrocytes; mouse     0        1019.0   \n",
       "10X52_4_CATAGAGTCGTA-      CD-1  Astrocytes; mouse     0        2431.0   \n",
       "10X57_3_TTGAACTAGACC-     Swiss  Astrocytes; mouse     0        1635.0   \n",
       "10X57_3_TATGACTAAGGA-     Swiss  Astrocytes; mouse     0        3780.0   \n",
       "10X57_3_CCGATGCGACTA-     Swiss  Astrocytes; mouse     0        1228.0   \n",
       "\n",
       "                              Sample  \n",
       "CellID                                \n",
       "10X53_4_GCAAACGGGATG-     Linnarsson  \n",
       "10X53_4_TTAACTCTTCTA-     Linnarsson  \n",
       "10X53_4_ATGTTGCCAAGT-     Linnarsson  \n",
       "10X53_6_ATGCACTTCATC-     Linnarsson  \n",
       "10X52_7_CTAATGAGGGTG-     Linnarsson  \n",
       "...                              ...  \n",
       "10X20_4_CGCTAAGACGAATC-1  Linnarsson  \n",
       "10X52_4_CATAGAGTCGTA-     Linnarsson  \n",
       "10X57_3_TTGAACTAGACC-     Linnarsson  \n",
       "10X57_3_TATGACTAAGGA-     Linnarsson  \n",
       "10X57_3_CCGATGCGACTA-     Linnarsson  \n",
       "\n",
       "[97302 rows x 25 columns]"
      ]
     },
     "execution_count": 53,
     "metadata": {},
     "output_type": "execute_result"
    }
   ],
   "source": [
    "adata_selected_filt.obs['Sample'] = 'Linnarsson'\n",
    "adata_selected_filt.obs"
   ]
  },
  {
   "cell_type": "code",
   "execution_count": 54,
   "id": "7d13c1a6",
   "metadata": {},
   "outputs": [
    {
     "data": {
      "text/plain": [
       "'../../data/sc_data/mouse_sc/L5_011222/L5_CTX_M_STR_CNS_description_selection_1000_astmerged_Tax4'"
      ]
     },
     "execution_count": 54,
     "metadata": {},
     "output_type": "execute_result"
    }
   ],
   "source": [
    "export_name"
   ]
  },
  {
   "cell_type": "code",
   "execution_count": 55,
   "id": "b868c1e5",
   "metadata": {},
   "outputs": [],
   "source": [
    "adata_selected_filt.write_h5ad(f'{export_name}.h5ad')"
   ]
  },
  {
   "cell_type": "code",
   "execution_count": 56,
   "id": "aa40b9de",
   "metadata": {},
   "outputs": [],
   "source": [
    "adata_selected_filt.write_loom(f'{export_name}.loom')"
   ]
  },
  {
   "cell_type": "code",
   "execution_count": 29,
   "id": "5bbf35d7",
   "metadata": {},
   "outputs": [],
   "source": [
    "with open(f'{export_name}.pkl', 'wb') as export:\n",
    "        pickle.dump(adata_selected_filt, export)"
   ]
  },
  {
   "cell_type": "code",
   "execution_count": 7,
   "id": "a7063bef",
   "metadata": {
    "scrolled": true
   },
   "outputs": [
    {
     "data": {
      "text/plain": [
       "AnnData object with n_obs × n_vars = 97302 × 27794\n",
       "    obs: 'Age', 'AnalysisPool', 'CellID', 'Class', 'ClusterName', 'Description', 'Location_based_on', 'Mean Reads per Cell', 'Median UMI Counts per Cell', 'Neurotransmitter', 'Region', 'TaxonomyRank1', 'TaxonomyRank2', 'TaxonomyRank3', 'TaxonomyRank4', 'bio_celltype', 'ChipID', 'SampleID', 'SampleIndex', 'PCRCycles', 'Strain', 'Celltype_assigned', 'value', 'n_transcripts', 'Sample'\n",
       "    var: 'Accession', 'Gene', 'Gene_no_alt', 'value'\n",
       "    uns: 'merged'"
      ]
     },
     "execution_count": 7,
     "metadata": {},
     "output_type": "execute_result"
    }
   ],
   "source": [
    "with open(f'{export_name}.pkl', 'rb') as imported:\n",
    "    adata_selected_filt = pickle.load(imported)\n",
    "adata_selected_filt"
   ]
  },
  {
   "cell_type": "code",
   "execution_count": 11,
   "id": "6ca055c4",
   "metadata": {},
   "outputs": [],
   "source": [
    "adata_selected_filt = adata_selected_filt[adata_selected_filt.obs['Celltype_assigned'] != 'Cerebellum neurons', :]"
   ]
  },
  {
   "cell_type": "code",
   "execution_count": 12,
   "id": "0cd2b5e3",
   "metadata": {},
   "outputs": [
    {
     "data": {
      "text/plain": [
       "View of AnnData object with n_obs × n_vars = 97274 × 27794\n",
       "    obs: 'Age', 'AnalysisPool', 'CellID', 'Class', 'ClusterName', 'Description', 'Location_based_on', 'Mean Reads per Cell', 'Median UMI Counts per Cell', 'Neurotransmitter', 'Region', 'TaxonomyRank1', 'TaxonomyRank2', 'TaxonomyRank3', 'TaxonomyRank4', 'bio_celltype', 'ChipID', 'SampleID', 'SampleIndex', 'PCRCycles', 'Strain', 'Celltype_assigned', 'value', 'n_transcripts', 'Sample'\n",
       "    var: 'Accession', 'Gene', 'Gene_no_alt', 'value'\n",
       "    uns: 'merged'"
      ]
     },
     "execution_count": 12,
     "metadata": {},
     "output_type": "execute_result"
    }
   ],
   "source": [
    "adata_selected_filt"
   ]
  },
  {
   "cell_type": "code",
   "execution_count": 10,
   "id": "9e927298",
   "metadata": {},
   "outputs": [],
   "source": [
    "def subsample_anndata(anndata, annot_column='Celltype_assigned', counts=[50, 5000000]):\n",
    "    print(f'Dataset will be downsampled to contain between {counts[0]} and {counts[1]} cells per celltype')\n",
    "    anndata_subset = anndata.copy()\n",
    "    cells_to_keep = []\n",
    "\n",
    "    for x in anndata_subset.obs[annot_column].unique():\n",
    "        print(x)\n",
    "        all_cells = anndata_subset.obs[anndata_subset.obs[annot_column] == x]['CellID'].to_list()\n",
    "        if len(all_cells) < counts[0]:\n",
    "            anndata_subset = anndata_subset[anndata_subset.obs[annot_column] != x, :]\n",
    "            print(f'{x} with {len(all_cells)} cells will be dropped')\n",
    "        elif len(all_cells) >= counts[0] and len(all_cells) <= counts[1]:\n",
    "            cells_to_keep += all_cells\n",
    "            print(f'All {len(all_cells)} cells will be used')\n",
    "        elif len(all_cells) > counts[1]:\n",
    "            cells_that_won_the_lottery = np.random.choice(all_cells, size=counts[1], replace=False).tolist()\n",
    "            print(f'{len(cells_that_won_the_lottery)} cells will be kept out of {len(all_cells)}')\n",
    "            cells_to_keep += cells_that_won_the_lottery\n",
    "    \n",
    "    anndata_subset = anndata_subset[anndata_subset.obs['CellID'].isin(cells_to_keep), :]\n",
    "    print(anndata_subset.obs[annot_column].value_counts())\n",
    "    \n",
    "    return anndata_subset"
   ]
  },
  {
   "cell_type": "code",
   "execution_count": 45,
   "id": "acc2c967",
   "metadata": {
    "scrolled": false
   },
   "outputs": [
    {
     "name": "stdout",
     "output_type": "stream",
     "text": [
      "Dataset will be downsampled to contain between 50 and 500 cells per celltype\n",
      "Oligodendrocytes\n",
      "500 cells will be kept out of 16336\n",
      "Cortical projection neurons; mouse\n",
      "500 cells will be kept out of 14624\n",
      "Excitatory neurons, amygdala\n",
      "500 cells will be kept out of 871\n",
      "Excitatory neurons, hippocampus CA3\n",
      "All 455 cells will be used\n",
      "Excitatory neurons, hippocampus CA1\n",
      "500 cells will be kept out of 1978\n",
      "R-LM border Cck interneurons, cortex/hippocampus\n",
      "500 cells will be kept out of 1227\n",
      "Non-border Cck interneurons, cortex/hippocampus\n",
      "All 279 cells will be used\n",
      "Interneuron-selective interneurons, cortex/hippocampus\n",
      "500 cells will be kept out of 1071\n",
      "CGE-derived neurogliaform cells Cxcl14+, cortex/hippocampus\n",
      "All 383 cells will be used\n",
      "Ivy and MGE-derived neurogliaform cells, cortex/hippocampus\n",
      "500 cells will be kept out of 617\n",
      "CGE-derived neurogliaform cells, cortex/hippocampus\n",
      "500 cells will be kept out of 978\n",
      "Hippocamposeptal projection, cortex/hippocampus\n",
      "500 cells will be kept out of 1029\n",
      "Sleep-active, long-range projection interneurons, cortex/hippocampus\n",
      "All 338 cells will be used\n",
      "Dopaminergic neurons; mouse\n",
      "All 100 cells will be used\n",
      "Cholinergic neurons, midbrain red nucleus\n",
      "All 60 cells will be used\n",
      "D1 Medium Spiny Neurons; mouse\n",
      "500 cells will be kept out of 2518\n",
      "D2 Medium Spiny Neurons; mouse\n",
      "500 cells will be kept out of 2152\n",
      "D1/D2 Medium Spiny Neurons, striatum\n",
      "All 332 cells will be used\n",
      "Dentate gyrus radial glia-like cells\n",
      "All 91 cells will be used\n",
      "Subventricular zone radial glia-like cells\n",
      "All 146 cells will be used\n",
      "Neuronal intermidate progenitor cells\n",
      "500 cells will be kept out of 726\n",
      "Neuroblasts\n",
      "All 109 cells will be used\n",
      "Cholinergic interneurons; mouse\n",
      "All 232 cells will be used\n",
      "Inhibitory neurons, midbrain\n",
      "500 cells will be kept out of 520\n",
      "Axo-axonic, cortex/hippocampus\n",
      "500 cells will be kept out of 585\n",
      "Basket and bistratified cells, cortex/hippocampus\n",
      "500 cells will be kept out of 533\n",
      "Inhibitory neurons, septal nucleus\n",
      "500 cells will be kept out of 1168\n",
      "Vascular leptomeningeal cells; mouse\n",
      "500 cells will be kept out of 893\n",
      "Vascular; mouse\n",
      "500 cells will be kept out of 8246\n",
      "Immune cells; mouse\n",
      "500 cells will be kept out of 3652\n",
      "Telencephalon astrocytes, fibrous; mouse\n",
      "500 cells will be kept out of 1740\n",
      "Telencephalon astrocytes, protoplasmic; mouse\n",
      "500 cells will be kept out of 1171\n",
      "Non-telencephalon astrocytes, protoplasmic; mouse\n",
      "500 cells will be kept out of 1204\n",
      "Non-telencephalon astrocytes, fibrous; mouse\n",
      "500 cells will be kept out of 1084\n",
      "Dorsal midbrain Myoc-expressing astrocyte-like; mouse\n",
      "500 cells will be kept out of 639\n",
      "Vascular; mouse                                                         502\n",
      "D1 Medium Spiny Neurons; mouse                                          502\n",
      "Hippocamposeptal projection, cortex/hippocampus                         501\n",
      "Ivy and MGE-derived neurogliaform cells, cortex/hippocampus             501\n",
      "Vascular leptomeningeal cells; mouse                                    500\n",
      "Telencephalon astrocytes, protoplasmic; mouse                           500\n",
      "Telencephalon astrocytes, fibrous; mouse                                500\n",
      "R-LM border Cck interneurons, cortex/hippocampus                        500\n",
      "Oligodendrocytes                                                        500\n",
      "Non-telencephalon astrocytes, protoplasmic; mouse                       500\n",
      "Non-telencephalon astrocytes, fibrous; mouse                            500\n",
      "Neuronal intermidate progenitor cells                                   500\n",
      "Interneuron-selective interneurons, cortex/hippocampus                  500\n",
      "Inhibitory neurons, septal nucleus                                      500\n",
      "Inhibitory neurons, midbrain                                            500\n",
      "Basket and bistratified cells, cortex/hippocampus                       500\n",
      "Axo-axonic, cortex/hippocampus                                          500\n",
      "Immune cells; mouse                                                     500\n",
      "D2 Medium Spiny Neurons; mouse                                          500\n",
      "Excitatory neurons, amygdala                                            500\n",
      "Dorsal midbrain Myoc-expressing astrocyte-like; mouse                   500\n",
      "CGE-derived neurogliaform cells, cortex/hippocampus                     500\n",
      "Cortical projection neurons; mouse                                      500\n",
      "Excitatory neurons, hippocampus CA1                                     500\n",
      "Excitatory neurons, hippocampus CA3                                     455\n",
      "CGE-derived neurogliaform cells Cxcl14+, cortex/hippocampus             383\n",
      "Sleep-active, long-range projection interneurons, cortex/hippocampus    338\n",
      "D1/D2 Medium Spiny Neurons, striatum                                    332\n",
      "Non-border Cck interneurons, cortex/hippocampus                         279\n",
      "Cholinergic interneurons; mouse                                         232\n",
      "Subventricular zone radial glia-like cells                              146\n",
      "Neuroblasts                                                             109\n",
      "Dopaminergic neurons; mouse                                             100\n",
      "Dentate gyrus radial glia-like cells                                     91\n",
      "Cholinergic neurons, midbrain red nucleus                                60\n",
      "Name: Celltype_assigned, dtype: int64\n"
     ]
    },
    {
     "name": "stderr",
     "output_type": "stream",
     "text": [
      "/home/lcadmin/miniconda3/envs/ST_pipeline/lib/python3.9/site-packages/anndata/_core/anndata.py:1828: UserWarning: Observation names are not unique. To make them unique, call `.obs_names_make_unique`.\n",
      "  utils.warn_names_duplicates(\"obs\")\n"
     ]
    }
   ],
   "source": [
    "adata_selected_subset = subsample_anndata(adata_selected_filt, annot_column='Celltype_assigned', counts=[50, 50000000000])"
   ]
  },
  {
   "cell_type": "code",
   "execution_count": 11,
   "id": "dca31755",
   "metadata": {},
   "outputs": [],
   "source": [
    "# Plot UMAP for the subsampled dataset\n",
    "adata_selected_subset.raw = adata_selected_subset.copy()\n",
    "sc.pp.normalize_per_cell(adata_selected_subset)\n",
    "sc.pp.log1p(adata_selected_subset)"
   ]
  },
  {
   "cell_type": "code",
   "execution_count": 12,
   "id": "b33d025b",
   "metadata": {},
   "outputs": [
    {
     "name": "stdout",
     "output_type": "stream",
     "text": [
      "WARNING: You’re trying to run this on 27794 dimensions of `.X`, if you really want this, set `use_rep='X'`.\n",
      "         Falling back to preprocessing with `sc.pp.pca` and default params.\n"
     ]
    }
   ],
   "source": [
    "sc.pp.neighbors(adata_selected_subset)\n",
    "sc.tl.pca(adata_selected_subset)\n",
    "sc.tl.umap(adata_selected_subset)"
   ]
  },
  {
   "cell_type": "code",
   "execution_count": 13,
   "id": "647ca708",
   "metadata": {
    "scrolled": false
   },
   "outputs": [
    {
     "data": {
      "image/png": "[encoded data removed]",
      "text/plain": [
       "<Figure size 989.28x288 with 3 Axes>"
      ]
     },
     "metadata": {
      "needs_background": "light"
     },
     "output_type": "display_data"
    }
   ],
   "source": [
    "sc.pl.umap(adata_selected_subset, color=['GFAP', 'Celltype_assigned'])"
   ]
  },
  {
   "cell_type": "code",
   "execution_count": 46,
   "id": "6e964b15",
   "metadata": {},
   "outputs": [
    {
     "data": {
      "text/plain": [
       "'../../data/stereoscope_reference/single_cell_data/L5_061022/L5_CTX_M_STR_descriptionr_selection_subset_50-500'"
      ]
     },
     "execution_count": 46,
     "metadata": {},
     "output_type": "execute_result"
    }
   ],
   "source": [
    "export_name_subset = f'{export_name}_subset_50-500'\n",
    "export_name_subset"
   ]
  },
  {
   "cell_type": "code",
   "execution_count": 47,
   "id": "03f62708",
   "metadata": {},
   "outputs": [
    {
     "name": "stderr",
     "output_type": "stream",
     "text": [
      "/home/lcadmin/miniconda3/envs/ST_pipeline/lib/python3.9/site-packages/anndata/_core/anndata.py:1828: UserWarning: Observation names are not unique. To make them unique, call `.obs_names_make_unique`.\n",
      "  utils.warn_names_duplicates(\"obs\")\n"
     ]
    }
   ],
   "source": [
    "adata_selected_subset.obs_names_make_unique()"
   ]
  },
  {
   "cell_type": "code",
   "execution_count": 49,
   "id": "1db0a8fa",
   "metadata": {},
   "outputs": [],
   "source": [
    "adata_selected_subset.write_h5ad(f'{export_name_subset}.h5ad')"
   ]
  },
  {
   "cell_type": "code",
   "execution_count": 50,
   "id": "a2615c71",
   "metadata": {},
   "outputs": [],
   "source": [
    "with open(f'{export_name_subset}.pkl', 'wb') as export:\n",
    "    pickle.dump(adata_selected_subset, export)"
   ]
  }
 ],
 "metadata": {
  "kernelspec": {
   "display_name": "Python 3 (ipykernel)",
   "language": "python",
   "name": "python3"
  },
  "language_info": {
   "codemirror_mode": {
    "name": "ipython",
    "version": 3
   },
   "file_extension": ".py",
   "mimetype": "text/x-python",
   "name": "python",
   "nbconvert_exporter": "python",
   "pygments_lexer": "ipython3",
   "version": "3.9.12"
  }
 },
 "nbformat": 4,
 "nbformat_minor": 5
}
