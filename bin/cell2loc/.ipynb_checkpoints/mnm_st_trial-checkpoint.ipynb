{
 "cells": [
  {
   "cell_type": "code",
   "execution_count": 1,
   "id": "5363f470",
   "metadata": {},
   "outputs": [],
   "source": [
    "def subsample_anndata(anndata, annot_column='Celltype_assigned', counts=[45, 1000]):\n",
    "    print(f'Dataset will be downsampled to contain between {counts[0]} and {counts[1]} cells per celltype')\n",
    "    anndata_subset = anndata.copy()\n",
    "    cells_to_keep = []\n",
    "\n",
    "    for x in anndata_subset.obs[annot_column].unique():\n",
    "        print(x)\n",
    "        all_cells = anndata_subset.obs[anndata_subset.obs[annot_column] == x]['CellID'].to_list()\n",
    "        if len(all_cells) < counts[0]:\n",
    "            anndata_subset = anndata_subset[anndata_subset.obs[annot_column] != x, :]\n",
    "            print(f'{x} with {len(all_cells)} cells will be dropped')\n",
    "        elif len(all_cells) >= counts[0] and len(all_cells) <= counts[1]:\n",
    "            cells_to_keep += all_cells\n",
    "            print(f'All {len(all_cells)} cells will be used')\n",
    "        elif len(all_cells) > counts[1]:\n",
    "            cells_that_won_the_lottery = np.random.choice(all_cells, size=counts[1], replace=False).tolist()\n",
    "            print(f'{len(cells_that_won_the_lottery)} cells will be kept out of {len(all_cells)}')\n",
    "            cells_to_keep += cells_that_won_the_lottery\n",
    "    \n",
    "    anndata_subset = anndata_subset[anndata_subset.obs['CellID'].isin(cells_to_keep), :]\n",
    "    print(anndata_subset.obs[annot_column].value_counts())\n",
    "    \n",
    "    return anndata_subset"
   ]
  },
  {
   "cell_type": "code",
   "execution_count": 2,
   "id": "c5e1547e",
   "metadata": {},
   "outputs": [],
   "source": [
    "from src.utils import *"
   ]
  },
  {
   "cell_type": "code",
   "execution_count": 3,
   "id": "fbf63ac1",
   "metadata": {
    "scrolled": true
   },
   "outputs": [
    {
     "name": "stderr",
     "output_type": "stream",
     "text": [
      "OMP: Info #276: omp_set_nested routine deprecated, please use omp_set_max_active_levels instead.\n",
      "Global seed set to 0\n"
     ]
    }
   ],
   "source": [
    "import scanpy as sc\n",
    "import os\n",
    "import re\n",
    "import anndata\n",
    "import pandas as pd\n",
    "import numpy as np\n",
    "import matplotlib.pyplot as plt\n",
    "import matplotlib as mpl\n",
    "import loompy\n",
    "import pickle\n",
    "\n",
    "import cell2location\n",
    "import scvi\n",
    "from PIL import Image\n",
    "\n",
    "from matplotlib import rcParams\n",
    "rcParams['pdf.fonttype'] = 42 # enables correct plotting of text for PDFsx\n",
    "\n",
    "import math\n",
    "import mygene\n",
    "mg = mygene.MyGeneInfo()"
   ]
  },
  {
   "cell_type": "code",
   "execution_count": 4,
   "id": "3116a5ad",
   "metadata": {
    "scrolled": true
   },
   "outputs": [
    {
     "data": {
      "text/plain": [
       "True"
      ]
     },
     "execution_count": 4,
     "metadata": {},
     "output_type": "execute_result"
    }
   ],
   "source": [
    "import torch\n",
    "torch.cuda.is_available()"
   ]
  },
  {
   "cell_type": "code",
   "execution_count": 5,
   "id": "f1571e18",
   "metadata": {},
   "outputs": [],
   "source": [
    "results_folder = './results/L5_20092022_reference/'\n",
    "\n",
    "# create paths and names to results folders for reference regression and cell2location models\n",
    "ref_run_name = f'{results_folder}/reference_signatures'\n",
    "run_name = f'{results_folder}/cell2location_map' \n",
    "\n",
    "os.makedirs(ref_run_name, exist_ok=True)"
   ]
  },
  {
   "cell_type": "code",
   "execution_count": 6,
   "id": "70371a4b",
   "metadata": {},
   "outputs": [],
   "source": [
    "st_path = '../../data/ST_files/ST_matrix_STARsolo_correct_PetterREFs_Multimap/stdata/'\n",
    "image_path = '../../../Images_rev1/'\n",
    "samples = ['ST3_D1', 'CN56_E1', 'ST3_C2', 'ST3_D2','ST3_E1','ST3_E2', 'CN56_E2', \n",
    "           'CN56_C2', 'CN56_D2']\n",
    "samples = ['ST3_D1', 'CN56_E1']\n",
    "pickle_id = 'ST3_CN56'\n",
    "sample_list = []"
   ]
  },
  {
   "cell_type": "code",
   "execution_count": 7,
   "id": "f5ae06ae",
   "metadata": {},
   "outputs": [
    {
     "data": {
      "text/plain": [
       "'./results/L5_20092022_reference//reference_signatures/adata_vis_ST3_CN56.pickle'"
      ]
     },
     "execution_count": 7,
     "metadata": {},
     "output_type": "execute_result"
    }
   ],
   "source": [
    "st_pickle = f'{ref_run_name}/adata_vis_{pickle_id}.pickle'\n",
    "st_pickle"
   ]
  },
  {
   "cell_type": "code",
   "execution_count": 8,
   "id": "ef68fed1",
   "metadata": {
    "scrolled": true
   },
   "outputs": [
    {
     "name": "stdout",
     "output_type": "stream",
     "text": [
      "ST3_D1\n",
      "dataset loaded\n",
      "adding image\n",
      "CN56_E1\n",
      "dataset loaded\n",
      "adding image\n",
      "ST3_C2\n",
      "dataset loaded\n",
      "adding image\n",
      "ST3_D2\n",
      "dataset loaded\n",
      "adding image\n",
      "ST3_E1\n",
      "dataset loaded\n",
      "adding image\n",
      "ST3_E2\n",
      "dataset loaded\n",
      "adding image\n",
      "CN56_E2\n",
      "dataset loaded\n",
      "adding image\n",
      "CN56_C2\n",
      "dataset loaded\n",
      "adding image\n",
      "CN56_D2\n",
      "dataset loaded\n",
      "adding image\n"
     ]
    },
    {
     "ename": "TypeError",
     "evalue": "st_concat_anndata() takes no arguments",
     "output_type": "error",
     "traceback": [
      "\u001b[0;31m---------------------------------------------------------------------------\u001b[0m",
      "\u001b[0;31mTypeError\u001b[0m                                 Traceback (most recent call last)",
      "Input \u001b[0;32mIn [8]\u001b[0m, in \u001b[0;36m<cell line: 1>\u001b[0;34m()\u001b[0m\n\u001b[1;32m     12\u001b[0m     adata \u001b[38;5;241m=\u001b[39m adata\u001b[38;5;241m.\u001b[39manndata\n\u001b[1;32m     13\u001b[0m     sample_list\u001b[38;5;241m.\u001b[39mappend(adata)\n\u001b[0;32m---> 15\u001b[0m adata_vis \u001b[38;5;241m=\u001b[39m \u001b[43mst_concat_anndata\u001b[49m\u001b[43m(\u001b[49m\u001b[43msample_list\u001b[49m\u001b[43m,\u001b[49m\u001b[43m \u001b[49m\u001b[43msamples\u001b[49m\u001b[43m)\u001b[49m\n\u001b[1;32m     17\u001b[0m merge_gene_symbol_duplicates(adata_vis\u001b[38;5;241m.\u001b[39manndata, symbol_column\u001b[38;5;241m=\u001b[39m\u001b[38;5;124m'\u001b[39m\u001b[38;5;124mgene_ids\u001b[39m\u001b[38;5;124m'\u001b[39m)\n\u001b[1;32m     19\u001b[0m \u001b[38;5;28;01mwith\u001b[39;00m \u001b[38;5;28mopen\u001b[39m(st_pickle, \u001b[38;5;124m'\u001b[39m\u001b[38;5;124mwb\u001b[39m\u001b[38;5;124m'\u001b[39m) \u001b[38;5;28;01mas\u001b[39;00m f:\n",
      "\u001b[0;31mTypeError\u001b[0m: st_concat_anndata() takes no arguments"
     ]
    }
   ],
   "source": [
    "if os.path.isfile(st_pickle):\n",
    "    print('loading saved dataset')\n",
    "    with open(st_pickle, 'rb') as f:\n",
    "        adata_vis = pickle.load(f)\n",
    "else:\n",
    "    for sample in samples:\n",
    "        print(sample)\n",
    "        adata = STLoader(st_path, sample)\n",
    "        adata.add_image(image_path)\n",
    "        print('adding image')\n",
    "        adata.correct_feature_position(image_path)\n",
    "        adata = adata.anndata\n",
    "        sample_list.append(adata)\n",
    "        \n",
    "    adata_vis = st_concat_anndata(sample_list, samples)\n",
    "\n",
    "    merge_gene_symbol_duplicates(adata_vis.anndata, symbol_column='gene_ids')\n",
    "\n",
    "    with open(st_pickle, 'wb') as f:\n",
    "        pickle.dump(adata_vis, f)"
   ]
  },
  {
   "cell_type": "code",
   "execution_count": null,
   "id": "3db9826e",
   "metadata": {},
   "outputs": [],
   "source": [
    "def select_slide(adata, s, s_col='sample'):\n",
    "    r\"\"\" This function selects the data for one slide from the spatial anndata object.\n",
    "\n",
    "    :param adata: Anndata object with multiple spatial experiments\n",
    "    :param s: name of selected experiment\n",
    "    :param s_col: column in adata.obs listing experiment name for each location\n",
    "    \"\"\"\n",
    "\n",
    "    slide = adata[adata.obs[s_col].isin([s]), :]\n",
    "    s_keys = list(slide.uns['spatial'].keys())\n",
    "    s_spatial = np.array(s_keys)[[s in k for k in s_keys]][0]\n",
    "\n",
    "    slide.uns['spatial'] = {s_spatial: slide.uns['spatial'][s_spatial]}\n",
    "\n",
    "    return slide"
   ]
  },
  {
   "cell_type": "code",
   "execution_count": null,
   "id": "eaea3bd0",
   "metadata": {
    "scrolled": false
   },
   "outputs": [],
   "source": [
    "# #run if you want to select species (only works with teh ensembl file)\n",
    "# adata_vis.select_species('ENSG')\n",
    "# adata_vis.anndata"
   ]
  },
  {
   "cell_type": "code",
   "execution_count": null,
   "id": "bec36077",
   "metadata": {},
   "outputs": [],
   "source": [
    "adata_vis = adata_vis.anndata"
   ]
  },
  {
   "cell_type": "code",
   "execution_count": null,
   "id": "92267ae4",
   "metadata": {
    "scrolled": true
   },
   "outputs": [],
   "source": [
    "sample = samples[3]\n",
    "c = np.sum(adata_vis[adata_vis.obs['sample'] == sample, :].X, axis=1)\n",
    "adata_vis.obsm['spatial']\n",
    "x = select_slide(adata_vis, sample)\n",
    "plt.scatter(x.obsm['spatial'][:, 0], x.obsm['spatial'][:, 1], c=c)\n",
    "plt.show()"
   ]
  },
  {
   "cell_type": "code",
   "execution_count": null,
   "id": "32fa48ea",
   "metadata": {},
   "outputs": [],
   "source": [
    "## load single cell data \n",
    "sc_file = '../../data/stereoscope_reference/single_cell_data/L5_200922/L5_selection.pkl'\n",
    "    \n",
    "if '.pkl' not in str(sc_file):\n",
    "    print('new anndata')\n",
    "    sc_obs = pd.read_csv(sc_path + [file for file in os.listdir(sc_path) if 'mta_data' in file][0], sep='\\t', \n",
    "                     header=0, \n",
    "                     index_col=False)\n",
    "    sc_obs.index = sc_path.split('/')[-2] + '_' + sc_obs['cell']\n",
    "    \n",
    "    sc_cnt = pd.read_csv(sc_path + [file for file in os.listdir(sc_path) if 'cnt_data' in file][0], sep='\\t',\n",
    "                    index_col=0,\n",
    "                    header=0)\n",
    "    \n",
    "    sc_var = pd.DataFrame(sc_cnt.columns)\n",
    "    sc_var.columns = ['SYMBOL']\n",
    "    sc_var.index = sc_var['SYMBOL']\n",
    "    \n",
    "    sc_adata = anndata.AnnData(obs=sc_obs, var=sc_var, X = sc_cnt.iloc[:,:].to_numpy())\n",
    "\n",
    "    outfile = open(sc_path + filename,'wb')\n",
    "    pickle.dump(sc_adata, outfile)\n",
    "    outfile.close()\n",
    "else:\n",
    "    print('found a pickle!')\n",
    "    with open(sc_file,'rb') as infile:\n",
    "        sc_adata = pickle.load(infile)"
   ]
  },
  {
   "cell_type": "code",
   "execution_count": null,
   "id": "786e2ab8",
   "metadata": {
    "scrolled": true
   },
   "outputs": [],
   "source": [
    "anndata_sub = subsample_anndata(sc_adata)"
   ]
  },
  {
   "cell_type": "code",
   "execution_count": null,
   "id": "9ae0114a",
   "metadata": {},
   "outputs": [],
   "source": [
    "subset_ref_pickle = f'{ref_run_name}/L5_20092022_sc_reference.pickle'"
   ]
  },
  {
   "cell_type": "code",
   "execution_count": null,
   "id": "9375b730",
   "metadata": {},
   "outputs": [],
   "source": [
    "with open(subset_ref_pickle, 'wb') as sc_pickle:\n",
    "    pickle.dump(anndata_sub, sc_pickle)"
   ]
  },
  {
   "cell_type": "code",
   "execution_count": null,
   "id": "24f1ce09",
   "metadata": {},
   "outputs": [],
   "source": [
    "with open(subset_ref_pickle, 'rb') as sc_pickle:\n",
    "    anndata_sub = pickle.load(sc_pickle)\n",
    "anndata_sub"
   ]
  },
  {
   "cell_type": "code",
   "execution_count": null,
   "id": "0d5db200",
   "metadata": {},
   "outputs": [],
   "source": [
    "lost_cell_types = [x for x in sc_adata.obs['Celltype_assigned'].unique() if x not in anndata_sub.obs['Celltype_assigned'].unique()]\n",
    "print(f'In the subset dataset, {\", \".join(lost_cell_types)} ({len(lost_cell_types)} cell type(s)) have been lost')"
   ]
  },
  {
   "cell_type": "code",
   "execution_count": null,
   "id": "6b0beb1d",
   "metadata": {
    "scrolled": true
   },
   "outputs": [],
   "source": [
    "anndata_sub.obs['Sample'] = 'Linnarsson'"
   ]
  },
  {
   "cell_type": "code",
   "execution_count": null,
   "id": "828ce4a8",
   "metadata": {
    "scrolled": true
   },
   "outputs": [],
   "source": [
    "anndata_sub_merge = merge_gene_symbol_duplicates(anndata_sub, symbol_column='Gene_no_alt')"
   ]
  },
  {
   "cell_type": "code",
   "execution_count": null,
   "id": "295b3133",
   "metadata": {
    "scrolled": false
   },
   "outputs": [],
   "source": [
    "#adata_vis.var['SYMBOL'] = adata_vis.var_names\n",
    "#adata_vis.var.set_index('gene_ids', drop=True, inplace=True)\n",
    "\n",
    "# find mitochondria-encoded (MT) genes\n",
    "adata_vis.var['MT_gene'] = [gene.startswith('MT-') for gene in adata_vis.var.index]\n",
    "\n",
    "# remove MT genes for spatial mapping (keeping their counts in the object)\n",
    "adata_vis.obsm['MT'] = adata_vis[:, adata_vis.var['MT_gene'].values].X.toarray()\n",
    "adata_vis = adata_vis[:, ~adata_vis.var['MT_gene'].values]\n",
    "\n",
    "# Read data\n",
    "adata_ref = anndata_sub_merge.copy()\n",
    "\n",
    "from cell2location.utils.filtering import filter_genes\n",
    "selected = filter_genes(adata_ref, cell_count_cutoff=5, cell_percentage_cutoff2=0.03, nonz_mean_cutoff=1.12)\n",
    "\n",
    "# filter the object\n",
    "adata_ref = adata_ref[:, selected].copy()"
   ]
  },
  {
   "cell_type": "code",
   "execution_count": null,
   "id": "055112d3",
   "metadata": {},
   "outputs": [],
   "source": [
    "# prepare anndata for the regression model\n",
    "cell2location.models.RegressionModel.setup_anndata(adata=adata_ref,\n",
    "                        # 10X reaction / sample / batch\n",
    "                        batch_key='Sample',\n",
    "                        # cell type, covariate used for constructing signatures\n",
    "                        labels_key='Celltype_assigned'\n",
    "                       )\n",
    "# create the regression model\n",
    "from cell2location.models import RegressionModel\n",
    "mod = RegressionModel(adata_ref)\n",
    "\n",
    "# view anndata_setup as a sanity check\n",
    "mod.view_anndata_setup()"
   ]
  },
  {
   "cell_type": "code",
   "execution_count": null,
   "id": "c22fb3b0",
   "metadata": {},
   "outputs": [],
   "source": [
    "torch.__version__"
   ]
  },
  {
   "cell_type": "code",
   "execution_count": null,
   "id": "6f036770",
   "metadata": {
    "scrolled": true
   },
   "outputs": [],
   "source": [
    "mod.train(max_epochs=400, use_gpu=True)"
   ]
  },
  {
   "cell_type": "code",
   "execution_count": null,
   "id": "5461c312",
   "metadata": {},
   "outputs": [],
   "source": [
    "mod.plot_history(20)"
   ]
  },
  {
   "cell_type": "code",
   "execution_count": null,
   "id": "76cbcff2",
   "metadata": {},
   "outputs": [],
   "source": [
    "mod.save(f\"{ref_run_name}\", overwrite=True)"
   ]
  },
  {
   "cell_type": "code",
   "execution_count": null,
   "id": "93154d34",
   "metadata": {
    "scrolled": true
   },
   "outputs": [],
   "source": [
    "# In this section, we export the estimated cell abundance (summary of the posterior distribution).\n",
    "adata_ref = mod.export_posterior(\n",
    "    adata_ref, sample_kwargs={'num_samples': 1000, 'batch_size': 1500, 'use_gpu': False}\n",
    ")\n",
    "\n",
    "# Save model\n",
    "mod.save(f\"{ref_run_name}\", overwrite=True)\n",
    "\n",
    "# Save anndata object with results\n",
    "adata_file = f\"{ref_run_name}/sc.h5ad\"\n",
    "adata_ref.write(adata_file)\n",
    "adata_file"
   ]
  },
  {
   "cell_type": "code",
   "execution_count": null,
   "id": "df50c77f",
   "metadata": {},
   "outputs": [],
   "source": [
    "mod.plot_QC()"
   ]
  },
  {
   "cell_type": "code",
   "execution_count": null,
   "id": "1301b207",
   "metadata": {},
   "outputs": [],
   "source": [
    "adata_file = f\"{ref_run_name}/sc.h5ad\"\n",
    "adata_ref = sc.read_h5ad(adata_file)\n",
    "mod = cell2location.models.RegressionModel.load(f\"{ref_run_name}\", adata_ref)"
   ]
  },
  {
   "cell_type": "code",
   "execution_count": null,
   "id": "ed81c382",
   "metadata": {
    "scrolled": true
   },
   "outputs": [],
   "source": [
    "# export estimated expression in each cluster\n",
    "if 'means_per_cluster_mu_fg' in adata_ref.varm.keys():\n",
    "    inf_aver = adata_ref.varm['means_per_cluster_mu_fg'][[f'means_per_cluster_mu_fg_{i}'\n",
    "                                    for i in adata_ref.uns['mod']['factor_names']]].copy()\n",
    "else:\n",
    "    inf_aver = adata_ref.var[[f'means_per_cluster_mu_fg_{i}'\n",
    "                                    for i in adata_ref.uns['mod']['factor_names']]].copy()\n",
    "inf_aver.columns = adata_ref.uns['mod']['factor_names']\n",
    "inf_aver.iloc[0:5, 0:5]"
   ]
  },
  {
   "cell_type": "code",
   "execution_count": null,
   "id": "ec6b4871",
   "metadata": {},
   "outputs": [],
   "source": [
    "non_duplicates = adata_vis.var[adata_vis.var.index.value_counts() == 1].index.tolist()\n",
    "#print(non_duplicates)\n",
    "adata_vis[:, adata_vis.var.index.isin(non_duplicates)]"
   ]
  },
  {
   "cell_type": "code",
   "execution_count": null,
   "id": "129c3c3b",
   "metadata": {},
   "outputs": [],
   "source": [
    "# find shared genes and subset both anndata and reference signatures\n",
    "intersect = np.intersect1d(adata_vis.var_names, inf_aver.index)\n",
    "adata_vis = adata_vis[:, intersect].copy()\n",
    "inf_aver = inf_aver.loc[intersect, :].copy()\n",
    "\n",
    "# prepare anndata for cell2location model\n",
    "cell2location.models.Cell2location.setup_anndata(adata=adata_vis, batch_key=\"sample\")"
   ]
  },
  {
   "cell_type": "code",
   "execution_count": null,
   "id": "d9769461",
   "metadata": {
    "scrolled": false
   },
   "outputs": [],
   "source": [
    "# create and train the model\n",
    "mod = cell2location.models.Cell2location(\n",
    "    adata_vis, cell_state_df=inf_aver,\n",
    "    # the expected average cell abundance: tissue-dependent\n",
    "    # hyper-prior which can be estimated from paired histology:\n",
    "    N_cells_per_location=30\n",
    "    ,\n",
    "    # hyperparameter controlling normalisation of\n",
    "    # within-experiment variation in RNA detection:\n",
    "    detection_alpha=20)\n",
    "mod.view_anndata_setup()"
   ]
  },
  {
   "cell_type": "code",
   "execution_count": null,
   "id": "deefa774",
   "metadata": {
    "scrolled": true
   },
   "outputs": [],
   "source": [
    "mod.train(max_epochs=30000,\n",
    "          # train using full data (batch_size=None)\n",
    "          batch_size=None,\n",
    "          # use all data points in training because\n",
    "          # we need to estimate cell abundance at all locations\n",
    "          train_size=1,\n",
    "          use_gpu=True)\n",
    "\n",
    "# plot ELBO loss history during training, removing first 100 epochs from the plot\n",
    "mod.plot_history(1000)\n",
    "plt.legend(labels=['full data training']);"
   ]
  },
  {
   "cell_type": "code",
   "execution_count": null,
   "id": "f0c2762c",
   "metadata": {
    "scrolled": true
   },
   "outputs": [],
   "source": [
    "adata_vis.obs.index = adata_vis.obs['feature'] + '-' + adata_vis.obs['sample'].astype('str')"
   ]
  },
  {
   "cell_type": "code",
   "execution_count": null,
   "id": "e53a651f",
   "metadata": {},
   "outputs": [],
   "source": [
    "# In this section, we export the estimated cell abundance (summary of the posterior distribution).\n",
    "adata_vis = mod.export_posterior(\n",
    "    adata_vis, sample_kwargs={'num_samples': 1000, 'batch_size': mod.adata.n_obs, 'use_gpu': True}\n",
    ")\n",
    "\n",
    "# Save model\n",
    "mod.save(f\"{run_name}\", overwrite=True)\n",
    "\n",
    "# mod = cell2location.models.Cell2location.load(f\"{run_name}\", adata_vis)\n",
    "\n",
    "# Save anndata object with results\n",
    "adata_file = f\"{run_name}/sp.h5ad\"\n",
    "adata_vis.write(adata_file)\n",
    "adata_file"
   ]
  },
  {
   "cell_type": "code",
   "execution_count": null,
   "id": "8dc9fcc1",
   "metadata": {
    "scrolled": false
   },
   "outputs": [],
   "source": [
    "mod.plot_QC()"
   ]
  },
  {
   "cell_type": "code",
   "execution_count": null,
   "id": "418ca2a5",
   "metadata": {
    "scrolled": true
   },
   "outputs": [],
   "source": [
    "sample='ST3_C2'\n",
    "slide = select_slide(adata_vis, sample)"
   ]
  },
  {
   "cell_type": "markdown",
   "id": "8f224ba4",
   "metadata": {},
   "source": [
    "['D1 Medium Spiny Neurons; mouse', 'D2 Medium Spiny Neurons; mouse', \n",
    "                         'Dopaminergic neurons; mouse', 'Oligodendrocytes; mouse',\n",
    "                         'Vascular leptomeningeal cells; mouse', 'Subventricular zone radial glia-like cells', \n",
    "                         'Telencephalon astrocytes, fibrous; mouse', 'Cortical projection neurons; mouse']"
   ]
  },
  {
   "cell_type": "code",
   "execution_count": null,
   "id": "6365aa37",
   "metadata": {
    "scrolled": false
   },
   "outputs": [],
   "source": [
    "# add 5% quantile, representing confident cell abundance, 'at least this amount is present',\n",
    "# to adata.obs with nice names for plotting\n",
    "adata_vis.obs[adata_vis.uns['mod']['factor_names']] = adata_vis.obsm['q05_cell_abundance_w_sf']\n",
    "\n",
    "# select one slide\n",
    "from cell2location.utils import select_slide\n",
    "slide = select_slide(adata_vis, sample)\n",
    "slide.obs[cell_types_perc] = slide.obs[cell_types].div(slide.obs[cell_types].sum(axis=0), axis=1)\n",
    "\n",
    "maximum_cell_perc = slide.obs[cell_types_perc].max().max()\n",
    "# plot in spatial coordinates\n",
    "with mpl.rc_context({'figure.figsize': [4.5, 5]}):\n",
    "    \n",
    "    \n",
    "\n",
    "    sc.pl.spatial(slide, cmap='jet',\n",
    "                  # show first 8 cell types\n",
    "                  color=cell_types_perc,\n",
    "                  ncols=4, size=1.3,                   \n",
    "                  img_key='hires',\n",
    "                  # limit color scale at 99.2% quantile of cell abundance\n",
    "                  vmin=0)                \n",
    "    "
   ]
  },
  {
   "cell_type": "code",
   "execution_count": null,
   "id": "175e89b4",
   "metadata": {
    "scrolled": false
   },
   "outputs": [],
   "source": [
    "with mpl.rc_context({'figure.figsize': [4.5, 5]}):\n",
    "    \n",
    "    \n",
    "\n",
    "    sc.pl.spatial(slide, cmap='jet',\n",
    "                  # show first 8 cell types\n",
    "                  color=cell_types,\n",
    "                  ncols=4, size=1.3,                   \n",
    "                  img_key='hires',\n",
    "                  # limit color scale at 99.2% quantile of cell abundance\n",
    "                  vmin=1, vmax=slide.obs[cell_types].max().max()\n",
    "                 )"
   ]
  },
  {
   "cell_type": "code",
   "execution_count": null,
   "id": "5bf0ebda",
   "metadata": {
    "scrolled": true
   },
   "outputs": [],
   "source": [
    "out_path = f'{results_folder}std_out/'\n",
    "os.makedirs(out_path, exist_ok=True)\n",
    "total_samples = len(adata_vis.obs['sample'].unique())\n",
    "for idx, sample in enumerate(adata_vis.obs['sample'].unique()):\n",
    "    print(f'Sample {idx+1}/{total_samples}, {sample}')\n",
    "    df_out = adata_vis.obs[adata_vis.obs['sample'] == sample][cell_types]\n",
    "    df_out.index = adata_vis.obs[adata_vis.obs['sample'] == sample].feature\n",
    "    df_out = df_out.divide(df_out.sum(axis=1), axis=0)\n",
    "    df_out.to_csv(f'{out_path}W.{sample}_cell_contribution.tsv', sep='\\t')"
   ]
  },
  {
   "cell_type": "code",
   "execution_count": null,
   "id": "d5448b95",
   "metadata": {
    "scrolled": true
   },
   "outputs": [],
   "source": [
    "df_out.sum(axis=1)"
   ]
  },
  {
   "cell_type": "code",
   "execution_count": null,
   "id": "ae929516",
   "metadata": {},
   "outputs": [],
   "source": [
    "slide.obs[cell_types].div(slide.obs[cell_types].sum(axis=1), axis=0)"
   ]
  },
  {
   "cell_type": "code",
   "execution_count": null,
   "id": "42321b32",
   "metadata": {
    "scrolled": false
   },
   "outputs": [],
   "source": [
    "# Now we use cell2location plotter that allows showing multiple cell types in one panel\n",
    "from cell2location.plt import plot_spatial\n",
    "\n",
    "# select up to 6 clusters\n",
    "clust_labels = ['Subventricular zone radial glia-like cells', \n",
    "                'Dopaminergic neurons; mouse', \n",
    "                'Vascular leptomeningeal cells; mouse']\n",
    "clust_col = ['' + str(i) for i in clust_labels] # in case column names differ from labels\n",
    "\n",
    "slide = select_slide(adata_vis, sample)\n",
    "\n",
    "with mpl.rc_context({'figure.figsize': (15, 15)}):\n",
    "    fig = plot_spatial(\n",
    "        adata=slide,\n",
    "        # labels to show on a plot\n",
    "        color=clust_col, labels=clust_labels,\n",
    "        show_img=True,\n",
    "        # 'fast' (white background) or 'dark_background'\n",
    "        style='fast',\n",
    "        # limit color scale at 99.2% quantile of cell abundance\n",
    "        max_color_quantile=0.992,\n",
    "        # size of locations (adjust depending on figure size)\n",
    "        circle_diameter=17,\n",
    "        colorbar_position='right'\n",
    "    )\n",
    "\n"
   ]
  },
  {
   "cell_type": "code",
   "execution_count": null,
   "id": "f34d1b7a",
   "metadata": {},
   "outputs": [],
   "source": [
    "# compute KNN using the cell2location output stored in adata.obsm\n",
    "sc.pp.neighbors(adata_vis, use_rep='q05_cell_abundance_w_sf',\n",
    "                n_neighbors = 15)\n",
    "\n",
    "# Cluster spots into regions using scanpy\n",
    "sc.tl.leiden(adata_vis, resolution=1.1)\n",
    "\n",
    "# add region as categorical variable\n",
    "adata_vis.obs[\"region_cluster\"] = adata_vis.obs[\"leiden\"].astype(\"category\")"
   ]
  },
  {
   "cell_type": "code",
   "execution_count": null,
   "id": "6cad2878",
   "metadata": {},
   "outputs": [],
   "source": [
    "# compute UMAP using KNN graph based on the cell2location output\n",
    "slide = select_slide(adata_vis, sample)\n",
    "sc.tl.umap(slide, min_dist = 0.3, spread = 1)\n",
    "\n",
    "# show regions in UMAP coordinates\n",
    "with mpl.rc_context({'axes.facecolor':  'white',\n",
    "                     'figure.figsize': [8, 8]}):\n",
    "    sc.pl.umap(slide, color=['region_cluster'], size=30,\n",
    "               color_map = 'RdPu', ncols = 2, legend_loc='on data',\n",
    "               legend_fontsize=20)\n",
    "    sc.pl.umap(slide, color=['sample'], size=30,\n",
    "               color_map = 'RdPu', ncols = 2,\n",
    "               legend_fontsize=20)\n",
    "\n",
    "# plot in spatial coordinates\n",
    "with mpl.rc_context({'axes.facecolor':  'black',\n",
    "                     'figure.figsize': [4.5, 5]}):\n",
    "    sc.pl.spatial(slide, color=['region_cluster'],\n",
    "                  size=1.3, img_key='hires', alpha=0.5)"
   ]
  },
  {
   "cell_type": "code",
   "execution_count": null,
   "id": "4cf2f120",
   "metadata": {},
   "outputs": [],
   "source": [
    "from cell2location import run_colocation\n",
    "res_dict, adata_vis = run_colocation(\n",
    "    adata_vis,\n",
    "    model_name='CoLocatedGroupsSklearnNMF',\n",
    "    train_args={\n",
    "      'n_fact': np.arange(11, 13), # IMPORTANT: use a wider range of the number of factors (5-30)\n",
    "      'sample_name_col': 'sample', # columns in adata_vis.obs that identifies sample\n",
    "      'n_restarts': 3 # number of training restarts\n",
    "    },\n",
    "    export_args={'path': f'{run_name}/CoLocatedComb/'}\n",
    ")"
   ]
  },
  {
   "cell_type": "code",
   "execution_count": null,
   "id": "6e1d6893",
   "metadata": {},
   "outputs": [],
   "source": [
    "# Here we plot the NMF weights (Same as saved to `cell_type_fractions_heatmap`)\n",
    "res_dict['n_fact12']['mod'].plot_cell_type_loadings()"
   ]
  },
  {
   "cell_type": "code",
   "execution_count": null,
   "id": "a80a4d77",
   "metadata": {},
   "outputs": [],
   "source": [
    "# Compute expected expression per cell type\n",
    "expected_dict = mod.module.model.compute_expected_per_cell_type(\n",
    "    mod.samples[\"post_sample_q05\"], mod.adata_manager\n",
    ")\n",
    "\n",
    "# Add to anndata layers\n",
    "for i, n in enumerate(mod.factor_names_):\n",
    "    adata_vis.layers[n] = expected_dict['mu'][i]\n",
    "\n",
    "# Save anndata object with results\n",
    "adata_file = f\"{run_name}/sp.h5ad\"\n",
    "adata_vis.write(adata_file)\n",
    "adata_file"
   ]
  },
  {
   "cell_type": "code",
   "execution_count": null,
   "id": "6380d691",
   "metadata": {},
   "outputs": [],
   "source": [
    "adata_vis.var"
   ]
  },
  {
   "cell_type": "code",
   "execution_count": null,
   "id": "08d6eb5f",
   "metadata": {},
   "outputs": [],
   "source": [
    "# list cell types and genes for plotting\n",
    "ctypes = ['Vascular leptomeningeal cells; mouse']\n",
    "genes = ['MBP']\n",
    "\n",
    "with mpl.rc_context({'axes.facecolor':  'black'}):\n",
    "    # select one slide\n",
    "    slide = select_slide(adata_vis, sample)\n",
    "\n",
    "    from tutorial_utils import plot_genes_per_cell_type\n",
    "    plot_genes_per_cell_type(slide, genes, ctypes);"
   ]
  }
 ],
 "metadata": {
  "kernelspec": {
   "display_name": "Python 3 (ipykernel)",
   "language": "python",
   "name": "python3"
  },
  "language_info": {
   "codemirror_mode": {
    "name": "ipython",
    "version": 3
   },
   "file_extension": ".py",
   "mimetype": "text/x-python",
   "name": "python",
   "nbconvert_exporter": "python",
   "pygments_lexer": "ipython3",
   "version": "3.9.12"
  }
 },
 "nbformat": 4,
 "nbformat_minor": 5
}
